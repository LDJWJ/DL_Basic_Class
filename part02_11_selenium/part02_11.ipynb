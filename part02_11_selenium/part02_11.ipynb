{
 "cells": [
  {
   "cell_type": "markdown",
   "metadata": {},
   "source": [
    "## 셀레니움 실습(동적)을 통해 알아보기\n",
    "### 학습 내용\n",
    "* <a href='#1'>(1) 웹 브라우저를 자동으로 띄워보기</a>\n",
    "* <a href='#2'>(2) 웹 페이지에 접속해 보기</a>\n",
    "* <a href='#3'>(3) id를 이용하여 웹 페이지 정보 가져오기</a>\n",
    "* <a href='#4'>(4) 태그이름을 이용하여 접근하기 </a>\n",
    "* <a href='#5'>(5) name을 이용하여 접근하기</a>\n",
    "* <a href='#6'>(6) 클래스 이름을 이용한 찾기</a>\n",
    "* <a href='#7'>(7) selector를 이용한 접근하기</a>\n",
    "* <a href='#8'>(8) Link Text를 이용하여 접근하기</a>\n",
    "* <a href='#9'>(9) 웹 제어(마우스 클릭, 텍스트 입력)</a>"
   ]
  },
  {
   "cell_type": "markdown",
   "metadata": {},
   "source": [
    "### 01. 기본 함수\n",
    " * 참조 URL : https://selenium-python.readthedocs.io/locating-elements.html"
   ]
  },
  {
   "cell_type": "markdown",
   "metadata": {},
   "source": [
    "### 하나의 DOM(객체)에 접근 - element\n",
    "```\n",
    "find_element_by_id   : id값을 이용하여 접근\n",
    "find_element_by_name : 속성 name를 이용하여 접근\n",
    "find_element_by_xpath : xpath를 이용하여 접근\n",
    "find_element_by_link_text  : a태그의 href를 이용하여 수집(쿼리 스트링 부분)\n",
    "find_element_by_partial_link_text : a태그의 href를 이용하여 수집(path를 이용)\n",
    "find_element_by_tag_name : 태그이름을 이용하여 접근\n",
    "find_element_by_class_name : 클래스 이름을 이용하여 접근\n",
    "find_element_by_css_selector : css selector를 이용하여 접근\n",
    "```"
   ]
  },
  {
   "cell_type": "markdown",
   "metadata": {},
   "source": [
    "### 여러개의 DOM(객체)에 접근 - elements\n",
    "```\n",
    "find_elements_by_name\n",
    "find_elements_by_xpath\n",
    "find_elements_by_link_text\n",
    "find_elements_by_partial_link_text\n",
    "find_elements_by_tag_name\n",
    "find_elements_by_class_name\n",
    "find_elements_by_css_selector\n",
    "```"
   ]
  },
  {
   "cell_type": "code",
   "execution_count": 13,
   "metadata": {},
   "outputs": [],
   "source": [
    "from IPython.display import display\n",
    "from PIL import Image"
   ]
  },
  {
   "cell_type": "markdown",
   "metadata": {},
   "source": [
    "<h2><a id='1'><strong>(1) 웹 브라우저를 자동으로 띄워보기</strong></a></h2>"
   ]
  },
  {
   "cell_type": "code",
   "execution_count": 12,
   "metadata": {},
   "outputs": [],
   "source": [
    "from selenium import webdriver\n",
    "\n",
    "driver = webdriver.Chrome('chromedriver_84') # 84버전 활용 "
   ]
  },
  {
   "cell_type": "code",
   "execution_count": 15,
   "metadata": {},
   "outputs": [
    {
     "data": {
      "image/png": "[encoded data removed]",
      "text/plain": [
       "<PIL.PngImagePlugin.PngImageFile image mode=RGB size=730x479 at 0x26C638EDCD0>"
      ]
     },
     "metadata": {},
     "output_type": "display_data"
    }
   ],
   "source": [
    "path = \"../img/selenium01.png\"\n",
    "display(Image.open(path))"
   ]
  },
  {
   "cell_type": "markdown",
   "metadata": {},
   "source": [
    "### (2) 웹 페이지에 접속해 보기 \n",
    " * 웹 브라우저를 띄우고 크롤러를 만들기 위한 사이트에 접속\n",
    " * get() 함수를 이용하면 지정된 url를 이용하여 사이트 접속이 가능"
   ]
  },
  {
   "cell_type": "code",
   "execution_count": 16,
   "metadata": {},
   "outputs": [],
   "source": [
    "url = 'https://pythonstart.github.io/web/'\n",
    "driver.get(url) # url 접속"
   ]
  },
  {
   "cell_type": "markdown",
   "metadata": {},
   "source": [
    "### (3) 일부 정보 id를 이용하여 가져오기\n",
    " * 요소(element)의 id의 속성(attribute)를 알 때, 사용.\n",
    " * find_element_by_id(\"id명\")\n",
    "    * id의 값과 일치하는 첫번째 요소를 가지고 온다.\n",
    " * find_elements_by_id(\"id명\")\n",
    "    * id의 값과 일치하는 전체 요소를 가지고 온다."
   ]
  },
  {
   "cell_type": "code",
   "execution_count": 17,
   "metadata": {},
   "outputs": [],
   "source": [
    "url = 'https://pythonstart.github.io/web/'\n",
    "driver.get(url)"
   ]
  },
  {
   "cell_type": "code",
   "execution_count": 18,
   "metadata": {},
   "outputs": [
    {
     "name": "stdout",
     "output_type": "stream",
     "text": [
      "<selenium.webdriver.remote.webelement.WebElement (session=\"f8019c29126286f909ea42d98f0ecf25\", element=\"72ad6fcd-2d32-47f3-9904-97600a92cca9\")>\n",
      "a\n",
      "10. 랭킹 정보 가져오기(웹 크롤링)\n"
     ]
    }
   ],
   "source": [
    "selected_id = driver.find_element_by_id('rank')\n",
    "print(selected_id)\n",
    "print(selected_id.tag_name)  # 해당 연결의 tag이름\n",
    "print(selected_id.text)      # 해당 태그의 text정보"
   ]
  },
  {
   "cell_type": "markdown",
   "metadata": {},
   "source": [
    "### (4) 태그이름을 이용하여 접근\n",
    "\n",
    " ```\n",
    " find_element_by_tag_name(\"태그명\")     # 하나\n",
    " find_elements_by_tag_name(\"태그명\")    # 여러개 \n",
    " ```"
   ]
  },
  {
   "cell_type": "markdown",
   "metadata": {},
   "source": [
    "<img src='../img/selenium04.png'>"
   ]
  },
  {
   "cell_type": "code",
   "execution_count": 19,
   "metadata": {},
   "outputs": [
    {
     "name": "stdout",
     "output_type": "stream",
     "text": [
      "<selenium.webdriver.remote.webelement.WebElement (session=\"f8019c29126286f909ea42d98f0ecf25\", element=\"8f2a695c-6dce-4ea4-86d0-1cebb41519b8\")>\n",
      "h1\n",
      "my web page\n"
     ]
    }
   ],
   "source": [
    "from selenium import webdriver\n",
    "\n",
    "url = 'https://pythonstart.github.io/web/'\n",
    "# driver = webdriver.Chrome('chromedriver')\n",
    "# driver = webdriver.Chrome('chromedriver_80')  _80은 버전을 의미\n",
    "driver.get(url)\n",
    "\n",
    "selected_tag_p = driver.find_element_by_tag_name('h1')\n",
    "print(selected_tag_p)\n",
    "print(selected_tag_p.tag_name)\n",
    "print(selected_tag_p.text)"
   ]
  },
  {
   "cell_type": "code",
   "execution_count": 20,
   "metadata": {},
   "outputs": [
    {
     "name": "stdout",
     "output_type": "stream",
     "text": [
      "[<selenium.webdriver.remote.webelement.WebElement (session=\"f8019c29126286f909ea42d98f0ecf25\", element=\"f0876e49-751d-403e-8ebf-274c18f9c3db\")>, <selenium.webdriver.remote.webelement.WebElement (session=\"f8019c29126286f909ea42d98f0ecf25\", element=\"c5eaeb2c-b243-4436-80d7-a3b7c10cf145\")>, <selenium.webdriver.remote.webelement.WebElement (session=\"f8019c29126286f909ea42d98f0ecf25\", element=\"6eefd94c-7983-4eb9-9c52-2194b0f150f6\")>, <selenium.webdriver.remote.webelement.WebElement (session=\"f8019c29126286f909ea42d98f0ecf25\", element=\"470d73f8-15a7-4d37-b147-fb9648b1ee27\")>, <selenium.webdriver.remote.webelement.WebElement (session=\"f8019c29126286f909ea42d98f0ecf25\", element=\"36b58e6e-a93b-4cae-8587-5c93b2874d47\")>, <selenium.webdriver.remote.webelement.WebElement (session=\"f8019c29126286f909ea42d98f0ecf25\", element=\"eb06d386-9c20-48d2-8194-852f5d484cfe\")>, <selenium.webdriver.remote.webelement.WebElement (session=\"f8019c29126286f909ea42d98f0ecf25\", element=\"a6b0f808-b09d-49ec-9aea-2a5d91daef2c\")>, <selenium.webdriver.remote.webelement.WebElement (session=\"f8019c29126286f909ea42d98f0ecf25\", element=\"90bad699-1455-4844-800c-6c1e071902ba\")>, <selenium.webdriver.remote.webelement.WebElement (session=\"f8019c29126286f909ea42d98f0ecf25\", element=\"efd2bcba-a7ba-4e3c-b78a-6aa8eba8eb10\")>, <selenium.webdriver.remote.webelement.WebElement (session=\"f8019c29126286f909ea42d98f0ecf25\", element=\"4a405ef1-6398-476a-9e30-4d8b97e20263\")>]\n"
     ]
    }
   ],
   "source": [
    "## 전체 a태그 정보 가져오기\n",
    "selected_tags_p = driver.find_elements_by_tag_name('a')\n",
    "print(selected_tags_p)"
   ]
  },
  {
   "cell_type": "markdown",
   "metadata": {},
   "source": [
    "### (5) name을 이용하여 접근\n",
    " * find_element_by_name(\"이름\")     # 하나\n",
    " * find_elements_by_name(\"이름\")    # 여러개 "
   ]
  },
  {
   "cell_type": "code",
   "execution_count": 21,
   "metadata": {},
   "outputs": [
    {
     "name": "stdout",
     "output_type": "stream",
     "text": [
      "<selenium.webdriver.remote.webelement.WebElement (session=\"f8019c29126286f909ea42d98f0ecf25\", element=\"b1685122-abd9-4ae0-bd1f-13f5d8e7f53f\")>\n",
      "a\n",
      "2\n"
     ]
    }
   ],
   "source": [
    "## meta 태그 - name='description' 가져오기\n",
    "from selenium import webdriver\n",
    "\n",
    "url = 'https://pythonstart.github.io/web/'\n",
    "# driver = webdriver.Chrome('chromedriver')\n",
    "driver.get(url)\n",
    "\n",
    "selected_name = driver.find_element_by_name('text_get')\n",
    "print(selected_name)     # WebElement 객체 확인\n",
    "print(selected_name.tag_name)  # 태그 이름 확인 \n",
    "\n",
    "# find_elements_by_name 이용해 보기\n",
    "# name이 'q'인것이 하나이기에 길이가 1인 리스트가 반환됨.\n",
    "selected_names = driver.find_elements_by_name('link_get')\n",
    "print(len(selected_names))"
   ]
  },
  {
   "cell_type": "markdown",
   "metadata": {},
   "source": [
    "### (6) 클래스 이름을 이용한 찾기\n",
    " * find_element_by_class_name과\n",
    " * find_elements_by_class_name"
   ]
  },
  {
   "cell_type": "markdown",
   "metadata": {},
   "source": [
    "### (7) selector를 이용한 접근\n",
    " * find_element_by_css_selector과\n",
    " * find_elements_by_css_selector\n",
    " \n",
    "```\n",
    "<html>\n",
    " <body>\n",
    "  <p class=\"content\">Content 부분</p>\n",
    "</body>\n",
    "<html>\n",
    "```\n",
    "content = driver.find_element_by_css_selector('p.content')"
   ]
  },
  {
   "cell_type": "code",
   "execution_count": 22,
   "metadata": {},
   "outputs": [
    {
     "name": "stdout",
     "output_type": "stream",
     "text": [
      "10. 랭킹 정보 가져오기(웹 크롤링)\n"
     ]
    }
   ],
   "source": [
    "url = 'https://pythonstart.github.io/web/'\n",
    "driver.get(url)\n",
    "\n",
    "content = driver.find_element_by_css_selector('body ul a#rank')\n",
    "print(content.text)"
   ]
  },
  {
   "cell_type": "markdown",
   "metadata": {},
   "source": [
    "### (8) Link Text를 이용하여 접근\n",
    " * a태그(anchor tag)의 link text로 접근하려고 할때 사용.\n",
    "```\n",
    "<html>\n",
    " <body>\n",
    "  <p>안녕하세요!</p>\n",
    "  <a href=\"continue.html\">Continue</a>\n",
    "  <a href=\"cancel.html\">Cancel</a>\n",
    "</body>\n",
    "<html>\n",
    "```\n",
    "continue_link = driver.find_element_by_link_text('Continue') <br>\n",
    "continue_link = driver.find_element_by_partial_link_text('Conti')"
   ]
  },
  {
   "cell_type": "code",
   "execution_count": 23,
   "metadata": {},
   "outputs": [
    {
     "name": "stdout",
     "output_type": "stream",
     "text": [
      "03. 링크 가져오기(a)\n"
     ]
    }
   ],
   "source": [
    "url = 'https://pythonstart.github.io/web/'\n",
    "driver.get(url)\n",
    "\n",
    "# link_test라는 링크를 가져온다. \n",
    "continue_link = driver.find_element_by_link_text('03. 링크 가져오기(a)')\n",
    "print(continue_link.text)"
   ]
  },
  {
   "cell_type": "markdown",
   "metadata": {},
   "source": [
    "<h2><strong id='8'>(9) 웹 제어하기 </strong></h2>\n",
    " * 마우스 제어\n",
    " * 키보드 제어\n",
    " * JavaScript 삽입"
   ]
  },
  {
   "cell_type": "markdown",
   "metadata": {},
   "source": [
    "### 9-1 마우스 제어\n",
    "* 뉴스 페이지 이동하여 뉴스 내용 중에 '주식'이라는 단어로 검색해 보기\n",
    "* 입력 : send_keys() 함수를 이용\n",
    "* 선택 : click() 함수를 이용"
   ]
  },
  {
   "cell_type": "code",
   "execution_count": 30,
   "metadata": {},
   "outputs": [
    {
     "name": "stdout",
     "output_type": "stream",
     "text": [
      "input\n",
      "\n",
      "button\n",
      "검색\n"
     ]
    }
   ],
   "source": [
    "from selenium import webdriver\n",
    "\n",
    "url = 'https://news.naver.com/'\n",
    "\n",
    "# driver = webdriver.Chrome('chromedriver_84')\n",
    "driver.get(url)\n",
    "\n",
    "# //*[@id=\"lnb.searchForm\"]/fieldset/input[1]\n",
    "sel_search = driver.find_element_by_xpath('//*[@id=\"lnb.searchForm\"]/fieldset/input[1]')\n",
    "\n",
    "print(sel_search.tag_name)\n",
    "print(sel_search.text)\n",
    "\n",
    "# //*[@id=\"lnb.searchForm\"]/fieldset/button\n",
    "sel_btn = driver.find_element_by_xpath('//*[@id=\"lnb.searchForm\"]/fieldset/button')\n",
    "\n",
    "print(sel_btn.tag_name)\n",
    "print(sel_btn.text)\n",
    "\n",
    "sel_search.send_keys(\"주식\")\n",
    "sel_btn.click()"
   ]
  },
  {
   "cell_type": "markdown",
   "metadata": {},
   "source": [
    "## 실습 1. 네이버 뉴스에서 원하는 기사를 검색 후, 해당 페이지로 이동하기"
   ]
  },
  {
   "cell_type": "code",
   "execution_count": 31,
   "metadata": {},
   "outputs": [
    {
     "name": "stdout",
     "output_type": "stream",
     "text": [
      "\n"
     ]
    }
   ],
   "source": [
    "from selenium import webdriver\n",
    "\n",
    "url = 'https://news.naver.com/'\n",
    "\n",
    "# driver = webdriver.Chrome('chromedriver')\n",
    "driver.get(url)\n",
    "\n",
    "# //*[@id=\"lnb.searchForm\"]/fieldset/input[1]  # 검색 내용 \n",
    "# //*[@id=\"lnb.searchForm\"]/fieldset/button/span  # 검색\n",
    "# text_today_main_news_801001 > li:nth-child(1) > div > a > strong\n",
    "selected_xpath = driver.find_element_by_xpath('//*[@id=\"lnb.searchForm\"]/fieldset/input[1]')\n",
    "selected_xpath_search = driver.find_element_by_xpath('//*[@id=\"lnb.searchForm\"]/fieldset/button/span')\n",
    "selected_xpath.send_keys('미세먼지')\n",
    "#print(selected_xpath.tag_name)\n",
    "print(selected_xpath.text)\n",
    "selected_xpath_search.click()"
   ]
  },
  {
   "cell_type": "markdown",
   "metadata": {},
   "source": [
    "Copyright 2020 LIM Co.(예영Edu Co.) all rights reserved. <br>\n",
    "교육용으로 작성된 것으로 배포 및 복제시에 사전 허가가 필요합니다. <br>"
   ]
  },
  {
   "cell_type": "markdown",
   "metadata": {},
   "source": [
    "#### history\n",
    " * 2020/09  v14 : 정보 업데이트, 일부 "
   ]
  }
 ],
 "metadata": {
  "kernelspec": {
   "display_name": "Python 3",
   "language": "python",
   "name": "python3"
  },
  "language_info": {
   "codemirror_mode": {
    "name": "ipython",
    "version": 3
   },
   "file_extension": ".py",
   "mimetype": "text/x-python",
   "name": "python",
   "nbconvert_exporter": "python",
   "pygments_lexer": "ipython3",
   "version": "3.8.3"
  }
 },
 "nbformat": 4,
 "nbformat_minor": 2
}
