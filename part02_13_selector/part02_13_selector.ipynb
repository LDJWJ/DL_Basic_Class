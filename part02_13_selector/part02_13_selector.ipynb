{
 "cells": [
  {
   "cell_type": "markdown",
   "metadata": {},
   "source": [
    "### 셀레니움 실습"
   ]
  },
  {
   "cell_type": "markdown",
   "metadata": {},
   "source": [
    "### 학습내용\n",
    "* selenium 을 이용해 보기 \n",
    "* css 을 이용하여 접근해 보기\n",
    "* select() 을 활용해 보기"
   ]
  },
  {
   "cell_type": "code",
   "execution_count": 15,
   "metadata": {},
   "outputs": [],
   "source": [
    "from selenium import webdriver\n",
    "from bs4 import BeautifulSoup"
   ]
  },
  {
   "cell_type": "code",
   "execution_count": 16,
   "metadata": {},
   "outputs": [],
   "source": [
    "import time\n",
    "import lxml\n",
    "\n",
    "url = 'https://pythonstart.github.io/web/'\n",
    "start = time.time()\n",
    "driver = webdriver.Chrome('../chromedriver_84')\n",
    "driver.get(url)"
   ]
  },
  {
   "cell_type": "markdown",
   "metadata": {},
   "source": [
    "### 01 css 을 이용하여 접근하기\n",
    "* find_elements_by_css_selector(\"태그명 태그명\")\n",
    "* find_elements_by_css_selector(\"태그명.id명\")\n",
    "* find_elements_by_css_selector(\"태그명#class명\")"
   ]
  },
  {
   "cell_type": "markdown",
   "metadata": {},
   "source": [
    "### 링크 정보 가져오기 (a tag)"
   ]
  },
  {
   "cell_type": "code",
   "execution_count": 17,
   "metadata": {},
   "outputs": [
    {
     "data": {
      "text/plain": [
       "[<selenium.webdriver.remote.webelement.WebElement (session=\"9d802af235e6fac9c81b7b2285a8d87b\", element=\"55fe50fd-eeef-48cd-95e8-4d44fe4e34f9\")>,\n",
       " <selenium.webdriver.remote.webelement.WebElement (session=\"9d802af235e6fac9c81b7b2285a8d87b\", element=\"da55cabe-6f41-4f36-a26b-464f07ed2e4c\")>,\n",
       " <selenium.webdriver.remote.webelement.WebElement (session=\"9d802af235e6fac9c81b7b2285a8d87b\", element=\"feda13ed-ff76-47eb-8937-78976a953a51\")>,\n",
       " <selenium.webdriver.remote.webelement.WebElement (session=\"9d802af235e6fac9c81b7b2285a8d87b\", element=\"27c747df-fc79-4644-bd19-1232b5a94747\")>,\n",
       " <selenium.webdriver.remote.webelement.WebElement (session=\"9d802af235e6fac9c81b7b2285a8d87b\", element=\"b3d8689d-0326-474c-8720-fc798a86379f\")>,\n",
       " <selenium.webdriver.remote.webelement.WebElement (session=\"9d802af235e6fac9c81b7b2285a8d87b\", element=\"d27e94d3-2cb7-4427-984c-f1da351a02ac\")>,\n",
       " <selenium.webdriver.remote.webelement.WebElement (session=\"9d802af235e6fac9c81b7b2285a8d87b\", element=\"ae005d34-bb0c-4773-9ee5-73f8810a966b\")>,\n",
       " <selenium.webdriver.remote.webelement.WebElement (session=\"9d802af235e6fac9c81b7b2285a8d87b\", element=\"51ebf520-3cd9-4165-8fb0-d77fa41c9101\")>,\n",
       " <selenium.webdriver.remote.webelement.WebElement (session=\"9d802af235e6fac9c81b7b2285a8d87b\", element=\"2b179fc7-ebf6-4f8e-b1a6-7df98eb85c80\")>,\n",
       " <selenium.webdriver.remote.webelement.WebElement (session=\"9d802af235e6fac9c81b7b2285a8d87b\", element=\"79335972-8bc0-4197-9d89-0297b671ae59\")>]"
      ]
     },
     "execution_count": 17,
     "metadata": {},
     "output_type": "execute_result"
    }
   ],
   "source": [
    "a_tag = driver.find_elements_by_css_selector(\"ul a\")\n",
    "a_tag"
   ]
  },
  {
   "cell_type": "markdown",
   "metadata": {},
   "source": [
    "### link(링크) 텍스의 일부를 활용하여 정보 얻기"
   ]
  },
  {
   "cell_type": "code",
   "execution_count": 18,
   "metadata": {},
   "outputs": [
    {
     "data": {
      "text/plain": [
       "'07. class를 활용한 정보 획득'"
      ]
     },
     "execution_count": 18,
     "metadata": {},
     "output_type": "execute_result"
    }
   ],
   "source": [
    "a_tag = driver.find_element_by_partial_link_text(\"class\")\n",
    "a_tag.text"
   ]
  },
  {
   "cell_type": "code",
   "execution_count": 19,
   "metadata": {},
   "outputs": [
    {
     "data": {
      "text/plain": [
       "'https://pythonstart.github.io/web/07.html'"
      ]
     },
     "execution_count": 19,
     "metadata": {},
     "output_type": "execute_result"
    }
   ],
   "source": [
    "## 해당 링크의 url 얻기\n",
    "href = a_tag.get_attribute(\"href\")\n",
    "href"
   ]
  },
  {
   "cell_type": "code",
   "execution_count": 20,
   "metadata": {},
   "outputs": [],
   "source": [
    "driver.get(href)  # \"07. class를 활용한 정보 획득\" 선택하기"
   ]
  },
  {
   "cell_type": "code",
   "execution_count": 21,
   "metadata": {},
   "outputs": [
    {
     "data": {
      "text/plain": [
       "'https://pythonstart.github.io/web/07.html'"
      ]
     },
     "execution_count": 21,
     "metadata": {},
     "output_type": "execute_result"
    }
   ],
   "source": [
    "### 현재 페이지 주소 확보\n",
    "driver.current_url"
   ]
  },
  {
   "cell_type": "markdown",
   "metadata": {},
   "source": [
    "### BeautifulSoup을 활용한 HTML 내용 구조화"
   ]
  },
  {
   "cell_type": "code",
   "execution_count": 22,
   "metadata": {},
   "outputs": [
    {
     "data": {
      "text/plain": [
       "<html><head></head><body>\n",
       "<div class=\"character\">\n",
       "오늘의 인기 캐릭터\n",
       "<ul>\n",
       "<li class=\"game\">파이터</li>\n",
       "<li class=\"game\">솔루히</li>\n",
       "<li class=\"game\">무적대장</li>\n",
       "<li class=\"game\">수호대장</li>\n",
       "</ul>\n",
       "</div>\n",
       "<div class=\"word\">\n",
       "오늘의 인기 키워드\n",
       "<ul>\n",
       "<li class=\"kw\">냉면</li>\n",
       "<li class=\"kw\">감자</li>\n",
       "<li class=\"kw\">오늘의 영화</li>\n",
       "<li class=\"kw\">할수있어</li>\n",
       "</ul>\n",
       "</div>\n",
       "<div class=\"comment\">\n",
       "오늘의 인기 댓글\n",
       "<ul>\n",
       "<li>냉면이 맛있어 보인다.</li>\n",
       "<li>연기가 조금 어색해.</li>\n",
       "<li>오늘의 영화로서 손색이 없어.</li>\n",
       "<li>할수 있다는 맘이 생겨.</li>\n",
       "</ul>\n",
       "</div>\n",
       "</body></html>"
      ]
     },
     "execution_count": 22,
     "metadata": {},
     "output_type": "execute_result"
    }
   ],
   "source": [
    "## 주어진 페이지 구조화\n",
    "soup = BeautifulSoup(driver.page_source, 'lxml')\n",
    "soup"
   ]
  },
  {
   "cell_type": "markdown",
   "metadata": {},
   "source": [
    "### 02 오늘의 인기 댓글 가져오기\n",
    "* select() 함수\n",
    "  * find_all() 처럼 리스트로 반환함."
   ]
  },
  {
   "cell_type": "code",
   "execution_count": 23,
   "metadata": {},
   "outputs": [
    {
     "data": {
      "text/plain": [
       "[<ul>\n",
       " <li class=\"game\">파이터</li>\n",
       " <li class=\"game\">솔루히</li>\n",
       " <li class=\"game\">무적대장</li>\n",
       " <li class=\"game\">수호대장</li>\n",
       " </ul>,\n",
       " <ul>\n",
       " <li class=\"kw\">냉면</li>\n",
       " <li class=\"kw\">감자</li>\n",
       " <li class=\"kw\">오늘의 영화</li>\n",
       " <li class=\"kw\">할수있어</li>\n",
       " </ul>,\n",
       " <ul>\n",
       " <li>냉면이 맛있어 보인다.</li>\n",
       " <li>연기가 조금 어색해.</li>\n",
       " <li>오늘의 영화로서 손색이 없어.</li>\n",
       " <li>할수 있다는 맘이 생겨.</li>\n",
       " </ul>]"
      ]
     },
     "execution_count": 23,
     "metadata": {},
     "output_type": "execute_result"
    }
   ],
   "source": [
    "# 전체 ul 태그 요소\n",
    "soup.select(\"ul\")"
   ]
  },
  {
   "cell_type": "code",
   "execution_count": 24,
   "metadata": {},
   "outputs": [
    {
     "data": {
      "text/plain": [
       "[<div class=\"word\">\n",
       " 오늘의 인기 키워드\n",
       " <ul>\n",
       " <li class=\"kw\">냉면</li>\n",
       " <li class=\"kw\">감자</li>\n",
       " <li class=\"kw\">오늘의 영화</li>\n",
       " <li class=\"kw\">할수있어</li>\n",
       " </ul>\n",
       " </div>]"
      ]
     },
     "execution_count": 24,
     "metadata": {},
     "output_type": "execute_result"
    }
   ],
   "source": [
    "# 오늘의 인기 키워드 (class명 word)\n",
    "soup.select(\".word\")"
   ]
  },
  {
   "cell_type": "code",
   "execution_count": 25,
   "metadata": {},
   "outputs": [
    {
     "data": {
      "text/plain": [
       "[<div class=\"comment\">\n",
       " 오늘의 인기 댓글\n",
       " <ul>\n",
       " <li>냉면이 맛있어 보인다.</li>\n",
       " <li>연기가 조금 어색해.</li>\n",
       " <li>오늘의 영화로서 손색이 없어.</li>\n",
       " <li>할수 있다는 맘이 생겨.</li>\n",
       " </ul>\n",
       " </div>]"
      ]
     },
     "execution_count": 25,
     "metadata": {},
     "output_type": "execute_result"
    }
   ],
   "source": [
    "# 오늘의 인기 댓글 (class명 comment)\n",
    "soup.select(\".comment\")"
   ]
  },
  {
   "cell_type": "code",
   "execution_count": 26,
   "metadata": {},
   "outputs": [
    {
     "data": {
      "text/plain": [
       "[<li class=\"kw\">냉면</li>,\n",
       " <li class=\"kw\">감자</li>,\n",
       " <li class=\"kw\">오늘의 영화</li>,\n",
       " <li class=\"kw\">할수있어</li>]"
      ]
     },
     "execution_count": 26,
     "metadata": {},
     "output_type": "execute_result"
    }
   ],
   "source": [
    "### 오늘의 인기 키워드 li 태그에 class가 kw\n",
    "soup.select(\"li.kw\")"
   ]
  },
  {
   "cell_type": "markdown",
   "metadata": {},
   "source": [
    "### 가져온 html 태그가 클 경우,\n",
    " * extract() 함수를 이용하여 필요없는 태그를 없애서 사용 할 수 있다.(style, script등)"
   ]
  },
  {
   "cell_type": "markdown",
   "metadata": {},
   "source": [
    "### 우리는 오늘의 인기 댓글을 지우자."
   ]
  },
  {
   "cell_type": "code",
   "execution_count": 27,
   "metadata": {},
   "outputs": [
    {
     "data": {
      "text/plain": [
       "<html><head></head><body>\n",
       "<div class=\"character\">\n",
       "오늘의 인기 캐릭터\n",
       "<ul>\n",
       "<li class=\"game\">파이터</li>\n",
       "<li class=\"game\">솔루히</li>\n",
       "<li class=\"game\">무적대장</li>\n",
       "<li class=\"game\">수호대장</li>\n",
       "</ul>\n",
       "</div>\n",
       "<div class=\"word\">\n",
       "오늘의 인기 키워드\n",
       "<ul>\n",
       "<li class=\"kw\">냉면</li>\n",
       "<li class=\"kw\">감자</li>\n",
       "<li class=\"kw\">오늘의 영화</li>\n",
       "<li class=\"kw\">할수있어</li>\n",
       "</ul>\n",
       "</div>\n",
       "<div class=\"comment\">\n",
       "오늘의 인기 댓글\n",
       "<ul>\n",
       "<li>냉면이 맛있어 보인다.</li>\n",
       "<li>연기가 조금 어색해.</li>\n",
       "<li>오늘의 영화로서 손색이 없어.</li>\n",
       "<li>할수 있다는 맘이 생겨.</li>\n",
       "</ul>\n",
       "</div>\n",
       "</body></html>"
      ]
     },
     "execution_count": 27,
     "metadata": {},
     "output_type": "execute_result"
    }
   ],
   "source": [
    "## 주어진 페이지 구조화\n",
    "soup = BeautifulSoup(driver.page_source, 'lxml')\n",
    "soup"
   ]
  },
  {
   "cell_type": "code",
   "execution_count": 28,
   "metadata": {},
   "outputs": [
    {
     "name": "stdout",
     "output_type": "stream",
     "text": [
      "<li class=\"kw\">냉면</li>\n",
      "<li class=\"kw\">감자</li>\n",
      "<li class=\"kw\">오늘의 영화</li>\n",
      "<li class=\"kw\">할수있어</li>\n",
      "====================== 제거후 확인\n",
      "<html><head></head><body>\n",
      "<div class=\"character\">\n",
      "오늘의 인기 캐릭터\n",
      "<ul>\n",
      "<li class=\"game\">파이터</li>\n",
      "<li class=\"game\">솔루히</li>\n",
      "<li class=\"game\">무적대장</li>\n",
      "<li class=\"game\">수호대장</li>\n",
      "</ul>\n",
      "</div>\n",
      "<div class=\"word\">\n",
      "오늘의 인기 키워드\n",
      "<ul>\n",
      "\n",
      "\n",
      "\n",
      "\n",
      "</ul>\n",
      "</div>\n",
      "<div class=\"comment\">\n",
      "오늘의 인기 댓글\n",
      "<ul>\n",
      "<li>냉면이 맛있어 보인다.</li>\n",
      "<li>연기가 조금 어색해.</li>\n",
      "<li>오늘의 영화로서 손색이 없어.</li>\n",
      "<li>할수 있다는 맘이 생겨.</li>\n",
      "</ul>\n",
      "</div>\n",
      "</body></html>\n"
     ]
    }
   ],
   "source": [
    "del_tag = soup.select(\"li.kw\")\n",
    "for item in del_tag:\n",
    "    print(item.extract())\n",
    "\n",
    "print(\"====================== 제거후 확인\")\n",
    "print(soup)"
   ]
  },
  {
   "cell_type": "code",
   "execution_count": null,
   "metadata": {},
   "outputs": [],
   "source": []
  }
 ],
 "metadata": {
  "kernelspec": {
   "display_name": "Python 3",
   "language": "python",
   "name": "python3"
  },
  "language_info": {
   "codemirror_mode": {
    "name": "ipython",
    "version": 3
   },
   "file_extension": ".py",
   "mimetype": "text/x-python",
   "name": "python",
   "nbconvert_exporter": "python",
   "pygments_lexer": "ipython3",
   "version": "3.8.3"
  }
 },
 "nbformat": 4,
 "nbformat_minor": 2
}
