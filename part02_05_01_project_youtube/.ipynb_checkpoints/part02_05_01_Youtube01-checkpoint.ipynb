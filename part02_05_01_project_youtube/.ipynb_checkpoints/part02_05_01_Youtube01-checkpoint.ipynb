{
 "cells": [
  {
   "cell_type": "markdown",
   "metadata": {},
   "source": [
    "### 유튜브 채널 데이터 수집\n",
    "* 하나의 채널의 동영상 제목과 조회수와 시간을 확인해보자"
   ]
  },
  {
   "cell_type": "code",
   "execution_count": 9,
   "metadata": {},
   "outputs": [],
   "source": [
    "from urllib.request import urlopen\n",
    "from bs4 import BeautifulSoup\n",
    "import time\n",
    "import re\n",
    "from selenium import webdriver"
   ]
  },
  {
   "cell_type": "code",
   "execution_count": 10,
   "metadata": {},
   "outputs": [],
   "source": [
    "## sk : https://www.youtube.com/c/SKtelecom/videos\n",
    "url = \"https://www.youtube.com/c/SKtelecom/videos\""
   ]
  },
  {
   "cell_type": "code",
   "execution_count": 13,
   "metadata": {},
   "outputs": [],
   "source": [
    "driver = webdriver.Chrome('../chromedriver_84.exe')\n",
    "driver.get(url)"
   ]
  },
  {
   "cell_type": "code",
   "execution_count": 14,
   "metadata": {},
   "outputs": [
    {
     "data": {
      "text/plain": [
       "<title>SK telecom - YouTube</title>"
      ]
     },
     "execution_count": 14,
     "metadata": {},
     "output_type": "execute_result"
    }
   ],
   "source": [
    "page = driver.page_source\n",
    "soup = BeautifulSoup(page, 'html.parser')\n",
    "soup.title"
   ]
  },
  {
   "cell_type": "markdown",
   "metadata": {},
   "source": [
    "### 하나의 영상 제목 얻어보기\n",
    " * 제목에 대한 요소 검사 후, class를 확인"
   ]
  },
  {
   "cell_type": "code",
   "execution_count": 15,
   "metadata": {},
   "outputs": [
    {
     "data": {
      "text/plain": [
       "'긴급 재난 문자 수신 설정 방법'"
      ]
     },
     "execution_count": 15,
     "metadata": {},
     "output_type": "execute_result"
    }
   ],
   "source": [
    "title = soup.find(\"a\", class_=\"yt-simple-endpoint style-scope ytd-grid-video-renderer\")\n",
    "title.text"
   ]
  },
  {
   "cell_type": "markdown",
   "metadata": {},
   "source": [
    "### 여러개의 영상에 대한 제목 얻기"
   ]
  },
  {
   "cell_type": "code",
   "execution_count": 16,
   "metadata": {},
   "outputs": [
    {
     "data": {
      "text/plain": [
       "[<a aria-label=\"긴급 재난 문자 수신 설정 방법 게시자: SK telecom 4일 전 2분 28초 조회수 609회\" class=\"yt-simple-endpoint style-scope ytd-grid-video-renderer\" href=\"/watch?v=6yjCu6EHyGY\" id=\"video-title\" title=\"긴급 재난 문자 수신 설정 방법\">긴급 재난 문자 수신 설정 방법</a>,\n",
       " <a aria-label=\"[SK텔레콤 5G] 누구든 보고 어디서든 느낄 수 있도록 ‘창덕ARirang at Home’ 게시자: SK telecom 4일 전 1분 1초 조회수 1,221회\" class=\"yt-simple-endpoint style-scope ytd-grid-video-renderer\" href=\"/watch?v=pg8U8cgRrvM\" id=\"video-title\" title=\"[SK텔레콤 5G] 누구든 보고 어디서든 느낄 수 있도록 ‘창덕ARirang at Home’\">[SK텔레콤 5G] 누구든 보고 어디서든 느낄 수 있도록 ‘창덕ARirang at Home’</a>,\n",
       " <a aria-label=\"행복을 드리는 SK텔레콤 고객센터 김은혜입니다 게시자: SK telecom 1주 전 3분 8초 조회수 33,509회\" class=\"yt-simple-endpoint style-scope ytd-grid-video-renderer\" href=\"/watch?v=3V3Rc7ZSBtc\" id=\"video-title\" title=\"행복을 드리는 SK텔레콤 고객센터 김은혜입니다\">행복을 드리는 SK텔레콤 고객센터 김은혜입니다</a>,\n",
       " <a aria-label=\"[SKT x 최태성] 언택트 시대 &amp; 4차 산업혁명, 기업의 미래는? 게시자: SK telecom 1주 전 10분 42초 조회수 41,476회\" class=\"yt-simple-endpoint style-scope ytd-grid-video-renderer\" href=\"/watch?v=13ItZE5DP8w\" id=\"video-title\" title=\"[SKT x 최태성] 언택트 시대 &amp; 4차 산업혁명, 기업의 미래는?\">[SKT x 최태성] 언택트 시대 &amp; 4차 산업혁명, 기업의 미래는?</a>,\n",
       " <a aria-label=\"T전화 활용하기_T114 업체 정보 등록 방법 게시자: SK telecom 1주 전 2분 33초 조회수 335회\" class=\"yt-simple-endpoint style-scope ytd-grid-video-renderer\" href=\"/watch?v=O4xhNM78N24\" id=\"video-title\" title=\"T전화 활용하기_T114 업체 정보 등록 방법\">T전화 활용하기_T114 업체 정보 등록 방법</a>,\n",
       " <a aria-label=\"임요환과 G식백과가 푹~ 빠진 이것은 무엇..!? 🎮SKT 5GX 클라우드 게임🎮 게시자: SK telecom 2주 전 1분 6초 조회수 4,416회\" class=\"yt-simple-endpoint style-scope ytd-grid-video-renderer\" href=\"/watch?v=pd5PIj631iU\" id=\"video-title\" title=\"임요환과 G식백과가 푹~ 빠진 이것은 무엇..!? 🎮SKT 5GX 클라우드 게임🎮\">임요환과 G식백과가 푹~ 빠진 이것은 무엇..!? 🎮SKT 5GX 클라우드 게임🎮</a>,\n",
       " <a aria-label=\"[SKT IMPACTUPS] 스마프 게시자: SK telecom 2주 전 2분 47초 조회수 389회\" class=\"yt-simple-endpoint style-scope ytd-grid-video-renderer\" href=\"/watch?v=zZ6YtpfHHOI\" id=\"video-title\" title=\"[SKT IMPACTUPS] 스마프\">[SKT IMPACTUPS] 스마프</a>,\n",
       " <a aria-label=\"[SKT IMPACTUPS] 칸필터 게시자: SK telecom 2주 전 2분 54초 조회수 152회\" class=\"yt-simple-endpoint style-scope ytd-grid-video-renderer\" href=\"/watch?v=O_LEBsZTypk\" id=\"video-title\" title=\"[SKT IMPACTUPS] 칸필터\">[SKT IMPACTUPS] 칸필터</a>,\n",
       " <a aria-label=\"[SK텔레콤] V 컬러링, 김연아의 힐링 편 게시자: SK telecom 2주 전 31초 조회수 6,366회\" class=\"yt-simple-endpoint style-scope ytd-grid-video-renderer\" href=\"/watch?v=p4Oo_efyETY\" id=\"video-title\" title=\"[SK텔레콤] V 컬러링, 김연아의 힐링 편\">[SK텔레콤] V 컬러링, 김연아의 힐링 편</a>,\n",
       " <a aria-label=\"[SK텔레콤] V 컬러링, 김연아의 구름이링 편 게시자: SK telecom 2주 전 31초 조회수 6,611회\" class=\"yt-simple-endpoint style-scope ytd-grid-video-renderer\" href=\"/watch?v=fW34q6eGMEc\" id=\"video-title\" title=\"[SK텔레콤] V 컬러링, 김연아의 구름이링 편\">[SK텔레콤] V 컬러링, 김연아의 구름이링 편</a>,\n",
       " <a aria-label=\"[SK텔레콤] V 컬러링, 김연아의 전화위복링 편 게시자: SK telecom 2주 전 31초 조회수 4,483회\" class=\"yt-simple-endpoint style-scope ytd-grid-video-renderer\" href=\"/watch?v=hfnEAT9RE_8\" id=\"video-title\" title=\"[SK텔레콤] V 컬러링, 김연아의 전화위복링 편\">[SK텔레콤] V 컬러링, 김연아의 전화위복링 편</a>,\n",
       " <a aria-label=\"[SK텔레콤] V 컬러링, 김연아의 매너링 편 게시자: SK telecom 2주 전 31초 조회수 5,508회\" class=\"yt-simple-endpoint style-scope ytd-grid-video-renderer\" href=\"/watch?v=ejwoUlYljyg\" id=\"video-title\" title=\"[SK텔레콤] V 컬러링, 김연아의 매너링 편\">[SK텔레콤] V 컬러링, 김연아의 매너링 편</a>,\n",
       " <a aria-label=\"[SK텔레콤] V 컬러링, 김연아의 힐링 콘텐츠 편 게시자: SK telecom 2주 전 31초 조회수 7,336회\" class=\"yt-simple-endpoint style-scope ytd-grid-video-renderer\" href=\"/watch?v=7jD_1X8DNdM\" id=\"video-title\" title=\"[SK텔레콤] V 컬러링, 김연아의 힐링 콘텐츠 편\">[SK텔레콤] V 컬러링, 김연아의 힐링 콘텐츠 편</a>,\n",
       " <a aria-label=\"♡나와 소중한 사람들을 위해 이번 추석은 여기서 만나요♡ (feat.미더스(MeetUs)) 게시자: SK telecom 2주 전 4분 36초 조회수 20,394회\" class=\"yt-simple-endpoint style-scope ytd-grid-video-renderer\" href=\"/watch?v=H59g84MwXpY\" id=\"video-title\" title=\"♡나와 소중한 사람들을 위해 이번 추석은 여기서 만나요♡ (feat.미더스(MeetUs))\">♡나와 소중한 사람들을 위해 이번 추석은 여기서 만나요♡ (feat.미더스(MeetUs))</a>,\n",
       " <a aria-label=\"[SKT IMPACTUPS] 유메인 게시자: SK telecom 2주 전 2분 23초 조회수 133회\" class=\"yt-simple-endpoint style-scope ytd-grid-video-renderer\" href=\"/watch?v=wR90tSBMOJ4\" id=\"video-title\" title=\"[SKT IMPACTUPS] 유메인\">[SKT IMPACTUPS] 유메인</a>,\n",
       " <a aria-label=\"[SKT IMPACTUPS] 수퍼빈 게시자: SK telecom 2주 전 2분 49초 조회수 74회\" class=\"yt-simple-endpoint style-scope ytd-grid-video-renderer\" href=\"/watch?v=tSbnnnEAvWw\" id=\"video-title\" title=\"[SKT IMPACTUPS] 수퍼빈\">[SKT IMPACTUPS] 수퍼빈</a>,\n",
       " <a aria-label=\"[SKT IMPACTUPS] 에이런 게시자: SK telecom 2주 전 3분 2초 조회수 141회\" class=\"yt-simple-endpoint style-scope ytd-grid-video-renderer\" href=\"/watch?v=RgnKDEBEtLE\" id=\"video-title\" title=\"[SKT IMPACTUPS] 에이런\">[SKT IMPACTUPS] 에이런</a>,\n",
       " <a aria-label=\"[SK텔레콤] V 컬러링, 김연아의 매너링 편 게시자: SK telecom 2주 전 28초 조회수 764,245회\" class=\"yt-simple-endpoint style-scope ytd-grid-video-renderer\" href=\"/watch?v=6kSI8WAAuuQ\" id=\"video-title\" title=\"[SK텔레콤] V 컬러링, 김연아의 매너링 편\">[SK텔레콤] V 컬러링, 김연아의 매너링 편</a>,\n",
       " <a aria-label=\"[SK텔레콤] V 컬러링, 김연아의 힐링 편 게시자: SK telecom 2주 전 31초 조회수 1,559,918회\" class=\"yt-simple-endpoint style-scope ytd-grid-video-renderer\" href=\"/watch?v=Z9nzBnPPg9A\" id=\"video-title\" title=\"[SK텔레콤] V 컬러링, 김연아의 힐링 편\">[SK텔레콤] V 컬러링, 김연아의 힐링 편</a>,\n",
       " <a aria-label=\"[SKT IMPACTUPS] atlab 게시자: SK telecom 2주 전 2분 38초 조회수 104회\" class=\"yt-simple-endpoint style-scope ytd-grid-video-renderer\" href=\"/watch?v=M97Al-uO7uE\" id=\"video-title\" title=\"[SKT IMPACTUPS] atlab\">[SKT IMPACTUPS] atlab</a>,\n",
       " <a aria-label=\"[SKT IMPACTUPS] H2K 게시자: SK telecom 2주 전 2분 16초 조회수 53회\" class=\"yt-simple-endpoint style-scope ytd-grid-video-renderer\" href=\"/watch?v=j4ivLgOuBcQ\" id=\"video-title\" title=\"[SKT IMPACTUPS] H2K\">[SKT IMPACTUPS] H2K</a>,\n",
       " <a aria-label=\"[SKT IMPACTUPS] 룩시드랩스 게시자: SK telecom 2주 전 3분 6초 조회수 60회\" class=\"yt-simple-endpoint style-scope ytd-grid-video-renderer\" href=\"/watch?v=lfxiiiKZobA\" id=\"video-title\" title=\"[SKT IMPACTUPS] 룩시드랩스\">[SKT IMPACTUPS] 룩시드랩스</a>,\n",
       " <a aria-label=\"[Like a Local] Only at SK Telecom! 게시자: SK telecom 3주 전 2분 24초 조회수 756회\" class=\"yt-simple-endpoint style-scope ytd-grid-video-renderer\" href=\"/watch?v=KLvdZnF2FZI\" id=\"video-title\" title=\"[Like a Local] Only at SK Telecom!\">[Like a Local] Only at SK Telecom!</a>,\n",
       " <a aria-label=\"[SKT IMPACTUPS] 닥터스팹 게시자: SK telecom 3주 전 3분 1초 조회수 179회\" class=\"yt-simple-endpoint style-scope ytd-grid-video-renderer\" href=\"/watch?v=vlxZO1mdXaI\" id=\"video-title\" title=\"[SKT IMPACTUPS] 닥터스팹\">[SKT IMPACTUPS] 닥터스팹</a>,\n",
       " <a aria-label=\"[SKT IMPACTUPS] 리그넘 게시자: SK telecom 3주 전 2분 3초 조회수 102회\" class=\"yt-simple-endpoint style-scope ytd-grid-video-renderer\" href=\"/watch?v=py8CzLbUw3k\" id=\"video-title\" title=\"[SKT IMPACTUPS] 리그넘\">[SKT IMPACTUPS] 리그넘</a>,\n",
       " <a aria-label=\"[SKT IMPACTUPS] 종합편 게시자: SK telecom 3주 전 1분 12초 조회수 140회\" class=\"yt-simple-endpoint style-scope ytd-grid-video-renderer\" href=\"/watch?v=auA4vmwootE\" id=\"video-title\" title=\"[SKT IMPACTUPS] 종합편\">[SKT IMPACTUPS] 종합편</a>,\n",
       " <a aria-label=\"🤳🏻이제 컬러링을 듣는게 아니라 본대..!!! 👀 (Feat.  V컬러링 체험기) 게시자: SK telecom 3주 전 5분 5초 조회수 37,994회\" class=\"yt-simple-endpoint style-scope ytd-grid-video-renderer\" href=\"/watch?v=Kfv08Lv1Wws\" id=\"video-title\" title=\"🤳🏻이제 컬러링을 듣는게 아니라 본대..!!! 👀 (Feat.  V컬러링 체험기)\">🤳🏻이제 컬러링을 듣는게 아니라 본대..!!! 👀 (Feat.  V컬러링 체험기)</a>,\n",
       " <a aria-label=\"[SK텔레콤] V 컬러링, 서장훈의 추석링 편 게시자: SK telecom 3주 전 31초 조회수 178,266회\" class=\"yt-simple-endpoint style-scope ytd-grid-video-renderer\" href=\"/watch?v=BJH3wSlTj5g\" id=\"video-title\" title=\"[SK텔레콤] V 컬러링, 서장훈의 추석링 편\">[SK텔레콤] V 컬러링, 서장훈의 추석링 편</a>,\n",
       " <a aria-label=\"[SK텔레콤] V 컬러링, 서장훈의 잔소링 편 게시자: SK telecom 3주 전 31초 조회수 171,895회\" class=\"yt-simple-endpoint style-scope ytd-grid-video-renderer\" href=\"/watch?v=JyKE_ZcFLz0\" id=\"video-title\" title=\"[SK텔레콤] V 컬러링, 서장훈의 잔소링 편\">[SK텔레콤] V 컬러링, 서장훈의 잔소링 편</a>,\n",
       " <a aria-label=\"[SK텔레콤] V 컬러링, 서장훈의 응원링 편 게시자: SK telecom 3주 전 31초 조회수 184,076회\" class=\"yt-simple-endpoint style-scope ytd-grid-video-renderer\" href=\"/watch?v=rUwcaZ5GdcE\" id=\"video-title\" title=\"[SK텔레콤] V 컬러링, 서장훈의 응원링 편\">[SK텔레콤] V 컬러링, 서장훈의 응원링 편</a>]"
      ]
     },
     "execution_count": 16,
     "metadata": {},
     "output_type": "execute_result"
    }
   ],
   "source": [
    "title = soup.find_all(\"a\", class_=\"yt-simple-endpoint style-scope ytd-grid-video-renderer\")\n",
    "title"
   ]
  },
  {
   "cell_type": "code",
   "execution_count": 17,
   "metadata": {},
   "outputs": [
    {
     "name": "stdout",
     "output_type": "stream",
     "text": [
      "긴급 재난 문자 수신 설정 방법\n",
      "[SK텔레콤 5G] 누구든 보고 어디서든 느낄 수 있도록 ‘창덕ARirang at Home’\n",
      "행복을 드리는 SK텔레콤 고객센터 김은혜입니다\n",
      "[SKT x 최태성] 언택트 시대 & 4차 산업혁명, 기업의 미래는?\n",
      "T전화 활용하기_T114 업체 정보 등록 방법\n",
      "임요환과 G식백과가 푹~ 빠진 이것은 무엇..!? 🎮SKT 5GX 클라우드 게임🎮\n",
      "[SKT IMPACTUPS] 스마프\n",
      "[SKT IMPACTUPS] 칸필터\n",
      "[SK텔레콤] V 컬러링, 김연아의 힐링 편\n",
      "[SK텔레콤] V 컬러링, 김연아의 구름이링 편\n",
      "[SK텔레콤] V 컬러링, 김연아의 전화위복링 편\n",
      "[SK텔레콤] V 컬러링, 김연아의 매너링 편\n",
      "[SK텔레콤] V 컬러링, 김연아의 힐링 콘텐츠 편\n",
      "♡나와 소중한 사람들을 위해 이번 추석은 여기서 만나요♡ (feat.미더스(MeetUs))\n",
      "[SKT IMPACTUPS] 유메인\n",
      "[SKT IMPACTUPS] 수퍼빈\n",
      "[SKT IMPACTUPS] 에이런\n",
      "[SK텔레콤] V 컬러링, 김연아의 매너링 편\n",
      "[SK텔레콤] V 컬러링, 김연아의 힐링 편\n",
      "[SKT IMPACTUPS] atlab\n",
      "[SKT IMPACTUPS] H2K\n",
      "[SKT IMPACTUPS] 룩시드랩스\n",
      "[Like a Local] Only at SK Telecom!\n",
      "[SKT IMPACTUPS] 닥터스팹\n",
      "[SKT IMPACTUPS] 리그넘\n",
      "[SKT IMPACTUPS] 종합편\n",
      "🤳🏻이제 컬러링을 듣는게 아니라 본대..!!! 👀 (Feat.  V컬러링 체험기)\n",
      "[SK텔레콤] V 컬러링, 서장훈의 추석링 편\n",
      "[SK텔레콤] V 컬러링, 서장훈의 잔소링 편\n",
      "[SK텔레콤] V 컬러링, 서장훈의 응원링 편\n"
     ]
    }
   ],
   "source": [
    "all_title = []\n",
    "for one in title:\n",
    " print(one.text)\n",
    " all_title.append(one.text)"
   ]
  },
  {
   "cell_type": "markdown",
   "metadata": {},
   "source": [
    "### 조회수를 가져와 보기"
   ]
  },
  {
   "cell_type": "code",
   "execution_count": 18,
   "metadata": {},
   "outputs": [
    {
     "data": {
      "text/plain": [
       "<span class=\"style-scope ytd-grid-video-renderer\">조회수 609회</span>"
      ]
     },
     "execution_count": 18,
     "metadata": {},
     "output_type": "execute_result"
    }
   ],
   "source": [
    "view = soup.find(\"span\", class_=\"style-scope ytd-grid-video-renderer\")\n",
    "view"
   ]
  },
  {
   "cell_type": "code",
   "execution_count": 19,
   "metadata": {},
   "outputs": [
    {
     "data": {
      "text/plain": [
       "'609회'"
      ]
     },
     "execution_count": 19,
     "metadata": {},
     "output_type": "execute_result"
    }
   ],
   "source": [
    "## 조회수 뽑기\n",
    "view.text[4:]"
   ]
  },
  {
   "cell_type": "markdown",
   "metadata": {},
   "source": [
    "### 전체 조회수를 가져와 보기"
   ]
  },
  {
   "cell_type": "code",
   "execution_count": 20,
   "metadata": {},
   "outputs": [
    {
     "data": {
      "text/plain": [
       "60"
      ]
     },
     "execution_count": 20,
     "metadata": {},
     "output_type": "execute_result"
    }
   ],
   "source": [
    "view = soup.find_all(\"span\", class_=\"style-scope ytd-grid-video-renderer\")\n",
    "len(view)"
   ]
  },
  {
   "cell_type": "code",
   "execution_count": 21,
   "metadata": {},
   "outputs": [
    {
     "data": {
      "text/plain": [
       "[<span class=\"style-scope ytd-grid-video-renderer\">조회수 609회</span>,\n",
       " <span class=\"style-scope ytd-grid-video-renderer\">4일 전</span>,\n",
       " <span class=\"style-scope ytd-grid-video-renderer\">조회수 1.2천회</span>,\n",
       " <span class=\"style-scope ytd-grid-video-renderer\">4일 전</span>,\n",
       " <span class=\"style-scope ytd-grid-video-renderer\">조회수 3.3만회</span>,\n",
       " <span class=\"style-scope ytd-grid-video-renderer\">1주 전</span>,\n",
       " <span class=\"style-scope ytd-grid-video-renderer\">조회수 4.1만회</span>,\n",
       " <span class=\"style-scope ytd-grid-video-renderer\">1주 전</span>,\n",
       " <span class=\"style-scope ytd-grid-video-renderer\">조회수 335회</span>,\n",
       " <span class=\"style-scope ytd-grid-video-renderer\">1주 전</span>,\n",
       " <span class=\"style-scope ytd-grid-video-renderer\">조회수 4.4천회</span>,\n",
       " <span class=\"style-scope ytd-grid-video-renderer\">2주 전</span>,\n",
       " <span class=\"style-scope ytd-grid-video-renderer\">조회수 389회</span>,\n",
       " <span class=\"style-scope ytd-grid-video-renderer\">2주 전</span>,\n",
       " <span class=\"style-scope ytd-grid-video-renderer\">조회수 152회</span>,\n",
       " <span class=\"style-scope ytd-grid-video-renderer\">2주 전</span>,\n",
       " <span class=\"style-scope ytd-grid-video-renderer\">조회수 6.3천회</span>,\n",
       " <span class=\"style-scope ytd-grid-video-renderer\">2주 전</span>,\n",
       " <span class=\"style-scope ytd-grid-video-renderer\">조회수 6.6천회</span>,\n",
       " <span class=\"style-scope ytd-grid-video-renderer\">2주 전</span>,\n",
       " <span class=\"style-scope ytd-grid-video-renderer\">조회수 4.4천회</span>,\n",
       " <span class=\"style-scope ytd-grid-video-renderer\">2주 전</span>,\n",
       " <span class=\"style-scope ytd-grid-video-renderer\">조회수 5.5천회</span>,\n",
       " <span class=\"style-scope ytd-grid-video-renderer\">2주 전</span>,\n",
       " <span class=\"style-scope ytd-grid-video-renderer\">조회수 7.3천회</span>,\n",
       " <span class=\"style-scope ytd-grid-video-renderer\">2주 전</span>,\n",
       " <span class=\"style-scope ytd-grid-video-renderer\">조회수 2만회</span>,\n",
       " <span class=\"style-scope ytd-grid-video-renderer\">2주 전</span>,\n",
       " <span class=\"style-scope ytd-grid-video-renderer\">조회수 133회</span>,\n",
       " <span class=\"style-scope ytd-grid-video-renderer\">2주 전</span>,\n",
       " <span class=\"style-scope ytd-grid-video-renderer\">조회수 74회</span>,\n",
       " <span class=\"style-scope ytd-grid-video-renderer\">2주 전</span>,\n",
       " <span class=\"style-scope ytd-grid-video-renderer\">조회수 141회</span>,\n",
       " <span class=\"style-scope ytd-grid-video-renderer\">2주 전</span>,\n",
       " <span class=\"style-scope ytd-grid-video-renderer\">조회수 76만회</span>,\n",
       " <span class=\"style-scope ytd-grid-video-renderer\">2주 전</span>,\n",
       " <span class=\"style-scope ytd-grid-video-renderer\">조회수 155만회</span>,\n",
       " <span class=\"style-scope ytd-grid-video-renderer\">2주 전</span>,\n",
       " <span class=\"style-scope ytd-grid-video-renderer\">조회수 104회</span>,\n",
       " <span class=\"style-scope ytd-grid-video-renderer\">2주 전</span>,\n",
       " <span class=\"style-scope ytd-grid-video-renderer\">조회수 53회</span>,\n",
       " <span class=\"style-scope ytd-grid-video-renderer\">2주 전</span>,\n",
       " <span class=\"style-scope ytd-grid-video-renderer\">조회수 60회</span>,\n",
       " <span class=\"style-scope ytd-grid-video-renderer\">2주 전</span>,\n",
       " <span class=\"style-scope ytd-grid-video-renderer\">조회수 756회</span>,\n",
       " <span class=\"style-scope ytd-grid-video-renderer\">3주 전</span>,\n",
       " <span class=\"style-scope ytd-grid-video-renderer\">조회수 179회</span>,\n",
       " <span class=\"style-scope ytd-grid-video-renderer\">3주 전</span>,\n",
       " <span class=\"style-scope ytd-grid-video-renderer\">조회수 102회</span>,\n",
       " <span class=\"style-scope ytd-grid-video-renderer\">3주 전</span>,\n",
       " <span class=\"style-scope ytd-grid-video-renderer\">조회수 140회</span>,\n",
       " <span class=\"style-scope ytd-grid-video-renderer\">3주 전</span>,\n",
       " <span class=\"style-scope ytd-grid-video-renderer\">조회수 3.7만회</span>,\n",
       " <span class=\"style-scope ytd-grid-video-renderer\">3주 전</span>,\n",
       " <span class=\"style-scope ytd-grid-video-renderer\">조회수 17만회</span>,\n",
       " <span class=\"style-scope ytd-grid-video-renderer\">3주 전</span>,\n",
       " <span class=\"style-scope ytd-grid-video-renderer\">조회수 17만회</span>,\n",
       " <span class=\"style-scope ytd-grid-video-renderer\">3주 전</span>,\n",
       " <span class=\"style-scope ytd-grid-video-renderer\">조회수 18만회</span>,\n",
       " <span class=\"style-scope ytd-grid-video-renderer\">3주 전</span>]"
      ]
     },
     "execution_count": 21,
     "metadata": {},
     "output_type": "execute_result"
    }
   ],
   "source": [
    "view"
   ]
  },
  {
   "cell_type": "code",
   "execution_count": 23,
   "metadata": {},
   "outputs": [],
   "source": [
    "view_all = []\n",
    "time_all = []\n",
    "cnt = 0\n",
    "for one in view:\n",
    " if cnt%2==0:\n",
    "     #print( one.text )\n",
    "     view_all.append(one.text)\n",
    " else:\n",
    "     #print( one.text )\n",
    "     time_all.append(one.text)\n",
    " cnt = cnt + 1"
   ]
  },
  {
   "cell_type": "code",
   "execution_count": 24,
   "metadata": {},
   "outputs": [
    {
     "data": {
      "text/plain": [
       "['조회수 609회',\n",
       " '조회수 1.2천회',\n",
       " '조회수 3.3만회',\n",
       " '조회수 4.1만회',\n",
       " '조회수 335회',\n",
       " '조회수 4.4천회',\n",
       " '조회수 389회',\n",
       " '조회수 152회',\n",
       " '조회수 6.3천회',\n",
       " '조회수 6.6천회',\n",
       " '조회수 4.4천회',\n",
       " '조회수 5.5천회',\n",
       " '조회수 7.3천회',\n",
       " '조회수 2만회',\n",
       " '조회수 133회',\n",
       " '조회수 74회',\n",
       " '조회수 141회',\n",
       " '조회수 76만회',\n",
       " '조회수 155만회',\n",
       " '조회수 104회',\n",
       " '조회수 53회',\n",
       " '조회수 60회',\n",
       " '조회수 756회',\n",
       " '조회수 179회',\n",
       " '조회수 102회',\n",
       " '조회수 140회',\n",
       " '조회수 3.7만회',\n",
       " '조회수 17만회',\n",
       " '조회수 17만회',\n",
       " '조회수 18만회']"
      ]
     },
     "execution_count": 24,
     "metadata": {},
     "output_type": "execute_result"
    }
   ],
   "source": [
    "### 조회수\n",
    "view_all"
   ]
  },
  {
   "cell_type": "code",
   "execution_count": 25,
   "metadata": {},
   "outputs": [
    {
     "data": {
      "text/plain": [
       "['4일 전',\n",
       " '4일 전',\n",
       " '1주 전',\n",
       " '1주 전',\n",
       " '1주 전',\n",
       " '2주 전',\n",
       " '2주 전',\n",
       " '2주 전',\n",
       " '2주 전',\n",
       " '2주 전',\n",
       " '2주 전',\n",
       " '2주 전',\n",
       " '2주 전',\n",
       " '2주 전',\n",
       " '2주 전',\n",
       " '2주 전',\n",
       " '2주 전',\n",
       " '2주 전',\n",
       " '2주 전',\n",
       " '2주 전',\n",
       " '2주 전',\n",
       " '2주 전',\n",
       " '3주 전',\n",
       " '3주 전',\n",
       " '3주 전',\n",
       " '3주 전',\n",
       " '3주 전',\n",
       " '3주 전',\n",
       " '3주 전',\n",
       " '3주 전']"
      ]
     },
     "execution_count": 25,
     "metadata": {},
     "output_type": "execute_result"
    }
   ],
   "source": [
    "### 조회수\n",
    "time_all"
   ]
  },
  {
   "cell_type": "code",
   "execution_count": 26,
   "metadata": {},
   "outputs": [
    {
     "name": "stdout",
     "output_type": "stream",
     "text": [
      "30 30 30\n"
     ]
    }
   ],
   "source": [
    "print(len(all_title), len(view_all), len(time_all))"
   ]
  },
  {
   "cell_type": "code",
   "execution_count": 27,
   "metadata": {},
   "outputs": [],
   "source": [
    "import pandas as pd"
   ]
  },
  {
   "cell_type": "code",
   "execution_count": 28,
   "metadata": {},
   "outputs": [
    {
     "data": {
      "text/html": [
       "<div>\n",
       "<style scoped>\n",
       "    .dataframe tbody tr th:only-of-type {\n",
       "        vertical-align: middle;\n",
       "    }\n",
       "\n",
       "    .dataframe tbody tr th {\n",
       "        vertical-align: top;\n",
       "    }\n",
       "\n",
       "    .dataframe thead th {\n",
       "        text-align: right;\n",
       "    }\n",
       "</style>\n",
       "<table border=\"1\" class=\"dataframe\">\n",
       "  <thead>\n",
       "    <tr style=\"text-align: right;\">\n",
       "      <th></th>\n",
       "      <th>영화제목</th>\n",
       "      <th>조회수</th>\n",
       "      <th>시간</th>\n",
       "    </tr>\n",
       "  </thead>\n",
       "  <tbody>\n",
       "    <tr>\n",
       "      <th>0</th>\n",
       "      <td>긴급 재난 문자 수신 설정 방법</td>\n",
       "      <td>조회수 609회</td>\n",
       "      <td>4일 전</td>\n",
       "    </tr>\n",
       "    <tr>\n",
       "      <th>1</th>\n",
       "      <td>[SK텔레콤 5G] 누구든 보고 어디서든 느낄 수 있도록 ‘창덕ARirang at ...</td>\n",
       "      <td>조회수 1.2천회</td>\n",
       "      <td>4일 전</td>\n",
       "    </tr>\n",
       "    <tr>\n",
       "      <th>2</th>\n",
       "      <td>행복을 드리는 SK텔레콤 고객센터 김은혜입니다</td>\n",
       "      <td>조회수 3.3만회</td>\n",
       "      <td>1주 전</td>\n",
       "    </tr>\n",
       "    <tr>\n",
       "      <th>3</th>\n",
       "      <td>[SKT x 최태성] 언택트 시대 &amp; 4차 산업혁명, 기업의 미래는?</td>\n",
       "      <td>조회수 4.1만회</td>\n",
       "      <td>1주 전</td>\n",
       "    </tr>\n",
       "    <tr>\n",
       "      <th>4</th>\n",
       "      <td>T전화 활용하기_T114 업체 정보 등록 방법</td>\n",
       "      <td>조회수 335회</td>\n",
       "      <td>1주 전</td>\n",
       "    </tr>\n",
       "    <tr>\n",
       "      <th>5</th>\n",
       "      <td>임요환과 G식백과가 푹~ 빠진 이것은 무엇..!? 🎮SKT 5GX 클라우드 게임🎮</td>\n",
       "      <td>조회수 4.4천회</td>\n",
       "      <td>2주 전</td>\n",
       "    </tr>\n",
       "    <tr>\n",
       "      <th>6</th>\n",
       "      <td>[SKT IMPACTUPS] 스마프</td>\n",
       "      <td>조회수 389회</td>\n",
       "      <td>2주 전</td>\n",
       "    </tr>\n",
       "    <tr>\n",
       "      <th>7</th>\n",
       "      <td>[SKT IMPACTUPS] 칸필터</td>\n",
       "      <td>조회수 152회</td>\n",
       "      <td>2주 전</td>\n",
       "    </tr>\n",
       "    <tr>\n",
       "      <th>8</th>\n",
       "      <td>[SK텔레콤] V 컬러링, 김연아의 힐링 편</td>\n",
       "      <td>조회수 6.3천회</td>\n",
       "      <td>2주 전</td>\n",
       "    </tr>\n",
       "    <tr>\n",
       "      <th>9</th>\n",
       "      <td>[SK텔레콤] V 컬러링, 김연아의 구름이링 편</td>\n",
       "      <td>조회수 6.6천회</td>\n",
       "      <td>2주 전</td>\n",
       "    </tr>\n",
       "    <tr>\n",
       "      <th>10</th>\n",
       "      <td>[SK텔레콤] V 컬러링, 김연아의 전화위복링 편</td>\n",
       "      <td>조회수 4.4천회</td>\n",
       "      <td>2주 전</td>\n",
       "    </tr>\n",
       "    <tr>\n",
       "      <th>11</th>\n",
       "      <td>[SK텔레콤] V 컬러링, 김연아의 매너링 편</td>\n",
       "      <td>조회수 5.5천회</td>\n",
       "      <td>2주 전</td>\n",
       "    </tr>\n",
       "    <tr>\n",
       "      <th>12</th>\n",
       "      <td>[SK텔레콤] V 컬러링, 김연아의 힐링 콘텐츠 편</td>\n",
       "      <td>조회수 7.3천회</td>\n",
       "      <td>2주 전</td>\n",
       "    </tr>\n",
       "    <tr>\n",
       "      <th>13</th>\n",
       "      <td>♡나와 소중한 사람들을 위해 이번 추석은 여기서 만나요♡ (feat.미더스(Meet...</td>\n",
       "      <td>조회수 2만회</td>\n",
       "      <td>2주 전</td>\n",
       "    </tr>\n",
       "    <tr>\n",
       "      <th>14</th>\n",
       "      <td>[SKT IMPACTUPS] 유메인</td>\n",
       "      <td>조회수 133회</td>\n",
       "      <td>2주 전</td>\n",
       "    </tr>\n",
       "    <tr>\n",
       "      <th>15</th>\n",
       "      <td>[SKT IMPACTUPS] 수퍼빈</td>\n",
       "      <td>조회수 74회</td>\n",
       "      <td>2주 전</td>\n",
       "    </tr>\n",
       "    <tr>\n",
       "      <th>16</th>\n",
       "      <td>[SKT IMPACTUPS] 에이런</td>\n",
       "      <td>조회수 141회</td>\n",
       "      <td>2주 전</td>\n",
       "    </tr>\n",
       "    <tr>\n",
       "      <th>17</th>\n",
       "      <td>[SK텔레콤] V 컬러링, 김연아의 매너링 편</td>\n",
       "      <td>조회수 76만회</td>\n",
       "      <td>2주 전</td>\n",
       "    </tr>\n",
       "    <tr>\n",
       "      <th>18</th>\n",
       "      <td>[SK텔레콤] V 컬러링, 김연아의 힐링 편</td>\n",
       "      <td>조회수 155만회</td>\n",
       "      <td>2주 전</td>\n",
       "    </tr>\n",
       "    <tr>\n",
       "      <th>19</th>\n",
       "      <td>[SKT IMPACTUPS] atlab</td>\n",
       "      <td>조회수 104회</td>\n",
       "      <td>2주 전</td>\n",
       "    </tr>\n",
       "    <tr>\n",
       "      <th>20</th>\n",
       "      <td>[SKT IMPACTUPS] H2K</td>\n",
       "      <td>조회수 53회</td>\n",
       "      <td>2주 전</td>\n",
       "    </tr>\n",
       "    <tr>\n",
       "      <th>21</th>\n",
       "      <td>[SKT IMPACTUPS] 룩시드랩스</td>\n",
       "      <td>조회수 60회</td>\n",
       "      <td>2주 전</td>\n",
       "    </tr>\n",
       "    <tr>\n",
       "      <th>22</th>\n",
       "      <td>[Like a Local] Only at SK Telecom!</td>\n",
       "      <td>조회수 756회</td>\n",
       "      <td>3주 전</td>\n",
       "    </tr>\n",
       "    <tr>\n",
       "      <th>23</th>\n",
       "      <td>[SKT IMPACTUPS] 닥터스팹</td>\n",
       "      <td>조회수 179회</td>\n",
       "      <td>3주 전</td>\n",
       "    </tr>\n",
       "    <tr>\n",
       "      <th>24</th>\n",
       "      <td>[SKT IMPACTUPS] 리그넘</td>\n",
       "      <td>조회수 102회</td>\n",
       "      <td>3주 전</td>\n",
       "    </tr>\n",
       "    <tr>\n",
       "      <th>25</th>\n",
       "      <td>[SKT IMPACTUPS] 종합편</td>\n",
       "      <td>조회수 140회</td>\n",
       "      <td>3주 전</td>\n",
       "    </tr>\n",
       "    <tr>\n",
       "      <th>26</th>\n",
       "      <td>🤳🏻이제 컬러링을 듣는게 아니라 본대..!!! 👀 (Feat.  V컬러링 체험기)</td>\n",
       "      <td>조회수 3.7만회</td>\n",
       "      <td>3주 전</td>\n",
       "    </tr>\n",
       "    <tr>\n",
       "      <th>27</th>\n",
       "      <td>[SK텔레콤] V 컬러링, 서장훈의 추석링 편</td>\n",
       "      <td>조회수 17만회</td>\n",
       "      <td>3주 전</td>\n",
       "    </tr>\n",
       "    <tr>\n",
       "      <th>28</th>\n",
       "      <td>[SK텔레콤] V 컬러링, 서장훈의 잔소링 편</td>\n",
       "      <td>조회수 17만회</td>\n",
       "      <td>3주 전</td>\n",
       "    </tr>\n",
       "    <tr>\n",
       "      <th>29</th>\n",
       "      <td>[SK텔레콤] V 컬러링, 서장훈의 응원링 편</td>\n",
       "      <td>조회수 18만회</td>\n",
       "      <td>3주 전</td>\n",
       "    </tr>\n",
       "  </tbody>\n",
       "</table>\n",
       "</div>"
      ],
      "text/plain": [
       "                                                 영화제목        조회수    시간\n",
       "0                                   긴급 재난 문자 수신 설정 방법   조회수 609회  4일 전\n",
       "1   [SK텔레콤 5G] 누구든 보고 어디서든 느낄 수 있도록 ‘창덕ARirang at ...  조회수 1.2천회  4일 전\n",
       "2                           행복을 드리는 SK텔레콤 고객센터 김은혜입니다  조회수 3.3만회  1주 전\n",
       "3              [SKT x 최태성] 언택트 시대 & 4차 산업혁명, 기업의 미래는?  조회수 4.1만회  1주 전\n",
       "4                           T전화 활용하기_T114 업체 정보 등록 방법   조회수 335회  1주 전\n",
       "5       임요환과 G식백과가 푹~ 빠진 이것은 무엇..!? 🎮SKT 5GX 클라우드 게임🎮  조회수 4.4천회  2주 전\n",
       "6                                 [SKT IMPACTUPS] 스마프   조회수 389회  2주 전\n",
       "7                                 [SKT IMPACTUPS] 칸필터   조회수 152회  2주 전\n",
       "8                            [SK텔레콤] V 컬러링, 김연아의 힐링 편  조회수 6.3천회  2주 전\n",
       "9                          [SK텔레콤] V 컬러링, 김연아의 구름이링 편  조회수 6.6천회  2주 전\n",
       "10                        [SK텔레콤] V 컬러링, 김연아의 전화위복링 편  조회수 4.4천회  2주 전\n",
       "11                          [SK텔레콤] V 컬러링, 김연아의 매너링 편  조회수 5.5천회  2주 전\n",
       "12                       [SK텔레콤] V 컬러링, 김연아의 힐링 콘텐츠 편  조회수 7.3천회  2주 전\n",
       "13  ♡나와 소중한 사람들을 위해 이번 추석은 여기서 만나요♡ (feat.미더스(Meet...    조회수 2만회  2주 전\n",
       "14                                [SKT IMPACTUPS] 유메인   조회수 133회  2주 전\n",
       "15                                [SKT IMPACTUPS] 수퍼빈    조회수 74회  2주 전\n",
       "16                                [SKT IMPACTUPS] 에이런   조회수 141회  2주 전\n",
       "17                          [SK텔레콤] V 컬러링, 김연아의 매너링 편   조회수 76만회  2주 전\n",
       "18                           [SK텔레콤] V 컬러링, 김연아의 힐링 편  조회수 155만회  2주 전\n",
       "19                              [SKT IMPACTUPS] atlab   조회수 104회  2주 전\n",
       "20                                [SKT IMPACTUPS] H2K    조회수 53회  2주 전\n",
       "21                              [SKT IMPACTUPS] 룩시드랩스    조회수 60회  2주 전\n",
       "22                 [Like a Local] Only at SK Telecom!   조회수 756회  3주 전\n",
       "23                               [SKT IMPACTUPS] 닥터스팹   조회수 179회  3주 전\n",
       "24                                [SKT IMPACTUPS] 리그넘   조회수 102회  3주 전\n",
       "25                                [SKT IMPACTUPS] 종합편   조회수 140회  3주 전\n",
       "26      🤳🏻이제 컬러링을 듣는게 아니라 본대..!!! 👀 (Feat.  V컬러링 체험기)  조회수 3.7만회  3주 전\n",
       "27                          [SK텔레콤] V 컬러링, 서장훈의 추석링 편   조회수 17만회  3주 전\n",
       "28                          [SK텔레콤] V 컬러링, 서장훈의 잔소링 편   조회수 17만회  3주 전\n",
       "29                          [SK텔레콤] V 컬러링, 서장훈의 응원링 편   조회수 18만회  3주 전"
      ]
     },
     "execution_count": 28,
     "metadata": {},
     "output_type": "execute_result"
    }
   ],
   "source": [
    "dat = {\"영화제목\":all_title, \"조회수\":view_all, \"시간\":time_all}\n",
    "all_data = pd.DataFrame(dat)\n",
    "all_data"
   ]
  },
  {
   "cell_type": "code",
   "execution_count": 29,
   "metadata": {},
   "outputs": [],
   "source": [
    "### 파일로 만들기\n",
    "all_data.to_excel(\"sk_youtube.xlsx\", index=False)"
   ]
  }
 ],
 "metadata": {
  "kernelspec": {
   "display_name": "Python 3",
   "language": "python",
   "name": "python3"
  },
  "language_info": {
   "codemirror_mode": {
    "name": "ipython",
    "version": 3
   },
   "file_extension": ".py",
   "mimetype": "text/x-python",
   "name": "python",
   "nbconvert_exporter": "python",
   "pygments_lexer": "ipython3",
   "version": "3.7.3"
  }
 },
 "nbformat": 4,
 "nbformat_minor": 2
}
