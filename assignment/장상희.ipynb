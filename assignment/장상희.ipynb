{
 "cells": [
  {
   "cell_type": "code",
   "execution_count": 35,
   "metadata": {},
   "outputs": [
    {
     "name": "stdout",
     "output_type": "stream",
     "text": [
      "현재 기온은 몇도예요? :18\n",
      "긴바지 입으세요\n"
     ]
    }
   ],
   "source": [
    "### 9월 25일까지\n",
    "### 문제1. 현재의 기온을 입력받아 if문을 이용하여\n",
    "###       -> 27도 이상이면 반바지를 입으세요\n",
    "###       -> 27도 미만이면 긴바지를 입으세요\n",
    "\n",
    "number = input (\"현재 기온은 몇도예요? :\")\n",
    "\n",
    "if int(number) >= 27 :\n",
    "    print(\"반바지 입으세요\")\n",
    "else:\n",
    "    print(\"긴바지 입으세요\")"
   ]
  },
  {
   "cell_type": "code",
   "execution_count": 74,
   "metadata": {},
   "outputs": [
    {
     "name": "stdout",
     "output_type": "stream",
     "text": [
      "홀짝을 알아맞춰 봅시다:8\n",
      "짝\n"
     ]
    }
   ],
   "source": [
    "### 문제2. 정수를 입력받아\n",
    "###        -> 입력된 값이 짝수이면 출력\n",
    "###        -> 입력된 값이 홀수이면 홀수라교 출력\n",
    "###        -> (Hint) % 연산자 이용해보기\n",
    "\n",
    "number = input(\"홀짝을 알아맞춰 봅시다:\")\n",
    "\n",
    "if int(number) % 2 == 0 :\n",
    "    print (\"짝\")\n",
    "elif int(number) % 2 ==  1:\n",
    "    print(\"홀\")"
   ]
  },
  {
   "cell_type": "code",
   "execution_count": 89,
   "metadata": {},
   "outputs": [
    {
     "name": "stdout",
     "output_type": "stream",
     "text": [
      "몇점이세요? :75\n",
      "초심자\n"
     ]
    }
   ],
   "source": [
    "### 문제3. 성적을 입력받아\n",
    "###     -> 95점 이상이면 그랜드 마스터\n",
    "###     -> 90점 이상이면 커널 마스터\n",
    "###     -> 80점 이상이면 익스퍼트\n",
    "###     -> 70점 이상이면 초심자\n",
    "###     -> 나머지는 \"해당하지 않음\"으로 출력하기\n",
    "###      * (Hint) elif 이용하기\n",
    "\n",
    "score = input (\"그대 몇 점이세요? :\")\n",
    "\n",
    "if int(score) >= 95:\n",
    "    print(\"그랜드 마스터\")\n",
    "elif  int(score) >= 90:\n",
    "    print(\"커널 마스터\")\n",
    "elif  int(score) >= 80:\n",
    "    print(\"익스퍼트\")\n",
    "elif  int(score) >= 70:\n",
    "    print(\"초심자\")\n",
    "else:\n",
    "    print(\"해당하지 않음\")"
   ]
  },
  {
   "cell_type": "code",
   "execution_count": 92,
   "metadata": {},
   "outputs": [
    {
     "name": "stdout",
     "output_type": "stream",
     "text": [
      "165\n"
     ]
    }
   ],
   "source": [
    "### 문제4. \n",
    "### for를 이용하여 10부터 20까지 정수합을 구하는 프로그램 만들기\n",
    "\n",
    "sum = 0\n",
    "for i in range(10, 21):\n",
    "    sum = sum + i\n",
    "print(sum)\n",
    "\n"
   ]
  },
  {
   "cell_type": "code",
   "execution_count": 94,
   "metadata": {},
   "outputs": [
    {
     "ename": "IndentationError",
     "evalue": "unindent does not match any outer indentation level (<tokenize>, line 11)",
     "output_type": "error",
     "traceback": [
      "\u001b[1;36m  File \u001b[1;32m\"<tokenize>\"\u001b[1;36m, line \u001b[1;32m11\u001b[0m\n\u001b[1;33m    if j == (str):\u001b[0m\n\u001b[1;37m    ^\u001b[0m\n\u001b[1;31mIndentationError\u001b[0m\u001b[1;31m:\u001b[0m unindent does not match any outer indentation level\n"
     ]
    }
   ],
   "source": [
    "### 문제5.\n",
    "### 하나의 문자를 입력받아 숫자를 제거하는 프로그램을 만들어 보자.\n",
    "#a = \"a,b,c,1,2,3\"\n",
    "##문제를 다 못 풀었지만, 제출합니다.\n",
    "##어제 보여주셨는데도 ...\n",
    "##for문 if문 아스키코드를 이용하려했는데\n",
    "##더 보고 복습하도록 하겠습니다.\n",
    "\n",
    "str=input(\"문자열숫자:\")\n",
    "i = range(97,122)\n",
    "j = range(1,10)\n",
    "\n",
    "for i in str:\n",
    "        print (str)\n",
    "    if j == (str):\n",
    "        print (str,end=\"\")\n",
    "        \n",
    "    else:\n",
    "        print (\"\")"
   ]
  },
  {
   "cell_type": "code",
   "execution_count": null,
   "metadata": {},
   "outputs": [],
   "source": []
  }
 ],
 "metadata": {
  "kernelspec": {
   "display_name": "Python 3",
   "language": "python",
   "name": "python3"
  },
  "language_info": {
   "codemirror_mode": {
    "name": "ipython",
    "version": 3
   },
   "file_extension": ".py",
   "mimetype": "text/x-python",
   "name": "python",
   "nbconvert_exporter": "python",
   "pygments_lexer": "ipython3",
   "version": "3.8.3"
  }
 },
 "nbformat": 4,
 "nbformat_minor": 4
}
