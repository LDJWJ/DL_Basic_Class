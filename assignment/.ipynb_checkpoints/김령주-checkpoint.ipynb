{
 "cells": [
  {
   "cell_type": "code",
   "execution_count": 15,
   "metadata": {},
   "outputs": [
    {
     "name": "stdout",
     "output_type": "stream",
     "text": [
      "현재 기온은 몇도 입니까? :28\n",
      "반바지를 입으세요.\n"
     ]
    }
   ],
   "source": [
    "# 문제1\n",
    "\n",
    "temp=int(input(\"현재 기온은 몇도 입니까? :\"))\n",
    "\n",
    "if temp >= 27:\n",
    "    print(\"반바지를 입으세요.\")\n",
    "if temp <= 26:\n",
    "    print(\"긴바지를 입으세요.\")"
   ]
  },
  {
   "cell_type": "code",
   "execution_count": 7,
   "metadata": {},
   "outputs": [
    {
     "name": "stdout",
     "output_type": "stream",
     "text": [
      "정수를 쓰세요 :11\n",
      "홀수\n"
     ]
    }
   ],
   "source": [
    "# 문제2\n",
    "\n",
    "num=int(input(\"정수를 쓰세요 :\"))\n",
    "\n",
    "if num % 2 == 1:\n",
    "    print(\"홀수\")\n",
    "if num % 2 == 0:\n",
    "    print(\"짝수\")"
   ]
  },
  {
   "cell_type": "code",
   "execution_count": 9,
   "metadata": {},
   "outputs": [
    {
     "name": "stdout",
     "output_type": "stream",
     "text": [
      "당신의 성적은? :80\n",
      "익스퍼트\n"
     ]
    }
   ],
   "source": [
    "# 문제3\n",
    "\n",
    "num=int(input(\"당신의 성적은? :\"))\n",
    "\n",
    "if num >= 95:\n",
    "    print(\"그랜드 마스터\")\n",
    "elif num >= 90 and num <=94:\n",
    "    print(\"커널 마스터\")\n",
    "elif num >= 80 and num <=89:\n",
    "    print(\"익스퍼트\")\n",
    "elif num >= 70 and num <=79:\n",
    "    print(\"초심자\")\n",
    "else:\n",
    "    print(\"해당하지 않음\")"
   ]
  },
  {
   "cell_type": "code",
   "execution_count": 8,
   "metadata": {},
   "outputs": [
    {
     "name": "stdout",
     "output_type": "stream",
     "text": [
      "10\n",
      "21\n",
      "33\n",
      "46\n",
      "60\n",
      "75\n",
      "91\n",
      "108\n",
      "126\n",
      "145\n",
      "165\n"
     ]
    }
   ],
   "source": [
    "# 문제4\n",
    "\n",
    "a=0\n",
    "for i in range(10, 21):\n",
    "    a=a+i\n",
    "    print(a)"
   ]
  },
  {
   "cell_type": "code",
   "execution_count": 1,
   "metadata": {},
   "outputs": [
    {
     "name": "stdout",
     "output_type": "stream",
     "text": [
      "문자열 입력 :k36i8m2\n",
      "최종 결과 : kim\n"
     ]
    }
   ],
   "source": [
    "# 문제5\n",
    "\n",
    "s=input(\"문자열 입력 :\")\n",
    "\n",
    "num=\"1234567890\"\n",
    "result = \"\"\n",
    "for letter in s:\n",
    "    if letter not in num:\n",
    "        result += letter\n",
    "\n",
    "print(\"최종 결과 :\", result)"
   ]
  },
  {
   "cell_type": "code",
   "execution_count": 13,
   "metadata": {},
   "outputs": [
    {
     "name": "stdout",
     "output_type": "stream",
     "text": [
      "가위, 바위, 보 중 하나를 입력하십시오 : 보\n",
      "당신 : 보 / 컴퓨터 : 가위\n",
      "결과 : 패\n"
     ]
    }
   ],
   "source": [
    "# 문제6\n",
    "\n",
    "import random\n",
    "lst=[\"가위\",\"바위\",\"보\"]\n",
    "n=random.randint(0,2)\n",
    "c=lst[n]\n",
    "i=input(\"가위, 바위, 보 중 하나를 입력하십시오 : \")\n",
    "def rcp(i,c):\n",
    "    if i==\"가위\" and c==\"보\":\n",
    "        return \"승\"\n",
    "    if i==\"바위\" and c==\"가위\":\n",
    "        return \"승\"\n",
    "    if i==\"보\" and c==\"바위\":\n",
    "        return \"승\"\n",
    "    elif i==c:\n",
    "        return \"무승부\"\n",
    "    else:\n",
    "        return \"패\"\n",
    "print(\"당신 : \"+str(i),\"/\",\"컴퓨터 : \"+str(c))\n",
    "print(\"결과 :\",rcp(i,c))"
   ]
  },
  {
   "cell_type": "code",
   "execution_count": 14,
   "metadata": {},
   "outputs": [
    {
     "name": "stdout",
     "output_type": "stream",
     "text": [
      "0부터 10까지의 숫자중에서 하나의 숫자를 맞추는 게임입니다.\n",
      "숫자를 입력하면 큰값인지, 적은값인지, 정답인지가 화면에 표시가 됩니다.\n",
      "총 3의 기회가 주어집니다.\n",
      "\n",
      "1번째 시도) 숫자를 입력하세요 : 5\n",
      "정답보다 작은 숫자입니다.\n",
      "2번째 시도) 숫자를 입력하세요 : 8\n",
      "정답보다 큰 숫자입니다.\n",
      "3번째 시도) 숫자를 입력하세요 : 7\n",
      "정답보다 큰 숫자입니다.\n",
      "\n",
      "[실패]도전회수 3회 동안 정답을 맞추지 못했습니다.\n",
      "정답은 6입니다.\n"
     ]
    }
   ],
   "source": [
    "# 문제7\n",
    "\n",
    "import random\n",
    "MAX_RANDOM=10\n",
    "MAX_TRY=3\n",
    "isAnswer=False\n",
    "\n",
    "print(\"0부터 \" + str(MAX_RANDOM) + \"까지의 숫자중에서 하나의 숫자를 맞추는 게임입니다.\")\n",
    "print(\"숫자를 입력하면 큰값인지, 적은값인지, 정답인지가 화면에 표시가 됩니다.\")\n",
    "print('총 ' + str(MAX_TRY) + \"의 기회가 주어집니다.\")\n",
    "print()\n",
    "\n",
    "answerNum=random.randint(1,MAX_RANDOM)\n",
    "\n",
    "for tryIdx in range(1, MAX_TRY+1):\n",
    "    print(str(tryIdx) + \"번째 시도) 숫자를 입력하세요\", end=\" : \")\n",
    "    try :\n",
    "        guessNum=int(input())\n",
    "        if guessNum>answerNum :\n",
    "            print ('정답보다 큰 숫자입니다.')\n",
    "        elif guessNum<answerNum :\n",
    "            print('정답보다 작은 숫자입니다.')\n",
    "        else :\n",
    "            isAnswer=True\n",
    "            break\n",
    "    except ValueError:\n",
    "        print ('숫자을 입력해 주세요.')\n",
    "\n",
    "print()\n",
    "\n",
    "if isAnswer:\n",
    "    print('정답입니다. 축하합니다!!')\n",
    "else:\n",
    "    print('[실패]도전회수 ' + str(MAX_TRY) + '회 동안 정답을 맞추지 못했습니다.')\n",
    "    print('정답은 ' + str(answerNum) + \"입니다.\")"
   ]
  },
  {
   "cell_type": "code",
   "execution_count": null,
   "metadata": {},
   "outputs": [],
   "source": [
    "### 강사 코멘트 \n",
    " * 전반적으로 우수하게 잘하셨습니다.\n",
    " * 문제 4 : for문이 끝나고 최종 합을 설명과 함께 출력을 해 주셔도 좋을 것 같아요."
   ]
  }
 ],
 "metadata": {
  "kernelspec": {
   "display_name": "Python 3",
   "language": "python",
   "name": "python3"
  },
  "language_info": {
   "codemirror_mode": {
    "name": "ipython",
    "version": 3
   },
   "file_extension": ".py",
   "mimetype": "text/x-python",
   "name": "python",
   "nbconvert_exporter": "python",
   "pygments_lexer": "ipython3",
   "version": "3.8.3"
  }
 },
 "nbformat": 4,
 "nbformat_minor": 4
}
