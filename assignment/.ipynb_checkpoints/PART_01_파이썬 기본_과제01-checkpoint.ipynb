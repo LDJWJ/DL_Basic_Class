{
 "cells": [
  {
   "cell_type": "code",
   "execution_count": 3,
   "metadata": {},
   "outputs": [
    {
     "name": "stdout",
     "output_type": "stream",
     "text": [
      "현재 기온은?10\n",
      "긴바지를 입으세요\n"
     ]
    }
   ],
   "source": [
    "# 현재기온을 입력받아, IF 문을 이용하여\n",
    "#  ▶ 27도 이상이면 반바지를 입으세요.\n",
    "#  ▶ 27도 미만이면 긴바지를 입으세요. 출력하기.\n",
    "\n",
    "\n",
    "temp = input(\"현재 기온은?\")\n",
    "\n",
    "temp = int(temp)\n",
    "\n",
    "if (temp >= 27):\n",
    "    print(\"반바지를 입으세요\")\n",
    "else:\n",
    "    print(\"긴바지를 입으세요\")"
   ]
  },
  {
   "cell_type": "code",
   "execution_count": 4,
   "metadata": {},
   "outputs": [
    {
     "name": "stdout",
     "output_type": "stream",
     "text": [
      "숫자를 입력하세요5\n",
      "홀수 입니다.\n"
     ]
    }
   ],
   "source": [
    "# 정수를 입력받아, \n",
    "#  ▶ 입력된 값이 짝수이면 짝수라고 출력\n",
    "#  ▶ 입력된 값이 홀수이면 홀수라고 출력\n",
    "\n",
    "\n",
    "num = input(\"숫자를 입력하세요\")\n",
    "\n",
    "num = int(num)\n",
    "\n",
    "if (num % 2 == 0):\n",
    "    print(\"짝수 입니다.\")\n",
    "else:\n",
    "    print(\"홀수 입니다.\")"
   ]
  },
  {
   "cell_type": "code",
   "execution_count": 6,
   "metadata": {},
   "outputs": [
    {
     "name": "stdout",
     "output_type": "stream",
     "text": [
      "당신의 성적은 몇점입니까?70\n",
      "초심자 입니다.\n"
     ]
    }
   ],
   "source": [
    "# 성적를 입력받아, \n",
    "#  ▶ 95점 이상이면 그랜드마스터\n",
    "#  ▶ 90점 이상이면 커널마스터\n",
    "#  ▶ 80점 이상이면 익스퍼트\n",
    "#  ▶ 70점 이상이면 초심자\n",
    "#  ▶ 나머지는 해당하지 않음 출력하기\n",
    "\n",
    "\n",
    "\n",
    "grade = input(\"당신의 성적은 몇점입니까?\")\n",
    "\n",
    "grade = int(grade)\n",
    "\n",
    "if (grade >= 95):\n",
    "    print(\"그랜드 마스터 입니다.\")\n",
    "elif (grade>= 90):\n",
    "    print(\"커널 마스터 입니다.\")\n",
    "elif (grade>= 80):\n",
    "    print(\"익스퍼트 입니다.\")\n",
    "elif (grade>= 70):\n",
    "    print(\"초심자 입니다.\")\n",
    "else:\n",
    "    print(\"해당되지 않습니다.\") \n"
   ]
  },
  {
   "cell_type": "code",
   "execution_count": 7,
   "metadata": {},
   "outputs": [
    {
     "name": "stdout",
     "output_type": "stream",
     "text": [
      "165\n"
     ]
    }
   ],
   "source": [
    "# for를 이용하여 10부터 20까지 정수합을 구하는 프로그램 만들기\n",
    "\n",
    "sum = 0\n",
    "\n",
    "for i in range(10,21):\n",
    "    sum = sum + i\n",
    "\n",
    "print(sum)"
   ]
  },
  {
   "cell_type": "code",
   "execution_count": 8,
   "metadata": {},
   "outputs": [
    {
     "name": "stdout",
     "output_type": "stream",
     "text": [
      "단어를 입력하세요.afgds5f46884434gfsddhs\n",
      "최종 결과 :  afgdsfgfsddhs\n"
     ]
    }
   ],
   "source": [
    "# 하나의 문자를 입력받아, 숫자를 제거하는 프로그램을 만들어보자.\n",
    "\n",
    "word = input(\"단어를 입력하세요.\")\n",
    "\n",
    "strs = \"1234567890\"\n",
    "\n",
    "result = \"\"\n",
    "for letter in word:\n",
    "    if letter not in strs:\n",
    "        result += letter\n",
    "        \n",
    "print(\"최종 결과 : \" , result)\n"
   ]
  },
  {
   "cell_type": "markdown",
   "metadata": {},
   "source": [
    "### 강사 코멘트\n",
    " * 깔끔하게 잘하셨습니다.^^ 수고하셨습니다."
   ]
  },
  {
   "cell_type": "code",
   "execution_count": null,
   "metadata": {},
   "outputs": [],
   "source": []
  }
 ],
 "metadata": {
  "kernelspec": {
   "display_name": "Python 3",
   "language": "python",
   "name": "python3"
  },
  "language_info": {
   "codemirror_mode": {
    "name": "ipython",
    "version": 3
   },
   "file_extension": ".py",
   "mimetype": "text/x-python",
   "name": "python",
   "nbconvert_exporter": "python",
   "pygments_lexer": "ipython3",
   "version": "3.8.3"
  }
 },
 "nbformat": 4,
 "nbformat_minor": 4
}
