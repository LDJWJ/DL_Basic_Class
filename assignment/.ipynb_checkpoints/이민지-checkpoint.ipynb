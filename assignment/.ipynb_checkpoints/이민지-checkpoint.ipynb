{
 "cells": [
  {
   "cell_type": "code",
   "execution_count": 1,
   "metadata": {},
   "outputs": [
    {
     "name": "stdout",
     "output_type": "stream",
     "text": [
      "현재의 기온을 알려주세요.33\n",
      "반바지를 입으세요.\n"
     ]
    }
   ],
   "source": [
    "#문제1.\n",
    "\n",
    "temp = input(\"현재의 기온을 알려주세요.\")\n",
    "temp = int(temp)\n",
    "\n",
    "if temp >= 27 :\n",
    "   print (\"반바지를 입으세요.\")\n",
    "else :\n",
    "   print (\"긴바지를 입으세요.\")\n"
   ]
  },
  {
   "cell_type": "code",
   "execution_count": 2,
   "metadata": {},
   "outputs": [
    {
     "name": "stdout",
     "output_type": "stream",
     "text": [
      "수를 입력해 주세요.27\n",
      "홀수\n"
     ]
    }
   ],
   "source": [
    "#문제2.\n",
    "\n",
    "num1 = input (\"수를 입력해 주세요.\")\n",
    "num1 = int(num1)\n",
    "\n",
    "if num1 % 2 == 0 :\n",
    "    print (\"짝수\")\n",
    "else :\n",
    "    print (\"홀수\")\n",
    "    "
   ]
  },
  {
   "cell_type": "code",
   "execution_count": 3,
   "metadata": {},
   "outputs": [
    {
     "name": "stdout",
     "output_type": "stream",
     "text": [
      "성적을 입력해 주세요.97\n",
      "그랜드 마스터\n"
     ]
    }
   ],
   "source": [
    "#문제3.\n",
    "\n",
    "grade = input (\"성적을 입력해 주세요.\")\n",
    "grade = int(grade)\n",
    "\n",
    "if grade >= 95 :\n",
    "    print (\"그랜드 마스터\")\n",
    "    \n",
    "elif grade >= 90 :\n",
    "    print (\"커널 마스터\")\n",
    "\n",
    "elif grade >= 80 :\n",
    "    print (\"익스퍼트\")\n",
    "    \n",
    "elif grade >= 70 :\n",
    "    print (\"초심자\")\n",
    "    \n",
    "else :\n",
    "    print (\"해당하지 않음\")\n",
    "    "
   ]
  },
  {
   "cell_type": "code",
   "execution_count": 4,
   "metadata": {},
   "outputs": [
    {
     "name": "stdout",
     "output_type": "stream",
     "text": [
      "165\n"
     ]
    }
   ],
   "source": [
    "#문제4.\n",
    "\n",
    "a = 0\n",
    "for i in range(10, 21):\n",
    "    a += i\n",
    "print(a)\n"
   ]
  },
  {
   "cell_type": "code",
   "execution_count": 5,
   "metadata": {},
   "outputs": [
    {
     "name": "stdout",
     "output_type": "stream",
     "text": [
      "문자를 입력해 주세요aljf45gj;y;89;jk0\n",
      "최종 결과 : aljfgj;y;;jk\n"
     ]
    }
   ],
   "source": [
    "#문제5.\n",
    "\n",
    "box = input (\"문자를 입력해 주세요\")\n",
    "\n",
    "num1 = '0123456789' \n",
    "\n",
    "result = \"\"\n",
    "\n",
    "for one in box :\n",
    "      \n",
    "    if one not in num1:\n",
    "        result = result + one\n",
    "        \n",
    "print(\"최종 결과 :\" , result)"
   ]
  },
  {
   "cell_type": "code",
   "execution_count": 11,
   "metadata": {},
   "outputs": [
    {
     "name": "stdout",
     "output_type": "stream",
     "text": [
      "0~10까지의 수 중 하나를 고르세요3\n",
      "0~10까지의 수 중 하나를 고르세요5\n",
      "0~10까지의 수 중 하나를 고르세요8\n",
      "맞추었습니다.\n"
     ]
    }
   ],
   "source": [
    "#문제7.\n",
    "\n",
    "comp_N = \"8\"\n",
    "\n",
    "num = 0\n",
    "while num != 3:\n",
    "    your_N = input(\"0~10까지의 수 중 하나를 고르세요\")\n",
    "    \n",
    "    num = num + 1\n",
    "    if (comp_N==your_N):\n",
    "        print(\"맞추었습니다.\")\n",
    "        num = 3\n"
   ]
  },
  {
   "cell_type": "code",
   "execution_count": 16,
   "metadata": {},
   "outputs": [
    {
     "name": "stdout",
     "output_type": "stream",
     "text": [
      "가위바위보 게임을 시작합니다. 하나를 선택해 주세요.가위\n",
      "졌습니다.\n"
     ]
    }
   ],
   "source": [
    "#문제6.\n",
    "\n",
    "comp_g = \"바위\"\n",
    "\n",
    "game = input(\"가위바위보 게임을 시작합니다. 하나를 선택해 주세요.\")\n",
    "\n",
    "if \"바위\" == game :\n",
    "    print (\"비겼습니다.\")\n",
    "    \n",
    "elif \"가위\" == game :\n",
    "    print (\"졌습니다.\")\n",
    "else :\n",
    "    print (\"이겼습니다.\")\n",
    "    \n"
   ]
  },
  {
   "cell_type": "markdown",
   "metadata": {},
   "source": [
    "### 강사 코멘트 \n",
    " * 잘 하셨어요!!! 효리님 화이팅해주세요~"
   ]
  },
  {
   "cell_type": "code",
   "execution_count": null,
   "metadata": {},
   "outputs": [],
   "source": []
  }
 ],
 "metadata": {
  "kernelspec": {
   "display_name": "Python 3",
   "language": "python",
   "name": "python3"
  },
  "language_info": {
   "codemirror_mode": {
    "name": "ipython",
    "version": 3
   },
   "file_extension": ".py",
   "mimetype": "text/x-python",
   "name": "python",
   "nbconvert_exporter": "python",
   "pygments_lexer": "ipython3",
   "version": "3.8.3"
  }
 },
 "nbformat": 4,
 "nbformat_minor": 4
}
