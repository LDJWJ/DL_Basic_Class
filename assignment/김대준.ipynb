{
 "cells": [
  {
   "cell_type": "code",
   "execution_count": 1,
   "metadata": {},
   "outputs": [
    {
     "name": "stdout",
     "output_type": "stream",
     "text": [
      "현재 기온은 ? 23\n",
      "긴바지를 입으세요.\n"
     ]
    }
   ],
   "source": [
    "# 문제 1\n",
    "\n",
    "temperature = float(input( \"현재 기온은 ? \" ))\n",
    "\n",
    "if temperature >= 27 :\n",
    "    print( \"반바지를 입으세요.\")\n",
    "else :\n",
    "    print( \"긴바지를 입으세요.\")"
   ]
  },
  {
   "cell_type": "code",
   "execution_count": 2,
   "metadata": {},
   "outputs": [
    {
     "name": "stdout",
     "output_type": "stream",
     "text": [
      "짝수일까요? 홀수일까요? \n",
      "정수를 입력해 주세요. : 34\n",
      "짝수입니다.\n"
     ]
    }
   ],
   "source": [
    "# 문제 2\n",
    "\n",
    "num = int(input( \"짝수일까요? 홀수일까요? \\n정수를 입력해 주세요. : \")) \n",
    "\n",
    "if num % 2 == 1:\n",
    "    print ( \"홀수입니다.\")\n",
    "else :\n",
    "    print ( \"짝수입니다.\")"
   ]
  },
  {
   "cell_type": "code",
   "execution_count": 3,
   "metadata": {},
   "outputs": [
    {
     "name": "stdout",
     "output_type": "stream",
     "text": [
      "점수를 입력해 주세요.45\n",
      "해당하지않습니다. 분발하세요. \n"
     ]
    }
   ],
   "source": [
    "# 문제 3\n",
    "\n",
    "grade = float(input( \"점수를 입력해 주세요.\"))\n",
    "\n",
    "if grade >= 95 :\n",
    "   print( \"당신의 등급은 그랜드마스터 입니다. \")\n",
    "\n",
    "elif grade >=90 :\n",
    "    print( \"당신의 등급은 커널마스터 입니다. \")\n",
    "elif grade >=80 :\n",
    "    print( \"당신의 등급은 익스퍼트 입니다. \")\n",
    "elif grade >=70 :\n",
    "    print( \"당신의 등급은 초심자 입니다. \")\n",
    "else :\n",
    "    print( \"해당하지않습니다. 분발하세요. \")"
   ]
  },
  {
   "cell_type": "code",
   "execution_count": 4,
   "metadata": {},
   "outputs": [
    {
     "name": "stdout",
     "output_type": "stream",
     "text": [
      "165\n"
     ]
    }
   ],
   "source": [
    "sum = 0\n",
    "\n",
    "for i in range(10, 21, 1) :\n",
    "    sum += i\n",
    "\n",
    "print( sum )"
   ]
  },
  {
   "cell_type": "code",
   "execution_count": 5,
   "metadata": {},
   "outputs": [
    {
     "name": "stdout",
     "output_type": "stream",
     "text": [
      "문자입력 :ㅇㄹ홰078685ㄱ셔ㅛ혀ㅗ\n",
      "결과 : ㅇㄹ홰ㄱ셔ㅛ혀ㅗ\n"
     ]
    }
   ],
   "source": [
    "# 문제 5\n",
    "\n",
    "word = input(\"문자입력 :\")\n",
    "\n",
    "str1 = '0123456789'\n",
    "\n",
    "result = \"\"\n",
    "\n",
    "for one in word :\n",
    "    \n",
    "    if one not in \"0123456789\" :\n",
    "        result = result + one\n",
    "        \n",
    "print (\"결과 :\", result)"
   ]
  },
  {
   "cell_type": "markdown",
   "metadata": {},
   "source": [
    "### 강사 코멘트\n",
    " * 잘하셨습니다.^^ 다음에는 남은 문제도 한번 도전해 보세요. \n",
    " * 열심히 해 주셔서 감사합니다."
   ]
  },
  {
   "cell_type": "code",
   "execution_count": null,
   "metadata": {},
   "outputs": [],
   "source": []
  }
 ],
 "metadata": {
  "kernelspec": {
   "display_name": "Python 3",
   "language": "python",
   "name": "python3"
  },
  "language_info": {
   "codemirror_mode": {
    "name": "ipython",
    "version": 3
   },
   "file_extension": ".py",
   "mimetype": "text/x-python",
   "name": "python",
   "nbconvert_exporter": "python",
   "pygments_lexer": "ipython3",
   "version": "3.8.3"
  }
 },
 "nbformat": 4,
 "nbformat_minor": 4
}
