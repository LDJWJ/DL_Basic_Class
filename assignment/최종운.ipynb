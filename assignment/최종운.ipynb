{
 "cells": [
  {
   "cell_type": "code",
   "execution_count": 1,
   "metadata": {},
   "outputs": [
    {
     "name": "stdout",
     "output_type": "stream",
     "text": [
      "25\n",
      "긴바지를 입으세요\n"
     ]
    }
   ],
   "source": [
    "weather = int(input())\n",
    "if weather >=27:\n",
    "    print(\"반바지를 입으세요.\")\n",
    "else:\n",
    "    print(\"긴바지를 입으세요\")"
   ]
  },
  {
   "cell_type": "code",
   "execution_count": 2,
   "metadata": {},
   "outputs": [
    {
     "name": "stdout",
     "output_type": "stream",
     "text": [
      "30\n",
      "반바지를 입으세요.\n"
     ]
    }
   ],
   "source": [
    "weather = int(input())\n",
    "if weather >=27:\n",
    "    print(\"반바지를 입으세요.\")\n",
    "else:\n",
    "    print(\"긴바지를 입으세요\")\n"
   ]
  },
  {
   "cell_type": "code",
   "execution_count": 4,
   "metadata": {},
   "outputs": [
    {
     "name": "stdout",
     "output_type": "stream",
     "text": [
      "6\n",
      "짝수\n"
     ]
    }
   ],
   "source": [
    "num = int(input())\n",
    "\n",
    "if num % 2 == 0:\n",
    "    print(\"짝수\")\n",
    "else:\n",
    "    print(\"홀수\")\n"
   ]
  },
  {
   "cell_type": "code",
   "execution_count": 5,
   "metadata": {},
   "outputs": [
    {
     "name": "stdout",
     "output_type": "stream",
     "text": [
      "9\n",
      "홀수\n"
     ]
    }
   ],
   "source": [
    "num = int(input())\n",
    "\n",
    "if num % 2 == 0:\n",
    "    print(\"짝수\")\n",
    "else:\n",
    "    print(\"홀수\")\n"
   ]
  },
  {
   "cell_type": "code",
   "execution_count": 6,
   "metadata": {},
   "outputs": [
    {
     "name": "stdout",
     "output_type": "stream",
     "text": [
      "98\n",
      "그랜드 마스터\n"
     ]
    }
   ],
   "source": [
    "num = int(input())\n",
    "\n",
    "if 95 <= num:\n",
    "    print(\"그랜드 마스터\")\n",
    "elif 90 <= num < 95:\n",
    "    print(\"커널 마스터\")\n",
    "elif 80 <= num < 90:\n",
    "    print(\"익스퍼트\")\n",
    "elif 70 <= num < 80:\n",
    "    print(\"초심자\")\n",
    "else:\n",
    "    print(\"해당하지 않음\")"
   ]
  },
  {
   "cell_type": "code",
   "execution_count": 7,
   "metadata": {},
   "outputs": [
    {
     "name": "stdout",
     "output_type": "stream",
     "text": [
      "60\n",
      "해당하지 않음\n"
     ]
    }
   ],
   "source": [
    "num = int(input())\n",
    "\n",
    "if 95 <= num:\n",
    "    print(\"그랜드 마스터\")\n",
    "elif 90 <= num < 95:\n",
    "    print(\"커널 마스터\")\n",
    "elif 80 <= num < 90:\n",
    "    print(\"익스퍼트\")\n",
    "elif 70 <= num < 80:\n",
    "    print(\"초심자\")\n",
    "else:\n",
    "    print(\"해당하지 않음\")"
   ]
  },
  {
   "cell_type": "code",
   "execution_count": 8,
   "metadata": {},
   "outputs": [
    {
     "name": "stdout",
     "output_type": "stream",
     "text": [
      "165\n"
     ]
    }
   ],
   "source": [
    "result = 0\n",
    "for i in range(10,21):\n",
    "    result = i+result\n",
    "print(result)\n"
   ]
  },
  {
   "cell_type": "code",
   "execution_count": 9,
   "metadata": {},
   "outputs": [
    {
     "name": "stdout",
     "output_type": "stream",
     "text": [
      "p\n",
      "p\n"
     ]
    }
   ],
   "source": [
    "#문제 5.\n",
    "\n",
    "text = input()\n",
    "replace = text\n",
    "\n",
    "for i in range(1,10):\n",
    "    replace = replace.replace(str(i),\"\")\n",
    "\n",
    "print(replace)"
   ]
  },
  {
   "cell_type": "code",
   "execution_count": 10,
   "metadata": {},
   "outputs": [
    {
     "name": "stdout",
     "output_type": "stream",
     "text": [
      "사용자 가위바위보를 입력하세요: 가위\n",
      "컴퓨터 가위바위보를 입력하세요: 바위\n",
      "졌습니다\n",
      "가위바위보를 입력하세요 : 보\n",
      "이겼습니다\n"
     ]
    }
   ],
   "source": [
    "#문제 6.\n",
    "#사용자가 컴퓨터의 값을 임의로 정해줬을때\n",
    "\n",
    "userRCP = input(\"사용자 가위바위보를 입력하세요: \")\n",
    "comRCP = input(\"컴퓨터 가위바위보를 입력하세요: \")\n",
    "\n",
    "if userRCP == comRCP :\n",
    "    print(\"비겼습니다\")\n",
    "\n",
    "#사용자가 가위를 냈을경우\n",
    "elif (userRCP == \"가위\" or userRCP == \"찌\") and (comRCP == \"바위\" or comRCP == \"묵\"):\n",
    "    print(\"졌습니다\")\n",
    "elif (userRCP == \"가위\" or userRCP == \"찌\") and (comRCP == \"보\" or comRCP == \"빠\"):\n",
    "    print(\"이겼습니다\")\n",
    "\n",
    "#사용자가 바위를 냈을경우\n",
    "elif (userRCP == \"바위\" or comRCP == \"묵\") and (comRCP == \"보\" or comRCP == \"빠\"):\n",
    "    print(\"졌습니다\")\n",
    "elif (userRCP == \"바위\" or comRCP == \"묵\") and (comRCP == \"가위\" or comRCP == \"찌\"):\n",
    "    print(\"이겼습니다\")\n",
    "\n",
    "#사용자가 보를 냈을경우\n",
    "elif (userRCP == \"보\" or comRCP == \"빠\") and (comRCP == \"가위\" or comRCP == \"찌\"):\n",
    "    print(\"졌습니다\")\n",
    "elif (userRCP == \"보\" or comRCP == \"빠\") and (comRCP == \"바위\" or comRCP == \"묵\"):\n",
    "    print(\"이겼습니다\")\n",
    "\n",
    "#컴퓨터가 랜덤일때\n",
    "import random\n",
    "\n",
    "com = random.randrange(1,3)\n",
    "\n",
    "user = input(\"가위바위보를 입력하세요 : \")\n",
    "\n",
    "num = 0\n",
    "if user==\"가위\" or user==\"바위\" or user==\"보\":\n",
    "    if user == \"가위\":\n",
    "        num = 0\n",
    "    elif user == \"바위\":\n",
    "        num = 1\n",
    "    elif user == \"보\":\n",
    "        num = 2\n",
    "\n",
    "if num == com :\n",
    "    print(\"비겼습니다\")\n",
    "\n",
    "#사용자가 가위를 냈을때\n",
    "if num == 0:\n",
    "    #컴퓨터 = 바위\n",
    "    if com == 1:\n",
    "        print(\"졌습니다\")\n",
    "    #컴퓨터 = 보\n",
    "    elif com == 2:\n",
    "        print(\"이겼습니다\")\n",
    "\n",
    "#사용자가 바위를 냈을때\n",
    "if num == 1:\n",
    "    #컴퓨터 = 가위\n",
    "    if com == 0:\n",
    "        print(\"이겼습니다\")\n",
    "    #컴퓨터 = 보\n",
    "    elif com == 2:\n",
    "        print(\"졌습니다\")\n",
    "\n",
    "#사용자가 보를 냈을때\n",
    "if num == 2:\n",
    "    #컴퓨터 = 가위\n",
    "    if com == 0:\n",
    "        print(\"졌습니다\")\n",
    "    #컴퓨터 = 바위\n",
    "    elif com == 1:\n",
    "        print(\"이겼습니다\")\n"
   ]
  },
  {
   "cell_type": "code",
   "execution_count": 13,
   "metadata": {},
   "outputs": [
    {
     "name": "stdout",
     "output_type": "stream",
     "text": [
      "숫자를 입력하세요: 3\n",
      "못맞췄습니다 다시입력하세요\n",
      "숫자를 입력하세요: 4\n",
      "못맞췄습니다 다시입력하세요\n",
      "숫자를 입력하세요: 1\n",
      "못맞췄습니다 다시입력하세요\n",
      "게임이 종료되었습니다\n"
     ]
    }
   ],
   "source": [
    "#문제 7.\n",
    "import random\n",
    "\n",
    "com = random.randrange(0,10)\n",
    "\n",
    "result = 0\n",
    "for i in range(1,4):\n",
    "    user = int(input(\"숫자를 입력하세요: \"))\n",
    "    if user == com:\n",
    "        print(\"맞췄습니다\")\n",
    "        break\n",
    "    else:\n",
    "        print(\"못맞췄습니다 다시입력하세요\")\n",
    "    result = i\n",
    "if result == 3:\n",
    "    print(\"게임이 종료되었습니다\")"
   ]
  },
  {
   "cell_type": "code",
   "execution_count": null,
   "metadata": {},
   "outputs": [],
   "source": []
  }
 ],
 "metadata": {
  "kernelspec": {
   "display_name": "Python 3",
   "language": "python",
   "name": "python3"
  },
  "language_info": {
   "codemirror_mode": {
    "name": "ipython",
    "version": 3
   },
   "file_extension": ".py",
   "mimetype": "text/x-python",
   "name": "python",
   "nbconvert_exporter": "python",
   "pygments_lexer": "ipython3",
   "version": "3.8.3"
  }
 },
 "nbformat": 4,
 "nbformat_minor": 4
}
