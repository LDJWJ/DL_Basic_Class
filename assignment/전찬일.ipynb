{
 "cells": [
  {
   "cell_type": "code",
   "execution_count": null,
   "metadata": {
    "colab": {},
    "colab_type": "code",
    "id": "MHOgxRwQiQFR"
   },
   "outputs": [],
   "source": [
    "### 오전수강반 전찬일###"
   ]
  },
  {
   "cell_type": "code",
   "execution_count": null,
   "metadata": {
    "colab": {
     "base_uri": "https://localhost:8080/",
     "height": 34
    },
    "colab_type": "code",
    "id": "ZZuiAU2blvXd",
    "outputId": "f2fd5099-f7e7-44fa-a00b-476d3ca9f657"
   },
   "outputs": [
    {
     "name": "stdout",
     "output_type": "stream",
     "text": [
      "긴바지를 입으세요\n"
     ]
    }
   ],
   "source": [
    "###1번###\n",
    "temp=22\n",
    "if temp <= 26:\n",
    "  print(\"긴바지를 입으세요\")\n",
    "elif temp >= 27:\n",
    "  print(\"반바지를 입으세요\")"
   ]
  },
  {
   "cell_type": "code",
   "execution_count": null,
   "metadata": {
    "colab": {
     "base_uri": "https://localhost:8080/",
     "height": 70
    },
    "colab_type": "code",
    "id": "X0dcwtMUlvJ-",
    "outputId": "e2bdb374-b437-40ce-cc01-df55753896db"
   },
   "outputs": [
    {
     "name": "stdout",
     "output_type": "stream",
     "text": [
      "정수 하나를 입력하세요 : 3\n",
      "3 : 홀수\n",
      "\n"
     ]
    }
   ],
   "source": [
    "###2번### 정수를 입력받아, 입력된 값이 짝수면 짝수 출력\n",
    "###홀수면 홀수출력  %연산자사용\n",
    "num = int(input(\"정수 하나를 입력하세요 : \"))\n",
    "if num % 2 == 0 :\n",
    "    print(f\"{num} : 짝수\\n\")\n",
    "else :\n",
    "    print(f\"{num} : 홀수\\n\")"
   ]
  },
  {
   "cell_type": "code",
   "execution_count": null,
   "metadata": {
    "colab": {
     "base_uri": "https://localhost:8080/",
     "height": 52
    },
    "colab_type": "code",
    "id": "wVphprdhh8Op",
    "outputId": "6f4dee49-016b-4891-9140-3c94716734d3"
   },
   "outputs": [
    {
     "name": "stdout",
     "output_type": "stream",
     "text": [
      "점수를 입력하세요 : 88\n",
      "익스퍼트\n"
     ]
    }
   ],
   "source": [
    "### 3번##\n",
    "grade = int(input(\"점수를 입력하세요 : \"))\n",
    "if 95 <= grade <=100:\n",
    "  print(\"그랜드마스터\")\n",
    "elif 90 <= grade <=94:\n",
    "  print(\"커널마스터\")\n",
    "elif 80 <= grade <=89:\n",
    "  print(\"익스퍼트\")\n",
    "elif 70 <= grade <=79:\n",
    "  print(\"초심자\")\n",
    "else:\n",
    "  print(\"출력하지 않음\")"
   ]
  },
  {
   "cell_type": "code",
   "execution_count": null,
   "metadata": {
    "colab": {
     "base_uri": "https://localhost:8080/",
     "height": 34
    },
    "colab_type": "code",
    "id": "0xdOyhzJluhG",
    "outputId": "9b224fdc-407f-43cc-e62f-1e45a2179bdb"
   },
   "outputs": [
    {
     "name": "stdout",
     "output_type": "stream",
     "text": [
      "165\n"
     ]
    }
   ],
   "source": [
    "###4번###\n",
    "result = 0\n",
    "for a in range(10,21):  #10 ~ 20\n",
    "    result = result + a\n",
    "\n",
    "print(result)"
   ]
  },
  {
   "cell_type": "code",
   "execution_count": null,
   "metadata": {
    "colab": {
     "base_uri": "https://localhost:8080/",
     "height": 34
    },
    "colab_type": "code",
    "id": "LAqrGkxVls-H",
    "outputId": "c25e03c9-5438-41ee-a739-d944cf4705c2"
   },
   "outputs": [
    {
     "name": "stdout",
     "output_type": "stream",
     "text": [
      "answkduf\n"
     ]
    }
   ],
   "source": [
    "###5번###   구글링으로 풀었습니다.\n",
    "import re\n",
    "\n",
    "문자열 = \"123answkduf456\"\n",
    "p = re.compile(\"[^0-9]\")\n",
    "print(\"\".join(p.findall(문자열)))"
   ]
  }
 ],
 "metadata": {
  "colab": {
   "collapsed_sections": [],
   "name": "과제1",
   "provenance": []
  },
  "kernelspec": {
   "display_name": "Python 3",
   "language": "python",
   "name": "python3"
  },
  "language_info": {
   "codemirror_mode": {
    "name": "ipython",
    "version": 3
   },
   "file_extension": ".py",
   "mimetype": "text/x-python",
   "name": "python",
   "nbconvert_exporter": "python",
   "pygments_lexer": "ipython3",
   "version": "3.8.3"
  }
 },
 "nbformat": 4,
 "nbformat_minor": 1
}
