{
 "cells": [
  {
   "cell_type": "markdown",
   "metadata": {},
   "source": [
    "# 2020-09-22 과제\n",
    "\n",
    "## 문제 1.\n",
    "- 현재 기온을 입력받아, if 문을 이용하여\n",
    "    - 27도 이상이면 반바지를 입으세요.\n",
    "    - 27도 미만이면 긴바지를 입으세요. 출력하기"
   ]
  },
  {
   "cell_type": "code",
   "execution_count": 19,
   "metadata": {},
   "outputs": [
    {
     "name": "stdin",
     "output_type": "stream",
     "text": [
      "현재 기온은 몇 도 입니까?  22\n"
     ]
    },
    {
     "name": "stdout",
     "output_type": "stream",
     "text": [
      "긴바지를 입으세요.\n"
     ]
    }
   ],
   "source": [
    "def pants_rec():\n",
    "    temp = input(\"현재 기온은 몇 도 입니까? \")\n",
    "\n",
    "    if(float(temp)>=27):\n",
    "        print(\"반바지를 입으세요.\")\n",
    "    else:\n",
    "        print(\"긴바지를 입으세요.\")\n",
    "        \n",
    "pants_rec()"
   ]
  },
  {
   "cell_type": "markdown",
   "metadata": {},
   "source": [
    "## 문제 2.\n",
    "- 정수를 입력받아,\n",
    "    - 입력된 값이 짝수이면 짝수라고 출력\n",
    "    - 입력된 값이 홀수이면 홀수라고 출력\n",
    "- (Hint) % 연산자 이용해보기"
   ]
  },
  {
   "cell_type": "code",
   "execution_count": 20,
   "metadata": {},
   "outputs": [
    {
     "name": "stdin",
     "output_type": "stream",
     "text": [
      "정수를 입력하시오.  23\n"
     ]
    },
    {
     "name": "stdout",
     "output_type": "stream",
     "text": [
      "23 는 홀수입니다.\n"
     ]
    }
   ],
   "source": [
    "def Odd_classfy():\n",
    "    num = input(\"정수를 입력하시오. \")\n",
    "\n",
    "    if(int(num)%2==0):\n",
    "        print(\"%d 는 짝수입니다.\" %(int(num)))\n",
    "    else:\n",
    "        print(\"%d 는 홀수입니다.\" %(int(num)))\n",
    "        \n",
    "Odd_classfy()"
   ]
  },
  {
   "cell_type": "markdown",
   "metadata": {},
   "source": [
    "## 문제 3.\n",
    "- 성적을 입력받아,\n",
    "    - 95점 이상이면 그랜드 마스터\n",
    "    - 90점 이상이면 커널 마스터\n",
    "    - 80점 이상이면 익스퍼트\n",
    "    - 70점 이상이면 초심자\n",
    "    - 나머지는 해당하지 않음 출력하기\n",
    "- (Hint) elif 이용하기"
   ]
  },
  {
   "cell_type": "code",
   "execution_count": 21,
   "metadata": {},
   "outputs": [
    {
     "name": "stdin",
     "output_type": "stream",
     "text": [
      "성적을 입력하시오:  80\n"
     ]
    },
    {
     "data": {
      "text/plain": [
       "'Expert'"
      ]
     },
     "execution_count": 21,
     "metadata": {},
     "output_type": "execute_result"
    }
   ],
   "source": [
    "def grade_classfy():\n",
    "    \n",
    "    pt = input(\"성적을 입력하시오: \")\n",
    "    \n",
    "    if(int(pt)>100):\n",
    "        return(\"100 이하의 정수를 입력하시오.\")\n",
    "    elif(int(pt)>=95):\n",
    "        return(\"Grandmaster\")\n",
    "    elif(int(pt)>=90):\n",
    "        return(\"Kernelmaster\")\n",
    "    elif(int(pt)>=80):\n",
    "        return(\"Expert\")\n",
    "    elif(int(pt)>=70):\n",
    "        return(\"Beginner\")\n",
    "    else:\n",
    "        return(\"Unranked\")\n",
    "        \n",
    "grade_classfy()"
   ]
  },
  {
   "cell_type": "markdown",
   "metadata": {},
   "source": [
    "## 문제 4\n",
    "- for를 이용하여 10부터 20까지 정수합을 구하는 프로그램 만들기"
   ]
  },
  {
   "cell_type": "code",
   "execution_count": 65,
   "metadata": {},
   "outputs": [
    {
     "name": "stdout",
     "output_type": "stream",
     "text": [
      "145\n"
     ]
    }
   ],
   "source": [
    "def sum_integer():\n",
    "    nums = [10,11,12,13,14,15,16,17,18,19,20]\n",
    "\n",
    "    temp = 0\n",
    "    i = 0\n",
    "        \n",
    "    for num in nums:\n",
    "        temp = temp + num\n",
    "        i = i + 1\n",
    "    \n",
    "        if(i==10):\n",
    "            print(temp)\n",
    "        \n",
    "sum_integer()"
   ]
  },
  {
   "cell_type": "markdown",
   "metadata": {},
   "source": [
    "## 문제 5\n",
    "- 하나의 문자를 입력받아, 숫자를 제거하는 프로그램을 만들어보자."
   ]
  },
  {
   "cell_type": "code",
   "execution_count": 15,
   "metadata": {},
   "outputs": [
    {
     "name": "stdin",
     "output_type": "stream",
     "text": [
      "문자열을 입력하세요.  d2q581eaxc\n"
     ]
    },
    {
     "name": "stdout",
     "output_type": "stream",
     "text": [
      "dqeaxc\n"
     ]
    }
   ],
   "source": [
    "def num_del():\n",
    "    str1 = input(\"문자열을 입력하세요. \") #ABC123DEF\n",
    "    str2 = \"\"\n",
    "    \n",
    "    for word in str1:\n",
    "        if(not word.isdigit()):\n",
    "            str2 = str2 + word\n",
    "            \n",
    "    print(str2)\n",
    "            \n",
    "num_del()"
   ]
  },
  {
   "cell_type": "markdown",
   "metadata": {},
   "source": [
    "## 문제 6\n",
    "- 가위바위보 를 하나 입력받아, 컴퓨터와 내가 누가 이겼는지 비겼는지 출력하는 프로그램 만들기\n",
    "- 컴퓨터의 값은 임의로 여러분이 입력해도 된다. 랜덤 함수를 이용해도 된다."
   ]
  },
  {
   "cell_type": "code",
   "execution_count": 18,
   "metadata": {},
   "outputs": [
    {
     "name": "stdin",
     "output_type": "stream",
     "text": [
      "Rock! Scissors! Paper!:  paper\n"
     ]
    },
    {
     "name": "stdout",
     "output_type": "stream",
     "text": [
      "You lose...\n",
      "Computer: Rock\n"
     ]
    }
   ],
   "source": [
    "import random\n",
    "\n",
    "# Mark -> code number Transfer\n",
    "def user_rst():\n",
    "    ur_choice = input(\"Rock! Scissors! Paper!: \")\n",
    "    # 1 = Rock, 2 = Scissors, 3 = Paper\n",
    "    if(ur_choice.lower() == 'rock'):\n",
    "        return 1\n",
    "    elif(ur_choice.lower() == 'scissors'):\n",
    "        return 2\n",
    "    elif(ur_choice.lower() == 'paper'):\n",
    "        return 3\n",
    "    else:\n",
    "        print(\"Wrong input!\")\n",
    "\n",
    "# Code number -> Mark Transfer        \n",
    "def com_choice(code):\n",
    "    if(code == 1):\n",
    "        print(\"Computer: Rock\")\n",
    "    elif(code == 2):\n",
    "        print(\"Computer: Scissors\")\n",
    "    else:\n",
    "        print(\"Computer: Paper\")\n",
    "     \n",
    "def rst():\n",
    "    temp = user_rst()\n",
    "    com_rst = random.randrange(1,3)\n",
    "    \n",
    "    if(temp == com_rst):\n",
    "        return(\"Draw!\")\n",
    "    \n",
    "    # Case 1. com_rst = 1 (rock)\n",
    "    if(temp == 1):\n",
    "        if(temp == 2):\n",
    "            print(\"You win!\")\n",
    "        print(\"You lose...\")\n",
    "        \n",
    "    # Case 2. com_rst = 2 (scissors)\n",
    "    if(temp == 2):\n",
    "        if(temp == 3):\n",
    "            print(\"You win!\")\n",
    "        print(\"You lose...\")\n",
    "        \n",
    "    # Case 3. com_rst = 3 (paper)\n",
    "    if(temp == 3):\n",
    "        if(temp == 1):\n",
    "            print(\"You win!\")\n",
    "        print(\"You lose...\")\n",
    "        \n",
    "    com_choice(com_rst)\n",
    "        \n",
    "rst()"
   ]
  },
  {
   "cell_type": "code",
   "execution_count": null,
   "metadata": {},
   "outputs": [],
   "source": []
  },
  {
   "cell_type": "markdown",
   "metadata": {},
   "source": [
    "## 문제 7\n",
    "- 0 에서 10 사이의 값을 입력받아,\n",
    "- 컴퓨터가 생각한 숫자를 3회 안에 맞추는 프로그램 만들어보기\n",
    "- 맞추면 맞췄다고 이야기하기"
   ]
  },
  {
   "cell_type": "code",
   "execution_count": 1,
   "metadata": {},
   "outputs": [
    {
     "name": "stdout",
     "output_type": "stream",
     "text": [
      "Guess Number!!! (lives = 3)\n",
      "\n",
      "Notice! Please enter a number between 0 to 10\n"
     ]
    },
    {
     "name": "stdin",
     "output_type": "stream",
     "text": [
      "Enter the number:  8\n"
     ]
    },
    {
     "name": "stdout",
     "output_type": "stream",
     "text": [
      "Worng answer... (lives = 2)\n",
      "\n",
      "Notice! Please enter a number between 0 to 10\n"
     ]
    },
    {
     "name": "stdin",
     "output_type": "stream",
     "text": [
      "Enter the number:  7\n"
     ]
    },
    {
     "name": "stdout",
     "output_type": "stream",
     "text": [
      "Worng answer... (lives = 1)\n",
      "\n",
      "Notice! Please enter a number between 0 to 10\n"
     ]
    },
    {
     "name": "stdin",
     "output_type": "stream",
     "text": [
      "Enter the number:  6\n"
     ]
    },
    {
     "name": "stdout",
     "output_type": "stream",
     "text": [
      "Worng answer... (lives = 0)\n",
      "\n"
     ]
    },
    {
     "name": "stdin",
     "output_type": "stream",
     "text": [
      "Continue to play? (y/n) y\n"
     ]
    },
    {
     "name": "stdout",
     "output_type": "stream",
     "text": [
      "\n",
      "\n",
      "Notice! Please enter a number between 0 to 10\n"
     ]
    },
    {
     "name": "stdin",
     "output_type": "stream",
     "text": [
      "Enter the number:  10\n"
     ]
    },
    {
     "name": "stdout",
     "output_type": "stream",
     "text": [
      "Worng answer... (lives = 2)\n",
      "\n",
      "Notice! Please enter a number between 0 to 10\n"
     ]
    },
    {
     "name": "stdin",
     "output_type": "stream",
     "text": [
      "Enter the number:  8\n"
     ]
    },
    {
     "name": "stdout",
     "output_type": "stream",
     "text": [
      "Worng answer... (lives = 1)\n",
      "\n",
      "Notice! Please enter a number between 0 to 10\n"
     ]
    },
    {
     "name": "stdin",
     "output_type": "stream",
     "text": [
      "Enter the number:  7\n"
     ]
    },
    {
     "name": "stdout",
     "output_type": "stream",
     "text": [
      "Worng answer... (lives = 0)\n",
      "\n"
     ]
    },
    {
     "name": "stdin",
     "output_type": "stream",
     "text": [
      "Continue to play? (y/n) y\n"
     ]
    },
    {
     "name": "stdout",
     "output_type": "stream",
     "text": [
      "\n",
      "\n",
      "Notice! Please enter a number between 0 to 10\n"
     ]
    },
    {
     "name": "stdin",
     "output_type": "stream",
     "text": [
      "Enter the number:  5\n"
     ]
    },
    {
     "name": "stdout",
     "output_type": "stream",
     "text": [
      "Worng answer... (lives = 2)\n",
      "\n",
      "Notice! Please enter a number between 0 to 10\n"
     ]
    },
    {
     "name": "stdin",
     "output_type": "stream",
     "text": [
      "Enter the number:  3\n"
     ]
    },
    {
     "name": "stdout",
     "output_type": "stream",
     "text": [
      "Worng answer... (lives = 1)\n",
      "\n",
      "Notice! Please enter a number between 0 to 10\n"
     ]
    },
    {
     "name": "stdin",
     "output_type": "stream",
     "text": [
      "Enter the number:  2\n"
     ]
    },
    {
     "name": "stdout",
     "output_type": "stream",
     "text": [
      "Worng answer... (lives = 0)\n",
      "\n"
     ]
    },
    {
     "name": "stdin",
     "output_type": "stream",
     "text": [
      "Continue to play? (y/n) n\n"
     ]
    }
   ],
   "source": [
    "import random\n",
    "\n",
    "def num_hangman():\n",
    "    i = 3\n",
    "    s = True\n",
    "\n",
    "    print(\"Guess Number!!! (lives = 3)\\n\")\n",
    "    ans = random.randrange(0,10)\n",
    "\n",
    "    while(s):\n",
    "        print(\"Notice! Please enter a number between 0 to 10\")\n",
    "        temp = input(\"Enter the number: \")\n",
    "        if(temp == ans):\n",
    "            print(\"Congratulation!!! your answer is correct!\\n\")\n",
    "            break\n",
    "    \n",
    "        if(temp != ans):\n",
    "            i = i - 1\n",
    "            print(\"Worng answer... (lives = %d)\\n\" %i)\n",
    "        \n",
    "        if(i == 0):\n",
    "            coin = input(\"Continue to play? (y/n)\")\n",
    "            if(coin.lower() == 'y'):\n",
    "                print(\"\\n\")\n",
    "                i = 3\n",
    "            elif(coin.lower() == 'n'):\n",
    "                s = False\n",
    "            else:\n",
    "                print(\"invalid\\n\")\n",
    "\n",
    "num_hangman()"
   ]
  },
  {
   "cell_type": "markdown",
   "metadata": {},
   "source": [
    "### 강사 코멘트 \n",
    " * 함수를 만들고 전반적으로 우수하게 잘하셨습니다. 새로운 시도와 개선도 좋아보입니다."
   ]
  },
  {
   "cell_type": "code",
   "execution_count": null,
   "metadata": {},
   "outputs": [],
   "source": []
  }
 ],
 "metadata": {
  "kernelspec": {
   "display_name": "Python 3",
   "language": "python",
   "name": "python3"
  },
  "language_info": {
   "codemirror_mode": {
    "name": "ipython",
    "version": 3
   },
   "file_extension": ".py",
   "mimetype": "text/x-python",
   "name": "python",
   "nbconvert_exporter": "python",
   "pygments_lexer": "ipython3",
   "version": "3.8.3"
  }
 },
 "nbformat": 4,
 "nbformat_minor": 4
}
