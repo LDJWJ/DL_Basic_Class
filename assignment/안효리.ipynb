{
 "cells": [
  {
   "cell_type": "code",
   "execution_count": 24,
   "metadata": {
    "scrolled": true
   },
   "outputs": [
    {
     "name": "stdout",
     "output_type": "stream",
     "text": [
      "현재 기온은 얼마입니까?22\n",
      "긴바지를 입으세요.\n"
     ]
    }
   ],
   "source": [
    "#1번\n",
    "temperature = float(input(\"현재 기온은 얼마입니까?\"))\n",
    "\n",
    "if(temperature >= 27 ) :\n",
    "    print(\"반바지를 입으세요.\")\n",
    "else:\n",
    "    print(\"긴바지를 입으세요.\")"
   ]
  },
  {
   "cell_type": "code",
   "execution_count": 28,
   "metadata": {},
   "outputs": [
    {
     "name": "stdout",
     "output_type": "stream",
     "text": [
      "정수를 입력하세요.234\n",
      "짝수입니다.\n"
     ]
    }
   ],
   "source": [
    "#2번\n",
    "num = int(input(\"정수를 입력하세요.\"))\n",
    "\n",
    "if(num % 2 == 0 ) :\n",
    "    print(\"짝수입니다.\")\n",
    "else:\n",
    "    print(\"홀수입니다.\")"
   ]
  },
  {
   "cell_type": "code",
   "execution_count": 42,
   "metadata": {},
   "outputs": [
    {
     "name": "stdout",
     "output_type": "stream",
     "text": [
      "성적을 입력하세요: 78\n",
      "초심자\n"
     ]
    }
   ],
   "source": [
    "#3번\n",
    "num = int(input(\"성적을 입력하세요: \"))\n",
    "\n",
    "if(num >= 95) :\n",
    "    print(\"그랜드 마스터\")\n",
    "elif(num >= 90):\n",
    "    print(\"커널 마스터\")\n",
    "elif(num >= 80):\n",
    "    print(\"익스퍼트\")\n",
    "elif(num >= 70):\n",
    "    print(\"초심자\")\n",
    "else:\n",
    "    print(\"해당하지 않음\")"
   ]
  },
  {
   "cell_type": "code",
   "execution_count": 61,
   "metadata": {},
   "outputs": [
    {
     "name": "stdout",
     "output_type": "stream",
     "text": [
      "165\n"
     ]
    }
   ],
   "source": [
    "#4번\n",
    "result = 0\n",
    "\n",
    "for i in range(10,21,1):\n",
    "    result = result + i\n",
    "    \n",
    "print(result)"
   ]
  },
  {
   "cell_type": "code",
   "execution_count": 100,
   "metadata": {},
   "outputs": [
    {
     "name": "stdout",
     "output_type": "stream",
     "text": [
      "문자열 입력: 12dhffgyflgyfl 123\n",
      "최종 결과:  dhffgyflgyfl \n"
     ]
    }
   ],
   "source": [
    "#5번\n",
    "s = input(\"문자열 입력: \")\n",
    "\n",
    "strs = \"1234567890\"\n",
    "\n",
    "result = \"\"\n",
    "for letter in s:\n",
    "    if letter not in strs:\n",
    "        result += letter\n",
    "\n",
    "print(\"최종 결과: \", result)"
   ]
  },
  {
   "cell_type": "markdown",
   "metadata": {},
   "source": [
    "### 강사 코멘트 \n",
    " * 잘 하셨어요!!! 효리님 화이팅해주세요~"
   ]
  },
  {
   "cell_type": "code",
   "execution_count": null,
   "metadata": {},
   "outputs": [],
   "source": []
  }
 ],
 "metadata": {
  "kernelspec": {
   "display_name": "Python 3",
   "language": "python",
   "name": "python3"
  },
  "language_info": {
   "codemirror_mode": {
    "name": "ipython",
    "version": 3
   },
   "file_extension": ".py",
   "mimetype": "text/x-python",
   "name": "python",
   "nbconvert_exporter": "python",
   "pygments_lexer": "ipython3",
   "version": "3.8.3"
  }
 },
 "nbformat": 4,
 "nbformat_minor": 4
}
