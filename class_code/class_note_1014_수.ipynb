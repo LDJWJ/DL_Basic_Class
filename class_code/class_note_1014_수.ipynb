{
 "cells": [
  {
   "cell_type": "markdown",
   "metadata": {},
   "source": [
    "### QA\n",
    " * 쥬피터 노트북과 스파이더가 사용법이 동일한가요?"
   ]
  },
  {
   "cell_type": "markdown",
   "metadata": {},
   "source": [
    "* 주피터 노트북 - tkinter이 안됨.\n",
    "* 분야와 영역에 따라 다르다.\n",
    " * 개발자.\n",
    " * 통계학에서 데이터 사이언티스, 데이터 분석가.\n",
    " \n",
    "* 기업 실무..\n",
    " * pycharm\n",
    " * 최근에 많이 넘어가고 있음. visual studio code\n",
    " * .py에서 하면 tkinter이 되는 것."
   ]
  },
  {
   "cell_type": "code",
   "execution_count": null,
   "metadata": {},
   "outputs": [],
   "source": []
  }
 ],
 "metadata": {
  "kernelspec": {
   "display_name": "Python 3",
   "language": "python",
   "name": "python3"
  },
  "language_info": {
   "codemirror_mode": {
    "name": "ipython",
    "version": 3
   },
   "file_extension": ".py",
   "mimetype": "text/x-python",
   "name": "python",
   "nbconvert_exporter": "python",
   "pygments_lexer": "ipython3",
   "version": "3.8.3"
  }
 },
 "nbformat": 4,
 "nbformat_minor": 4
}
