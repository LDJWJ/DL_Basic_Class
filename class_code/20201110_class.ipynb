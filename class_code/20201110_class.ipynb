{
 "cells": [
  {
   "cell_type": "markdown",
   "metadata": {},
   "source": [
    "### 케러스 딥러닝 모델 만들기"
   ]
  },
  {
   "cell_type": "markdown",
   "metadata": {},
   "source": [
    "* tensorflow - google\n",
    "* Theano\n",
    "* pytorch - naver...\n",
    "* keras - 프랑스 한분이 일반인들도 한번 모델을 구현할 수 있도록 만들어보자.\n",
    "  * tensorflow, Theano\n",
    "  * 구글에서 일하게 되면서 tf2.x에 케라스처럼 모델을 만들게 됨."
   ]
  },
  {
   "cell_type": "markdown",
   "metadata": {},
   "source": [
    "### 케라스 딥러닝 모델 만들기\n",
    " * 데이터 셋 준비\n",
    " * 모델 구성\n",
    " * 오차 함수, 최적화 알고리즘\n",
    " * 모델 학습\n",
    " * 모델 평가"
   ]
  },
  {
   "cell_type": "code",
   "execution_count": 1,
   "metadata": {},
   "outputs": [],
   "source": [
    "import tensorflow as tf\n",
    "import keras as keras\n",
    "import sys"
   ]
  },
  {
   "cell_type": "code",
   "execution_count": 2,
   "metadata": {},
   "outputs": [
    {
     "name": "stdout",
     "output_type": "stream",
     "text": [
      "2.3.1\n",
      "2.4.3\n"
     ]
    }
   ],
   "source": [
    "print(tf.__version__)\n",
    "print(keras.__version__)"
   ]
  },
  {
   "cell_type": "markdown",
   "metadata": {},
   "source": [
    "### 사용할 패키지 불러오기"
   ]
  },
  {
   "cell_type": "markdown",
   "metadata": {},
   "source": [
    "* MNIST 이미지 : 7만장\n",
    "* "
   ]
  },
  {
   "cell_type": "code",
   "execution_count": 21,
   "metadata": {},
   "outputs": [],
   "source": [
    "import matplotlib.pyplot as plt\n",
    "import numpy as np"
   ]
  },
  {
   "cell_type": "code",
   "execution_count": 35,
   "metadata": {},
   "outputs": [],
   "source": [
    "from keras.datasets import mnist\n",
    "from keras.models import Sequential\n",
    "from keras.layers import Dense, Activation\n",
    "from keras.utils import np_utils"
   ]
  },
  {
   "cell_type": "code",
   "execution_count": 23,
   "metadata": {},
   "outputs": [],
   "source": [
    "(X_train, y_train), (X_test, y_test) = mnist.load_data()"
   ]
  },
  {
   "cell_type": "code",
   "execution_count": 24,
   "metadata": {},
   "outputs": [],
   "source": [
    "X_train_n = X_train.copy()\n",
    "y_train_n = y_train.copy()\n",
    "X_test_n = X_test.copy()\n",
    "y_test_n = y_test.copy()"
   ]
  },
  {
   "cell_type": "code",
   "execution_count": 25,
   "metadata": {},
   "outputs": [
    {
     "data": {
      "text/plain": [
       "(60000, 28, 28)"
      ]
     },
     "execution_count": 25,
     "metadata": {},
     "output_type": "execute_result"
    }
   ],
   "source": [
    "X_train.shape"
   ]
  },
  {
   "cell_type": "code",
   "execution_count": 26,
   "metadata": {},
   "outputs": [
    {
     "data": {
      "text/plain": [
       "<matplotlib.image.AxesImage at 0x26a733b8c40>"
      ]
     },
     "execution_count": 26,
     "metadata": {},
     "output_type": "execute_result"
    },
    {
     "data": {
      "image/png": "[encoded data removed]",
      "text/plain": [
       "<Figure size 432x288 with 1 Axes>"
      ]
     },
     "metadata": {
      "needs_background": "light"
     },
     "output_type": "display_data"
    }
   ],
   "source": [
    "plt.imshow(X_train[0])"
   ]
  },
  {
   "cell_type": "code",
   "execution_count": 27,
   "metadata": {},
   "outputs": [
    {
     "name": "stdout",
     "output_type": "stream",
     "text": [
      "label=[5 0 4 1 9 2 1 3 1 4]\n"
     ]
    }
   ],
   "source": [
    "print(\"label={}\".format(y_train[0:10]))   # y 레이블 데이터 0~10개 확인"
   ]
  },
  {
   "cell_type": "code",
   "execution_count": 28,
   "metadata": {},
   "outputs": [
    {
     "name": "stdout",
     "output_type": "stream",
     "text": [
      "label=[5 0 4 1 9 2 1 3 1 4]\n"
     ]
    },
    {
     "data": {
      "image/png": "[encoded data removed]",
      "text/plain": [
       "<Figure size 1296x864 with 10 Axes>"
      ]
     },
     "metadata": {
      "needs_background": "light"
     },
     "output_type": "display_data"
    }
   ],
   "source": [
    "figure,axes = plt.subplots(nrows=2, ncols=5)  # 3행 5열의 구조 \n",
    "figure.set_size_inches(18,12)  # 전체 크기\n",
    "\n",
    "print(\"label={}\".format(y_train[0:10]))   # y 레이블 데이터 0~10개 확인\n",
    "\n",
    "col = 0\n",
    "for row in range(0,2):\n",
    "    col = row * 5\n",
    "    axes[row][0].imshow(X_train[col])  # 0,5,10의 값을 갖는 위치 값 이미지 표시\n",
    "    axes[row][1].imshow(X_train[col+1])# 1,6,11의 값을 갖는 위치 값 이미지 표시\n",
    "    axes[row][2].imshow(X_train[col+2])# 2,7,12의 값을 갖는 위치 값 이미지 표시\n",
    "    axes[row][3].imshow(X_train[col+3])# 3,8,13의 값을 갖는 위치 값 이미지 표시\n",
    "    axes[row][4].imshow(X_train[col+4])# 4,9,114의 값을 갖는 위치 값 이미지 표시"
   ]
  },
  {
   "cell_type": "markdown",
   "metadata": {},
   "source": [
    "### 입력층 - 은닉층 - 출력층\n",
    " * 입력층에 맞춰주기 위해서 형을 변경"
   ]
  },
  {
   "cell_type": "code",
   "execution_count": 29,
   "metadata": {},
   "outputs": [],
   "source": [
    "X_train = X_train.reshape(60000, 784)\n",
    "X_test = X_test.reshape(10000, 784)"
   ]
  },
  {
   "cell_type": "code",
   "execution_count": 30,
   "metadata": {},
   "outputs": [
    {
     "name": "stdout",
     "output_type": "stream",
     "text": [
      "(60000,) (10000,)\n",
      "[5 0 4 1 9]\n",
      "(60000, 10) (10000, 10)\n",
      "[[0. 0. 0. 0. 0. 1. 0. 0. 0. 0.]\n",
      " [1. 0. 0. 0. 0. 0. 0. 0. 0. 0.]\n",
      " [0. 0. 0. 0. 1. 0. 0. 0. 0. 0.]\n",
      " [0. 1. 0. 0. 0. 0. 0. 0. 0. 0.]\n",
      " [0. 0. 0. 0. 0. 0. 0. 0. 0. 1.]]\n"
     ]
    }
   ],
   "source": [
    "### 레이블의 데이터를 1D -> 2D 출력층에 맞춘다.\n",
    "### One-Hot-Encoding 방법을 이용한다. \n",
    "print(y_train.shape, y_test.shape)\n",
    "print(y_train[0:5])\n",
    "\n",
    "y_train = np_utils.to_categorical(y_train)\n",
    "y_test = np_utils.to_categorical(y_test)\n",
    "\n",
    "print(y_train.shape, y_test.shape)\n",
    "print(y_train[0:5])"
   ]
  },
  {
   "cell_type": "code",
   "execution_count": 31,
   "metadata": {},
   "outputs": [
    {
     "name": "stdout",
     "output_type": "stream",
     "text": [
      "[0 0 0 0 0 0 0 0 0 0 0 0 0 0 0 0 0 0 0 0]\n",
      "[0. 0. 0. 0. 0. 0. 0. 0. 0. 0. 0. 0. 0. 0. 0. 0. 0. 0. 0. 0.]\n"
     ]
    }
   ],
   "source": [
    "print(X_train[0][:20])  # (?, 784)\n",
    "\n",
    "X_train = X_train.astype('float32') / 255.0\n",
    "X_test = X_test.astype('float32') / 255.0"
   ]
  },
  {
   "cell_type": "code",
   "execution_count": 34,
   "metadata": {},
   "outputs": [
    {
     "name": "stdout",
     "output_type": "stream",
     "text": [
      "[0.         0.         0.         0.         0.         0.\n",
      " 0.         0.         0.         0.         0.         0.\n",
      " 0.         0.         0.         0.         0.         0.\n",
      " 0.         0.         0.         0.         0.         0.\n",
      " 0.         0.         0.         0.         0.         0.\n",
      " 0.         0.         0.         0.         0.         0.\n",
      " 0.         0.         0.         0.         0.         0.\n",
      " 0.         0.         0.         0.         0.         0.\n",
      " 0.         0.         0.         0.         0.         0.\n",
      " 0.         0.         0.         0.         0.         0.\n",
      " 0.         0.         0.         0.         0.         0.\n",
      " 0.         0.         0.         0.         0.         0.\n",
      " 0.         0.         0.         0.         0.         0.\n",
      " 0.         0.         0.         0.         0.         0.\n",
      " 0.         0.         0.         0.         0.         0.\n",
      " 0.         0.         0.         0.         0.         0.\n",
      " 0.         0.         0.         0.         0.         0.\n",
      " 0.         0.         0.         0.         0.         0.\n",
      " 0.         0.         0.         0.         0.         0.\n",
      " 0.         0.         0.         0.         0.         0.\n",
      " 0.         0.         0.         0.         0.         0.\n",
      " 0.         0.         0.         0.         0.         0.\n",
      " 0.         0.         0.         0.         0.         0.\n",
      " 0.         0.         0.         0.         0.         0.\n",
      " 0.         0.         0.         0.         0.         0.\n",
      " 0.         0.         0.01176471 0.07058824 0.07058824 0.07058824\n",
      " 0.49411765 0.53333336 0.6862745  0.10196079 0.6509804  1.\n",
      " 0.96862745 0.49803922 0.         0.         0.         0.\n",
      " 0.         0.         0.         0.         0.         0.\n",
      " 0.         0.         0.11764706 0.14117648 0.36862746 0.6039216\n",
      " 0.6666667  0.99215686 0.99215686 0.99215686 0.99215686 0.99215686\n",
      " 0.88235295 0.6745098  0.99215686 0.9490196  0.7647059  0.2509804\n",
      " 0.         0.         0.         0.         0.         0.\n",
      " 0.         0.         0.         0.         0.         0.19215687\n",
      " 0.93333334 0.99215686 0.99215686 0.99215686 0.99215686 0.99215686\n",
      " 0.99215686 0.99215686 0.99215686 0.9843137  0.3647059  0.32156864\n",
      " 0.32156864 0.21960784 0.15294118 0.         0.         0.\n",
      " 0.         0.         0.         0.         0.         0.\n",
      " 0.         0.         0.         0.07058824 0.85882354 0.99215686\n",
      " 0.99215686 0.99215686 0.99215686 0.99215686 0.7764706  0.7137255\n",
      " 0.96862745 0.94509804 0.         0.         0.         0.\n",
      " 0.         0.         0.         0.         0.         0.\n",
      " 0.         0.         0.         0.         0.         0.\n",
      " 0.         0.         0.3137255  0.6117647  0.41960785 0.99215686\n",
      " 0.99215686 0.8039216  0.04313726 0.         0.16862746 0.6039216\n",
      " 0.         0.         0.         0.         0.         0.\n",
      " 0.         0.         0.         0.         0.         0.\n",
      " 0.         0.         0.         0.         0.         0.\n",
      " 0.         0.05490196 0.00392157 0.6039216  0.99215686 0.3529412\n",
      " 0.         0.         0.         0.         0.         0.        ]\n"
     ]
    }
   ],
   "source": [
    "print(X_train[0][:300])   # 784이미지 데이터 "
   ]
  },
  {
   "cell_type": "markdown",
   "metadata": {},
   "source": [
    "### 활성화 함수\n",
    " * step function : 음수면 0, 양수면 1\n",
    " * sigmoid : 0과 1사이의 값으로 표현\n",
    " * tanh \n",
    " * relu : 0이하면 0, 그 이상이면 비례해서 증가 \n",
    " * leakyrelu\n",
    " * ....\n",
    " * softmax : 0 ~ 1사이의 값으로 표시되는데, 전체 값을 더하면 1이되는 것."
   ]
  },
  {
   "cell_type": "code",
   "execution_count": null,
   "metadata": {},
   "outputs": [],
   "source": [
    "# from keras.layers import Dense, Activation"
   ]
  },
  {
   "cell_type": "code",
   "execution_count": 36,
   "metadata": {},
   "outputs": [],
   "source": [
    "model = Sequential()\n",
    "model.add( Dense (units=64, input_dim=28*28, activation='tanh'))\n",
    "model.add( Dense(32))\n",
    "model.add( Activation('tanh') )\n",
    "model.add( Dense(32))\n",
    "model.add( Activation('tanh') )\n",
    "\n",
    "model.add( Dense(units=10, activation='softmax') )"
   ]
  },
  {
   "cell_type": "markdown",
   "metadata": {},
   "source": [
    "### 손실함수(loss function), 최적화 알고리즘 선택"
   ]
  },
  {
   "cell_type": "code",
   "execution_count": 37,
   "metadata": {},
   "outputs": [],
   "source": [
    "model.compile(loss='categorical_crossentropy',\n",
    "              optimizer='sgd',\n",
    "              metrics=['accuracy'])"
   ]
  },
  {
   "cell_type": "code",
   "execution_count": 40,
   "metadata": {},
   "outputs": [
    {
     "name": "stdout",
     "output_type": "stream",
     "text": [
      "(60000, 784)\n",
      "1875.0\n"
     ]
    }
   ],
   "source": [
    "print( X_train.shape )\n",
    "print( 60000/32)"
   ]
  },
  {
   "cell_type": "code",
   "execution_count": 38,
   "metadata": {},
   "outputs": [
    {
     "name": "stdout",
     "output_type": "stream",
     "text": [
      "Epoch 1/10\n",
      "1875/1875 [==============================] - 4s 2ms/step - loss: 0.7056 - accuracy: 0.8258\n",
      "Epoch 2/10\n",
      "1875/1875 [==============================] - 4s 2ms/step - loss: 0.3276 - accuracy: 0.9104\n",
      "Epoch 3/10\n",
      "1875/1875 [==============================] - 5s 2ms/step - loss: 0.2655 - accuracy: 0.9246\n",
      "Epoch 4/10\n",
      "1875/1875 [==============================] - 5s 2ms/step - loss: 0.2295 - accuracy: 0.9342\n",
      "Epoch 5/10\n",
      "1875/1875 [==============================] - 3s 2ms/step - loss: 0.2021 - accuracy: 0.9420\n",
      "Epoch 6/10\n",
      "1875/1875 [==============================] - 3s 2ms/step - loss: 0.1804 - accuracy: 0.9477\n",
      "Epoch 7/10\n",
      "1875/1875 [==============================] - 4s 2ms/step - loss: 0.1629 - accuracy: 0.9528\n",
      "Epoch 8/10\n",
      "1875/1875 [==============================] - 4s 2ms/step - loss: 0.1483 - accuracy: 0.9566\n",
      "Epoch 9/10\n",
      "1875/1875 [==============================] - 4s 2ms/step - loss: 0.1358 - accuracy: 0.9607\n",
      "Epoch 10/10\n",
      "1875/1875 [==============================] - 4s 2ms/step - loss: 0.1254 - accuracy: 0.9640\n"
     ]
    }
   ],
   "source": [
    "### 모델 학습\n",
    "hist = model.fit(X_train, y_train, epochs=10, batch_size=32)"
   ]
  },
  {
   "cell_type": "code",
   "execution_count": 41,
   "metadata": {},
   "outputs": [
    {
     "data": {
      "text/plain": [
       "dict_keys(['loss', 'accuracy'])"
      ]
     },
     "execution_count": 41,
     "metadata": {},
     "output_type": "execute_result"
    }
   ],
   "source": [
    "hist.history.keys()"
   ]
  },
  {
   "cell_type": "code",
   "execution_count": 42,
   "metadata": {},
   "outputs": [
    {
     "data": {
      "text/plain": [
       "<matplotlib.legend.Legend at 0x26a6fc8d250>"
      ]
     },
     "execution_count": 42,
     "metadata": {},
     "output_type": "execute_result"
    },
    {
     "data": {
      "image/png": "[encoded data removed]",
      "text/plain": [
       "<Figure size 720x576 with 1 Axes>"
      ]
     },
     "metadata": {},
     "output_type": "display_data"
    }
   ],
   "source": [
    "plt.figure(figsize=(10,8),facecolor='white')\n",
    "x_lim = range(1,11)\n",
    "plt.plot(x_lim,  hist.history['loss'])\n",
    "plt.plot(x_lim,  hist.history['accuracy'])\n",
    "plt.legend(['loss','acc'])"
   ]
  },
  {
   "cell_type": "code",
   "execution_count": 43,
   "metadata": {},
   "outputs": [
    {
     "name": "stdout",
     "output_type": "stream",
     "text": [
      "313/313 [==============================] - 0s 1ms/step - loss: 0.1325 - accuracy: 0.9607\n",
      "[0.13246364891529083, 0.9606999754905701]\n"
     ]
    }
   ],
   "source": [
    "loss_and_metrics = model.evaluate(X_test, y_test, batch_size=32)\n",
    "print(loss_and_metrics)"
   ]
  },
  {
   "cell_type": "markdown",
   "metadata": {},
   "source": [
    "### 딥러닝 학습 조기 종료 함수"
   ]
  },
  {
   "cell_type": "code",
   "execution_count": 44,
   "metadata": {},
   "outputs": [],
   "source": [
    "from keras.utils import np_utils\n",
    "from keras.datasets import mnist\n",
    "from keras.models import Sequential\n",
    "from keras.layers import Dense, Activation\n",
    "import numpy as np"
   ]
  },
  {
   "cell_type": "code",
   "execution_count": 52,
   "metadata": {},
   "outputs": [],
   "source": [
    "\n",
    "(X_train, y_train), (X_test, y_test) = mnist.load_data()\n",
    "\n",
    "# 훈련셋과 검증셋 분리\n",
    "X_val = X_train[50000:]\n",
    "y_val = y_train[50000:]\n",
    "X_train = X_train[:50000]\n",
    "y_train = y_train[:50000]"
   ]
  },
  {
   "cell_type": "code",
   "execution_count": 53,
   "metadata": {},
   "outputs": [],
   "source": [
    "X_train = X_train.reshape(50000, 784).astype('float32')/255.0\n",
    "X_val = X_val.reshape(10000, 784).astype('float32')/255.0\n",
    "X_test = X_test.reshape(10000, 784).astype('float32')/255.0"
   ]
  },
  {
   "cell_type": "code",
   "execution_count": 54,
   "metadata": {},
   "outputs": [],
   "source": [
    "# 훈련셋, 검증셋 고르기\n",
    "train_rand_idxs = np.random.choice(50000, 10000)\n",
    "val_rand_idxs = np.random.choice(10000, 5000)\n",
    "\n",
    "X_train = X_train[train_rand_idxs]\n",
    "y_train = y_train[train_rand_idxs]\n",
    "X_val = X_val[val_rand_idxs]\n",
    "y_val = y_val[val_rand_idxs]"
   ]
  },
  {
   "cell_type": "markdown",
   "metadata": {},
   "source": [
    "### 원핫 인코딩"
   ]
  },
  {
   "cell_type": "code",
   "execution_count": 55,
   "metadata": {},
   "outputs": [],
   "source": [
    "# 라벨링 전환\n",
    "y_train = np_utils.to_categorical(y_train)\n",
    "y_val = np_utils.to_categorical(y_val)\n",
    "y_test = np_utils.to_categorical(y_test)"
   ]
  },
  {
   "cell_type": "code",
   "execution_count": 56,
   "metadata": {},
   "outputs": [
    {
     "name": "stdout",
     "output_type": "stream",
     "text": [
      "(10000, 784) (10000, 10)\n",
      "(5000, 784) (5000, 10)\n",
      "(10000, 784) (10000, 10)\n"
     ]
    }
   ],
   "source": [
    "print(X_train.shape, y_train.shape)\n",
    "print(X_val.shape, y_val.shape)\n",
    "print(X_test.shape, y_test.shape)"
   ]
  },
  {
   "cell_type": "markdown",
   "metadata": {},
   "source": [
    "### 모델 구성하기"
   ]
  },
  {
   "cell_type": "code",
   "execution_count": 57,
   "metadata": {},
   "outputs": [],
   "source": [
    "# 2. 모델 구성하기\n",
    "model = Sequential()\n",
    "model.add(Dense(units=64, input_dim=28*28, activation='relu'))\n",
    "model.add(Dense(units=32, activation='relu'))\n",
    "model.add(Dense(units=10, activation='softmax'))"
   ]
  },
  {
   "cell_type": "code",
   "execution_count": 58,
   "metadata": {},
   "outputs": [],
   "source": [
    "# 3. 모델의 오차함수, 최적화 함수 설정\n",
    "model.compile(loss='categorical_crossentropy', \n",
    "              optimizer='sgd', \n",
    "              metrics=['accuracy'])"
   ]
  },
  {
   "cell_type": "code",
   "execution_count": 61,
   "metadata": {},
   "outputs": [
    {
     "name": "stdout",
     "output_type": "stream",
     "text": [
      "Epoch 1/3000\n",
      "1000/1000 [==============================] - 3s 3ms/step - loss: 0.0059 - accuracy: 1.0000 - val_loss: 0.1895 - val_accuracy: 0.9544\n",
      "Epoch 2/3000\n",
      "1000/1000 [==============================] - 3s 3ms/step - loss: 0.0057 - accuracy: 1.0000 - val_loss: 0.1888 - val_accuracy: 0.9532\n",
      "Epoch 3/3000\n",
      "1000/1000 [==============================] - 3s 3ms/step - loss: 0.0054 - accuracy: 1.0000 - val_loss: 0.1914 - val_accuracy: 0.9538\n",
      "Epoch 4/3000\n",
      "1000/1000 [==============================] - 3s 3ms/step - loss: 0.0051 - accuracy: 1.0000 - val_loss: 0.1960 - val_accuracy: 0.9542\n",
      "Epoch 5/3000\n",
      "1000/1000 [==============================] - 3s 3ms/step - loss: 0.0049 - accuracy: 1.0000 - val_loss: 0.1949 - val_accuracy: 0.9538\n",
      "Epoch 6/3000\n",
      "1000/1000 [==============================] - 3s 3ms/step - loss: 0.0047 - accuracy: 1.0000 - val_loss: 0.1945 - val_accuracy: 0.9552\n",
      "Epoch 7/3000\n",
      "1000/1000 [==============================] - 3s 3ms/step - loss: 0.0045 - accuracy: 1.0000 - val_loss: 0.1961 - val_accuracy: 0.9536\n",
      "Epoch 8/3000\n",
      "1000/1000 [==============================] - 3s 3ms/step - loss: 0.0043 - accuracy: 1.0000 - val_loss: 0.1965 - val_accuracy: 0.9552\n",
      "Epoch 9/3000\n",
      "1000/1000 [==============================] - 3s 3ms/step - loss: 0.0042 - accuracy: 1.0000 - val_loss: 0.1971 - val_accuracy: 0.9550\n",
      "Epoch 10/3000\n",
      "1000/1000 [==============================] - 3s 3ms/step - loss: 0.0040 - accuracy: 1.0000 - val_loss: 0.1986 - val_accuracy: 0.9522\n",
      "Epoch 11/3000\n",
      "1000/1000 [==============================] - 3s 3ms/step - loss: 0.0039 - accuracy: 1.0000 - val_loss: 0.1974 - val_accuracy: 0.9542\n",
      "Epoch 12/3000\n",
      "1000/1000 [==============================] - 2s 2ms/step - loss: 0.0038 - accuracy: 1.0000 - val_loss: 0.2000 - val_accuracy: 0.9536\n",
      "Epoch 13/3000\n",
      "1000/1000 [==============================] - 3s 3ms/step - loss: 0.0036 - accuracy: 1.0000 - val_loss: 0.2012 - val_accuracy: 0.9540\n",
      "Epoch 14/3000\n",
      "1000/1000 [==============================] - 3s 3ms/step - loss: 0.0035 - accuracy: 1.0000 - val_loss: 0.2030 - val_accuracy: 0.9532\n",
      "Epoch 15/3000\n",
      "1000/1000 [==============================] - 3s 3ms/step - loss: 0.0034 - accuracy: 1.0000 - val_loss: 0.2029 - val_accuracy: 0.9532\n",
      "Epoch 16/3000\n",
      "1000/1000 [==============================] - 3s 3ms/step - loss: 0.0033 - accuracy: 1.0000 - val_loss: 0.2020 - val_accuracy: 0.9544\n",
      "Epoch 17/3000\n",
      "1000/1000 [==============================] - 3s 3ms/step - loss: 0.0032 - accuracy: 1.0000 - val_loss: 0.2029 - val_accuracy: 0.9546\n",
      "Epoch 18/3000\n",
      "1000/1000 [==============================] - 2s 2ms/step - loss: 0.0031 - accuracy: 1.0000 - val_loss: 0.2025 - val_accuracy: 0.9532\n",
      "Epoch 19/3000\n",
      "1000/1000 [==============================] - 2s 2ms/step - loss: 0.0030 - accuracy: 1.0000 - val_loss: 0.2040 - val_accuracy: 0.9536\n",
      "Epoch 20/3000\n",
      "1000/1000 [==============================] - 2s 2ms/step - loss: 0.0029 - accuracy: 1.0000 - val_loss: 0.2054 - val_accuracy: 0.9542\n",
      "Epoch 21/3000\n",
      "1000/1000 [==============================] - 2s 2ms/step - loss: 0.0028 - accuracy: 1.0000 - val_loss: 0.2061 - val_accuracy: 0.9536\n",
      "Epoch 22/3000\n",
      "1000/1000 [==============================] - 2s 2ms/step - loss: 0.0028 - accuracy: 1.0000 - val_loss: 0.2066 - val_accuracy: 0.9536\n",
      "Epoch 23/3000\n",
      "1000/1000 [==============================] - 3s 3ms/step - loss: 0.0027 - accuracy: 1.0000 - val_loss: 0.2056 - val_accuracy: 0.9546\n",
      "Epoch 24/3000\n",
      "1000/1000 [==============================] - 2s 2ms/step - loss: 0.0026 - accuracy: 1.0000 - val_loss: 0.2068 - val_accuracy: 0.9540\n",
      "Epoch 25/3000\n",
      "1000/1000 [==============================] - 2s 2ms/step - loss: 0.0025 - accuracy: 1.0000 - val_loss: 0.2065 - val_accuracy: 0.9540\n",
      "Epoch 26/3000\n",
      "1000/1000 [==============================] - 2s 2ms/step - loss: 0.0025 - accuracy: 1.0000 - val_loss: 0.2097 - val_accuracy: 0.9540\n",
      "Epoch 27/3000\n",
      "1000/1000 [==============================] - 3s 3ms/step - loss: 0.0024 - accuracy: 1.0000 - val_loss: 0.2078 - val_accuracy: 0.9546\n",
      "Epoch 28/3000\n",
      "1000/1000 [==============================] - 3s 3ms/step - loss: 0.0024 - accuracy: 1.0000 - val_loss: 0.2097 - val_accuracy: 0.9540\n",
      "Epoch 29/3000\n",
      "1000/1000 [==============================] - 4s 4ms/step - loss: 0.0023 - accuracy: 1.0000 - val_loss: 0.2124 - val_accuracy: 0.9526\n",
      "Epoch 30/3000\n",
      "1000/1000 [==============================] - 3s 3ms/step - loss: 0.0023 - accuracy: 1.0000 - val_loss: 0.2103 - val_accuracy: 0.9544\n",
      "Epoch 31/3000\n",
      "1000/1000 [==============================] - 3s 3ms/step - loss: 0.0022 - accuracy: 1.0000 - val_loss: 0.2101 - val_accuracy: 0.9546\n",
      "Epoch 32/3000\n",
      "1000/1000 [==============================] - 2s 2ms/step - loss: 0.0022 - accuracy: 1.0000 - val_loss: 0.2123 - val_accuracy: 0.9526\n",
      "Epoch 33/3000\n",
      "1000/1000 [==============================] - 3s 3ms/step - loss: 0.0021 - accuracy: 1.0000 - val_loss: 0.2125 - val_accuracy: 0.9534\n",
      "Epoch 34/3000\n",
      "1000/1000 [==============================] - 3s 3ms/step - loss: 0.0020 - accuracy: 1.0000 - val_loss: 0.2122 - val_accuracy: 0.9556\n",
      "Epoch 35/3000\n",
      "1000/1000 [==============================] - 3s 3ms/step - loss: 0.0020 - accuracy: 1.0000 - val_loss: 0.2121 - val_accuracy: 0.9546\n",
      "Epoch 36/3000\n",
      "1000/1000 [==============================] - 3s 3ms/step - loss: 0.0020 - accuracy: 1.0000 - val_loss: 0.2146 - val_accuracy: 0.9542\n",
      "Epoch 37/3000\n",
      "1000/1000 [==============================] - 2s 2ms/step - loss: 0.0019 - accuracy: 1.0000 - val_loss: 0.2150 - val_accuracy: 0.9544\n",
      "Epoch 38/3000\n",
      "1000/1000 [==============================] - 2s 2ms/step - loss: 0.0019 - accuracy: 1.0000 - val_loss: 0.2143 - val_accuracy: 0.9536\n",
      "Epoch 39/3000\n",
      "1000/1000 [==============================] - 2s 2ms/step - loss: 0.0018 - accuracy: 1.0000 - val_loss: 0.2144 - val_accuracy: 0.9538\n",
      "Epoch 40/3000\n",
      "1000/1000 [==============================] - 2s 2ms/step - loss: 0.0018 - accuracy: 1.0000 - val_loss: 0.2149 - val_accuracy: 0.9542\n",
      "Epoch 41/3000\n",
      "1000/1000 [==============================] - 2s 2ms/step - loss: 0.0018 - accuracy: 1.0000 - val_loss: 0.2151 - val_accuracy: 0.9534\n",
      "Epoch 42/3000\n",
      "1000/1000 [==============================] - 2s 2ms/step - loss: 0.0017 - accuracy: 1.0000 - val_loss: 0.2155 - val_accuracy: 0.9544\n",
      "Epoch 43/3000\n",
      "1000/1000 [==============================] - 2s 2ms/step - loss: 0.0017 - accuracy: 1.0000 - val_loss: 0.2174 - val_accuracy: 0.9550\n",
      "Epoch 44/3000\n",
      "1000/1000 [==============================] - 2s 2ms/step - loss: 0.0017 - accuracy: 1.0000 - val_loss: 0.2157 - val_accuracy: 0.9544\n",
      "Epoch 45/3000\n",
      "1000/1000 [==============================] - 2s 2ms/step - loss: 0.0016 - accuracy: 1.0000 - val_loss: 0.2173 - val_accuracy: 0.9538\n",
      "Epoch 46/3000\n",
      "1000/1000 [==============================] - 2s 2ms/step - loss: 0.0016 - accuracy: 1.0000 - val_loss: 0.2163 - val_accuracy: 0.9546\n",
      "Epoch 47/3000\n",
      "1000/1000 [==============================] - 2s 2ms/step - loss: 0.0016 - accuracy: 1.0000 - val_loss: 0.2185 - val_accuracy: 0.9536\n",
      "Epoch 48/3000\n",
      "1000/1000 [==============================] - 2s 2ms/step - loss: 0.0016 - accuracy: 1.0000 - val_loss: 0.2182 - val_accuracy: 0.9538\n",
      "Epoch 49/3000\n",
      "1000/1000 [==============================] - 2s 2ms/step - loss: 0.0015 - accuracy: 1.0000 - val_loss: 0.2195 - val_accuracy: 0.9540\n",
      "Epoch 50/3000\n",
      "1000/1000 [==============================] - 2s 2ms/step - loss: 0.0015 - accuracy: 1.0000 - val_loss: 0.2183 - val_accuracy: 0.9530\n",
      "Epoch 51/3000\n",
      "1000/1000 [==============================] - 2s 2ms/step - loss: 0.0015 - accuracy: 1.0000 - val_loss: 0.2184 - val_accuracy: 0.9548\n",
      "Epoch 52/3000\n",
      "1000/1000 [==============================] - 2s 2ms/step - loss: 0.0015 - accuracy: 1.0000 - val_loss: 0.2204 - val_accuracy: 0.9544\n"
     ]
    }
   ],
   "source": [
    "from keras.callbacks import EarlyStopping\n",
    "\n",
    "early_stopping = EarlyStopping(patience=50)\n",
    "hist = model.fit(X_train, y_train,\n",
    "                epochs=3000,\n",
    "                batch_size=10,\n",
    "                validation_data=(X_val, y_val),\n",
    "                callbacks=[early_stopping])"
   ]
  },
  {
   "cell_type": "code",
   "execution_count": 62,
   "metadata": {},
   "outputs": [
    {
     "data": {
      "image/png": "[encoded data removed]",
      "text/plain": [
       "<Figure size 432x288 with 2 Axes>"
      ]
     },
     "metadata": {
      "needs_background": "light"
     },
     "output_type": "display_data"
    }
   ],
   "source": [
    "# 5. 모델 학습 과정 표시하기\n",
    "%matplotlib inline\n",
    "import matplotlib.pyplot as plt\n",
    "\n",
    "fig, loss_ax = plt.subplots()\n",
    "\n",
    "acc_ax = loss_ax.twinx()\n",
    "\n",
    "loss_ax.plot(hist.history['loss'], 'y', label='train loss')\n",
    "loss_ax.plot(hist.history['val_loss'], 'r', label='val loss')\n",
    "\n",
    "acc_ax.plot(hist.history['accuracy'], 'b', label='train acc')\n",
    "acc_ax.plot(hist.history['val_accuracy'], 'g', label='val acc')\n",
    "\n",
    "loss_ax.set_xlabel('epoch')\n",
    "loss_ax.set_ylabel('loss')\n",
    "acc_ax.set_ylabel('accuray')\n",
    "\n",
    "loss_ax.legend(loc='upper left')\n",
    "acc_ax.legend(loc='lower left')\n",
    "\n",
    "plt.show()\n"
   ]
  },
  {
   "cell_type": "code",
   "execution_count": null,
   "metadata": {},
   "outputs": [],
   "source": []
  }
 ],
 "metadata": {
  "kernelspec": {
   "display_name": "Python 3",
   "language": "python",
   "name": "python3"
  },
  "language_info": {
   "codemirror_mode": {
    "name": "ipython",
    "version": 3
   },
   "file_extension": ".py",
   "mimetype": "text/x-python",
   "name": "python",
   "nbconvert_exporter": "python",
   "pygments_lexer": "ipython3",
   "version": "3.8.5"
  }
 },
 "nbformat": 4,
 "nbformat_minor": 4
}
