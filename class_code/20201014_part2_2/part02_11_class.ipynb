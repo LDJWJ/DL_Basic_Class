{
 "cells": [
  {
   "cell_type": "code",
   "execution_count": 3,
   "metadata": {},
   "outputs": [],
   "source": [
    "# -*- coding: utf-8 -*-\n",
    "from selenium import webdriver\n",
    "driver = webdriver.Chrome('chromedriver')"
   ]
  },
  {
   "cell_type": "code",
   "execution_count": 4,
   "metadata": {},
   "outputs": [],
   "source": [
    "url = \"https://www.naver.com/\"\n",
    "driver.get(url)"
   ]
  },
  {
   "cell_type": "markdown",
   "metadata": {},
   "source": [
    "### 검색창에 단어 입력하기"
   ]
  },
  {
   "cell_type": "code",
   "execution_count": 5,
   "metadata": {},
   "outputs": [],
   "source": [
    "# xpath : //*[@id=\"query\"]\n",
    "# 버튼의 xpath : //*[@id=\"search_btn\"]\n",
    "sel_xpath = driver.find_element_by_xpath('//*[@id=\"query\"]')\n",
    "sel_btn = driver.find_element_by_xpath('//*[@id=\"search_btn\"]')"
   ]
  },
  {
   "cell_type": "code",
   "execution_count": 6,
   "metadata": {},
   "outputs": [
    {
     "name": "stdout",
     "output_type": "stream",
     "text": [
      "<selenium.webdriver.remote.webelement.WebElement (session=\"b124bf717de63ab5548cb9140233aefc\", element=\"5f58cc48-6f48-4939-afbe-f6117eaa56fd\")>\n",
      "<selenium.webdriver.remote.webelement.WebElement (session=\"b124bf717de63ab5548cb9140233aefc\", element=\"2ac74eea-80d9-485a-afe9-b87766eabde5\")>\n"
     ]
    }
   ],
   "source": [
    "print(sel_xpath)\n",
    "print(sel_btn)"
   ]
  },
  {
   "cell_type": "code",
   "execution_count": 7,
   "metadata": {},
   "outputs": [],
   "source": [
    "sel_xpath.send_keys('미세먼지')"
   ]
  },
  {
   "cell_type": "code",
   "execution_count": 8,
   "metadata": {},
   "outputs": [],
   "source": [
    "sel_btn.click()"
   ]
  },
  {
   "cell_type": "code",
   "execution_count": 9,
   "metadata": {},
   "outputs": [],
   "source": [
    "url = \"https://pythonstart.github.io/web/\"\n",
    "driver.get(url)"
   ]
  },
  {
   "cell_type": "markdown",
   "metadata": {},
   "source": [
    "* find_element_by_id   : id값을 이용하여 접근\n",
    "* find_element_by_name : 속성 name를 이용하여 접근\n",
    "* find_element_by_xpath : xpath를 이용하여 접근\n",
    "* find_element_by_link_text  : a태그의 href를 이용하여 수집(쿼리 스트링 부분)\n",
    "* find_element_by_partial_link_text : a태그의 href를 이용하여 수집(path를 이용)\n",
    "* find_element_by_tag_name : 태그이름을 이용하여 접근\n",
    "* find_element_by_class_name : 클래스 이름을 이용하여 접근\n",
    "* find_element_by_css_selector : css selector를 이용하여 접근"
   ]
  },
  {
   "cell_type": "code",
   "execution_count": 10,
   "metadata": {},
   "outputs": [
    {
     "name": "stdout",
     "output_type": "stream",
     "text": [
      "<selenium.webdriver.remote.webelement.WebElement (session=\"b124bf717de63ab5548cb9140233aefc\", element=\"46e893fb-5f4b-4aed-a841-5def15ba84ca\")>\n"
     ]
    }
   ],
   "source": [
    "sel_id = driver.find_element_by_id(\"rank\")\n",
    "print(sel_id)"
   ]
  },
  {
   "cell_type": "code",
   "execution_count": 11,
   "metadata": {},
   "outputs": [
    {
     "data": {
      "text/plain": [
       "'10. 랭킹 정보 가져오기(웹 크롤링)'"
      ]
     },
     "execution_count": 11,
     "metadata": {},
     "output_type": "execute_result"
    }
   ],
   "source": [
    "sel_id.text"
   ]
  },
  {
   "cell_type": "code",
   "execution_count": 12,
   "metadata": {},
   "outputs": [
    {
     "data": {
      "text/plain": [
       "'a'"
      ]
     },
     "execution_count": 12,
     "metadata": {},
     "output_type": "execute_result"
    }
   ],
   "source": [
    "sel_id.tag_name"
   ]
  },
  {
   "cell_type": "code",
   "execution_count": 13,
   "metadata": {},
   "outputs": [],
   "source": [
    "sel_id.click()"
   ]
  },
  {
   "cell_type": "markdown",
   "metadata": {},
   "source": [
    "## 실습1.여러개 가져오기\n",
    " * a태그의 텍스트 전체 가져오기"
   ]
  },
  {
   "cell_type": "markdown",
   "metadata": {},
   "source": [
    "* find_elements_by_tag_name(\"태그명\")\n",
    "* for문을 돌려서 하나씩 텍스트를 출력한다.\n"
   ]
  },
  {
   "cell_type": "code",
   "execution_count": 16,
   "metadata": {},
   "outputs": [],
   "source": [
    "ele_a = driver.find_elements_by_tag_name(\"a\")"
   ]
  },
  {
   "cell_type": "code",
   "execution_count": 17,
   "metadata": {},
   "outputs": [
    {
     "name": "stdout",
     "output_type": "stream",
     "text": [
      "01. 제목 가져오기(title)\n",
      "02. 텍스트 가져오기(p)\n",
      "03. 링크 가져오기(a)\n",
      "04. 이미지 정보 가져오기(img)\n",
      "05. 리스트 정보 가져오기(ul,ol)\n",
      "06. id를 활용한 정보 획득\n",
      "07. class를 활용한 정보 획득\n",
      "08. 하나의 이미지 다운로드\n",
      "09. 여러개의 이미지 다운로드\n",
      "10. 랭킹 정보 가져오기(웹 크롤링)\n"
     ]
    }
   ],
   "source": [
    "for one in ele_a:\n",
    "    print(one.text)"
   ]
  },
  {
   "cell_type": "code",
   "execution_count": 18,
   "metadata": {},
   "outputs": [
    {
     "name": "stdout",
     "output_type": "stream",
     "text": [
      "<selenium.webdriver.remote.webelement.WebElement (session=\"b124bf717de63ab5548cb9140233aefc\", element=\"b2db4690-cf4e-4244-9703-07e48f0a8f2f\")>\n",
      "a\n",
      "2\n"
     ]
    }
   ],
   "source": [
    "selected_name = driver.find_element_by_name('text_get')\n",
    "print(selected_name)     # WebElement 객체 확인\n",
    "print(selected_name.tag_name)  # 태그 이름 확인 \n",
    "\n",
    "# find_elements_by_name 이용해 보기\n",
    "# name이 'q'인것이 하나이기에 길이가 1인 리스트가 반환됨.\n",
    "selected_names = driver.find_elements_by_name('link_get')\n",
    "print(len(selected_names))"
   ]
  },
  {
   "cell_type": "markdown",
   "metadata": {},
   "source": [
    "### selector를 이용한 접근"
   ]
  },
  {
   "cell_type": "markdown",
   "metadata": {},
   "source": [
    "* find_element_by_css_selector\n",
    "* find_elements_by_css_selector"
   ]
  },
  {
   "cell_type": "code",
   "execution_count": 19,
   "metadata": {},
   "outputs": [
    {
     "name": "stdout",
     "output_type": "stream",
     "text": [
      "<selenium.webdriver.remote.webelement.WebElement (session=\"b124bf717de63ab5548cb9140233aefc\", element=\"46e893fb-5f4b-4aed-a841-5def15ba84ca\")>\n"
     ]
    }
   ],
   "source": [
    "content = driver.find_element_by_css_selector(\"body ul a#rank\")\n",
    "print(content)"
   ]
  },
  {
   "cell_type": "code",
   "execution_count": 20,
   "metadata": {},
   "outputs": [
    {
     "data": {
      "text/plain": [
       "'10. 랭킹 정보 가져오기(웹 크롤링)'"
      ]
     },
     "execution_count": 20,
     "metadata": {},
     "output_type": "execute_result"
    }
   ],
   "source": [
    "content.text"
   ]
  },
  {
   "cell_type": "markdown",
   "metadata": {},
   "source": [
    "### 네이버 뉴스\n",
    " * https://news.naver.com/\n"
   ]
  },
  {
   "cell_type": "code",
   "execution_count": 22,
   "metadata": {},
   "outputs": [],
   "source": [
    "url = \"https://news.naver.com/\"\n",
    "driver.get(url)"
   ]
  },
  {
   "cell_type": "code",
   "execution_count": 23,
   "metadata": {
    "scrolled": true
   },
   "outputs": [
    {
     "name": "stdout",
     "output_type": "stream",
     "text": [
      "<selenium.webdriver.remote.webelement.WebElement (session=\"b124bf717de63ab5548cb9140233aefc\", element=\"ef840c1c-da41-44cd-98be-9cb247a9877a\")>\n",
      "<selenium.webdriver.remote.webelement.WebElement (session=\"b124bf717de63ab5548cb9140233aefc\", element=\"47bb7dc8-ff92-4bc6-9a74-9388fafcb796\")>\n"
     ]
    }
   ],
   "source": [
    "# 검색 : //*[@id=\"lnb.searchForm\"]/fieldset/input[1]\n",
    "# 버튼 : //*[@id=\"lnb.searchForm\"]/fieldset/button\n",
    "\n",
    "search_xpath = driver.find_element_by_xpath('//*[@id=\"lnb.searchForm\"]/fieldset/input[1]')\n",
    "btn_xpath = driver.find_element_by_xpath('//*[@id=\"lnb.searchForm\"]/fieldset/button')\n",
    "\n",
    "print(search_xpath)\n",
    "print(btn_xpath)"
   ]
  },
  {
   "cell_type": "code",
   "execution_count": 24,
   "metadata": {},
   "outputs": [],
   "source": [
    "search_xpath.send_keys(\"미세먼지\")\n",
    "btn_xpath.click()"
   ]
  },
  {
   "cell_type": "markdown",
   "metadata": {},
   "source": [
    "### 실습 2\n",
    " * 네이버 또는 다음 페이지에 들어가서 검색을 하고, 버튼을 누르기 해보기"
   ]
  },
  {
   "cell_type": "code",
   "execution_count": 25,
   "metadata": {},
   "outputs": [],
   "source": [
    "# 01. url을 활용해서 이동.\n",
    "# 02. xpath를 이용해서 요소의 정보를 가져온다.\n",
    "# 03. 어떤 것은 입력이 가능하거나, 어떤 것은 선택이 가능하다.\n",
    "url = \"https://www.daum.net/\"\n",
    "driver.get(url)\n",
    "\n",
    "# 02\n",
    "# 검색 : //*[@id=\"q\"]  \n",
    "# 버튼 : //*[@id=\"daumSearch\"]/fieldset/div/div/button[2]\n",
    "sel_search = driver.find_element_by_xpath('//*[@id=\"q\"]')\n",
    "sel_btn = driver.find_element_by_xpath('//*[@id=\"daumSearch\"]/fieldset/div/div/button[2]')\n",
    "\n",
    "sel_search.send_keys(\"미세먼지\")\n",
    "sel_btn.click()"
   ]
  },
  {
   "cell_type": "code",
   "execution_count": null,
   "metadata": {},
   "outputs": [],
   "source": []
  }
 ],
 "metadata": {
  "kernelspec": {
   "display_name": "Python 3",
   "language": "python",
   "name": "python3"
  },
  "language_info": {
   "codemirror_mode": {
    "name": "ipython",
    "version": 3
   },
   "file_extension": ".py",
   "mimetype": "text/x-python",
   "name": "python",
   "nbconvert_exporter": "python",
   "pygments_lexer": "ipython3",
   "version": "3.8.3"
  }
 },
 "nbformat": 4,
 "nbformat_minor": 4
}
