{
 "cells": [
  {
   "cell_type": "markdown",
   "metadata": {},
   "source": [
    "### 네이버 금융 정보 가져오기"
   ]
  },
  {
   "cell_type": "code",
   "execution_count": 1,
   "metadata": {},
   "outputs": [],
   "source": [
    "from selenium import webdriver\n",
    "from bs4 import BeautifulSoup\n",
    "\n",
    "import time\n",
    "import re\n",
    "\n",
    "import pandas as pd\n",
    "import xlsxwriter"
   ]
  },
  {
   "cell_type": "code",
   "execution_count": 2,
   "metadata": {},
   "outputs": [],
   "source": [
    "from selenium import webdriver\n",
    "driver = webdriver.Chrome('chromedriver')"
   ]
  },
  {
   "cell_type": "code",
   "execution_count": 3,
   "metadata": {},
   "outputs": [],
   "source": [
    "## 페이지 이동\n",
    "url = \"https://finance.naver.com/sise/\"\n",
    "driver.get(url)"
   ]
  },
  {
   "cell_type": "code",
   "execution_count": 4,
   "metadata": {},
   "outputs": [
    {
     "data": {
      "text/plain": [
       "<title>국내증시 : 네이버 금융</title>"
      ]
     },
     "execution_count": 4,
     "metadata": {},
     "output_type": "execute_result"
    }
   ],
   "source": [
    "soup = BeautifulSoup(driver.page_source, 'lxml')\n",
    "soup.title"
   ]
  },
  {
   "cell_type": "code",
   "execution_count": 5,
   "metadata": {},
   "outputs": [
    {
     "name": "stdout",
     "output_type": "stream",
     "text": [
      "코스피 지수 : 2,390.47\n",
      "코스닥 지수 : 2,390.47\n",
      "코스피200 지수 : 317.83\n"
     ]
    }
   ],
   "source": [
    "kospi = soup.find(\"span\", id=\"KOSPI_now\").text\n",
    "kosdaq = soup.find(\"span\", id=\"KOSPI_now\").text\n",
    "kospi_200 = soup.find(\"span\", id=\"KPI200_now\").text\n",
    "print(\"코스피 지수 : {}\".format(kospi))\n",
    "print(\"코스닥 지수 : {}\".format(kosdaq))\n",
    "print(\"코스피200 지수 : {}\".format(kospi_200))"
   ]
  },
  {
   "cell_type": "code",
   "execution_count": 6,
   "metadata": {},
   "outputs": [
    {
     "data": {
      "text/plain": [
       "<li><em>1.</em><a href=\"/item/main.nhn?code=042040\" onclick=\"clickcr(this,'boa.list','042040','1',event)\">케이피엠테..</a><span class=\"up\">4,845</span><img alt=\"상승\" height=\"6\" src=\"https://ssl.pstatic.net/static/nfinance/ico_up.gif\" width=\"7\"/></li>"
      ]
     },
     "execution_count": 6,
     "metadata": {},
     "output_type": "execute_result"
    }
   ],
   "source": [
    "pop_search = soup.find(\"ul\", class_=\"lst_pop\")\n",
    "pop_search_li = pop_search.find_all(\"li\")\n",
    "pop_search_li[0]"
   ]
  },
  {
   "cell_type": "code",
   "execution_count": 7,
   "metadata": {},
   "outputs": [
    {
     "name": "stdout",
     "output_type": "stream",
     "text": [
      "['케이피엠테..', '한솔홈데코', '삼성전자', '씨젠', '에코바이오', 'SK텔레콤', '엑세스바이..', 'LG화학', 'SK바이오팜', '신풍제약']\n",
      "['4,845', '2,145', '60,800', '288,400', '11,750', '230,500', '34,550', '627,000', '155,500', '128,000']\n",
      "[\"'042040'\", \"'025750'\", \"'005930'\", \"'096530'\", \"'038870'\", \"'017670'\", \"'950130'\", \"'051910'\", \"'326030'\", \"'019170'\"]\n"
     ]
    }
   ],
   "source": [
    "all_stock = []\n",
    "all_stock_url = []\n",
    "code_all_num = []\n",
    "\n",
    "for one in pop_search_li:\n",
    "    stock = one.find(\"a\").text\n",
    "    price = one.find(\"span\").text\n",
    "    all_stock.append(stock)             # 종목명\n",
    "    all_stock_url.append(price)         # 가격\n",
    "    \n",
    "    code = one.find(\"a\").attrs\n",
    "    code_num = code['onclick']         \n",
    "    code_all = re.split(\",\", code_num)   \n",
    "    code_all_num.append(code_all[2])    # 종목 코드\n",
    "\n",
    "print( all_stock )\n",
    "print( all_stock_url )\n",
    "print( code_all_num )"
   ]
  },
  {
   "cell_type": "code",
   "execution_count": 8,
   "metadata": {},
   "outputs": [],
   "source": [
    "dat = {\"종목\":all_stock, \"가격\":all_stock_url, \"종목명\":code_all_num}\n",
    "pop_stock = pd.DataFrame(dat)\n",
    "pop_stock.to_excel(\"stock.xlsx\", sheet_name=\"Top10\", index=False)"
   ]
  },
  {
   "cell_type": "code",
   "execution_count": 9,
   "metadata": {},
   "outputs": [
    {
     "data": {
      "text/plain": [
       "<li><a href=\"/world/sise.nhn?symbol=DJI@DJI&amp;fdtc=0\" onclick=\"clickcr(this,'wst.dow','','',event)\">다우산업</a><span class=\"dn\">28,679.81</span><em class=\"bu_p bu_pdn\"><span class=\"blind\">하락</span></em></li>"
      ]
     },
     "execution_count": 9,
     "metadata": {},
     "output_type": "execute_result"
    }
   ],
   "source": [
    "pop_search = soup.find(\"ul\", class_=\"lst_major\")\n",
    "pop_search_li = pop_search.find_all(\"li\")\n",
    "pop_search_li[0]"
   ]
  },
  {
   "cell_type": "code",
   "execution_count": 10,
   "metadata": {},
   "outputs": [
    {
     "name": "stdout",
     "output_type": "stream",
     "text": [
      "['다우산업', ' 나스닥', ' 홍콩H', ' 상해종합', ' 니케이225']\n",
      "['28,679.81', '11,863.90', '9,894.12', '3,344.81', '23,589.35']\n"
     ]
    }
   ],
   "source": [
    "all_stock = []\n",
    "all_stock_price = []\n",
    "code_all_num = []\n",
    "for one in pop_search_li:\n",
    "    stock = one.find(\"a\").text\n",
    "    price = one.find(\"span\").text\n",
    "    all_stock.append(stock)             # 종목명\n",
    "    all_stock_price.append(price)         # 가격\n",
    "    \n",
    "print( all_stock )\n",
    "print( all_stock_price )"
   ]
  },
  {
   "cell_type": "code",
   "execution_count": 11,
   "metadata": {},
   "outputs": [
    {
     "data": {
      "text/html": [
       "<div>\n",
       "<style scoped>\n",
       "    .dataframe tbody tr th:only-of-type {\n",
       "        vertical-align: middle;\n",
       "    }\n",
       "\n",
       "    .dataframe tbody tr th {\n",
       "        vertical-align: top;\n",
       "    }\n",
       "\n",
       "    .dataframe thead th {\n",
       "        text-align: right;\n",
       "    }\n",
       "</style>\n",
       "<table border=\"1\" class=\"dataframe\">\n",
       "  <thead>\n",
       "    <tr style=\"text-align: right;\">\n",
       "      <th></th>\n",
       "      <th>해외지수</th>\n",
       "      <th>지수</th>\n",
       "    </tr>\n",
       "  </thead>\n",
       "  <tbody>\n",
       "    <tr>\n",
       "      <th>0</th>\n",
       "      <td>다우산업</td>\n",
       "      <td>28,679.81</td>\n",
       "    </tr>\n",
       "    <tr>\n",
       "      <th>1</th>\n",
       "      <td>나스닥</td>\n",
       "      <td>11,863.90</td>\n",
       "    </tr>\n",
       "    <tr>\n",
       "      <th>2</th>\n",
       "      <td>홍콩H</td>\n",
       "      <td>9,894.12</td>\n",
       "    </tr>\n",
       "    <tr>\n",
       "      <th>3</th>\n",
       "      <td>상해종합</td>\n",
       "      <td>3,344.81</td>\n",
       "    </tr>\n",
       "    <tr>\n",
       "      <th>4</th>\n",
       "      <td>니케이225</td>\n",
       "      <td>23,589.35</td>\n",
       "    </tr>\n",
       "  </tbody>\n",
       "</table>\n",
       "</div>"
      ],
      "text/plain": [
       "      해외지수         지수\n",
       "0     다우산업  28,679.81\n",
       "1      나스닥  11,863.90\n",
       "2      홍콩H   9,894.12\n",
       "3     상해종합   3,344.81\n",
       "4   니케이225  23,589.35"
      ]
     },
     "execution_count": 11,
     "metadata": {},
     "output_type": "execute_result"
    }
   ],
   "source": [
    "dat = {\"해외지수\":all_stock, \"지수\":all_stock_price}\n",
    "pop_stock = pd.DataFrame(dat)\n",
    "pop_stock"
   ]
  },
  {
   "cell_type": "code",
   "execution_count": 12,
   "metadata": {},
   "outputs": [],
   "source": [
    "dat1 = pd.read_excel(\"stock.xlsx\", sheet_name=\"Top10\")"
   ]
  },
  {
   "cell_type": "code",
   "execution_count": 13,
   "metadata": {},
   "outputs": [
    {
     "name": "stdout",
     "output_type": "stream",
     "text": [
      "['Top10']\n"
     ]
    }
   ],
   "source": [
    "import openpyxl\n",
    "workbook1 = openpyxl.load_workbook(\"stock.xlsx\")\n",
    "print(workbook1.sheetnames)\n",
    "\n",
    "# 시트 삭제\n",
    "Sheet1 = workbook1['Top10']\n",
    "workbook1.remove(Sheet1)"
   ]
  },
  {
   "cell_type": "code",
   "execution_count": 14,
   "metadata": {},
   "outputs": [],
   "source": [
    "writer = pd.ExcelWriter(\"stock.xlsx\", engine='xlsxwriter')\n",
    "\n",
    "dat1.to_excel(writer, sheet_name=\"Top10\", index=False)\n",
    "pop_stock.to_excel(writer, sheet_name=\"해외지수\", index=False)\n",
    "\n",
    "writer.save()  # 엑셀 파일 저장"
   ]
  },
  {
   "cell_type": "code",
   "execution_count": null,
   "metadata": {},
   "outputs": [],
   "source": []
  }
 ],
 "metadata": {
  "kernelspec": {
   "display_name": "Python 3",
   "language": "python",
   "name": "python3"
  },
  "language_info": {
   "codemirror_mode": {
    "name": "ipython",
    "version": 3
   },
   "file_extension": ".py",
   "mimetype": "text/x-python",
   "name": "python",
   "nbconvert_exporter": "python",
   "pygments_lexer": "ipython3",
   "version": "3.8.3"
  }
 },
 "nbformat": 4,
 "nbformat_minor": 4
}
