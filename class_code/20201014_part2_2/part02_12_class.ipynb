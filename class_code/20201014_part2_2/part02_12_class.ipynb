{
 "cells": [
  {
   "cell_type": "markdown",
   "metadata": {},
   "source": [
    "### 네이버 데이터 랩에서 키워드 가져오기"
   ]
  },
  {
   "cell_type": "markdown",
   "metadata": {},
   "source": [
    "### 정보를 수집할 파일명, 시트명 지정."
   ]
  },
  {
   "cell_type": "code",
   "execution_count": 1,
   "metadata": {},
   "outputs": [
    {
     "name": "stdout",
     "output_type": "stream",
     "text": [
      "시트명을 입력해 주세요datalab_1014\n"
     ]
    }
   ],
   "source": [
    "filename = 'datalab_word.xlsx'\n",
    "sheetname = input(\"시트명을 입력해 주세요\")"
   ]
  },
  {
   "cell_type": "code",
   "execution_count": 2,
   "metadata": {},
   "outputs": [],
   "source": [
    "from selenium import webdriver\n",
    "from bs4 import BeautifulSoup"
   ]
  },
  {
   "cell_type": "code",
   "execution_count": 16,
   "metadata": {},
   "outputs": [],
   "source": [
    "driver = webdriver.Chrome('chromedriver')\n",
    "\n",
    "url = \"https://datalab.naver.com/keyword/realtimeList.naver\"\n",
    "driver.get(url)"
   ]
  },
  {
   "cell_type": "code",
   "execution_count": 4,
   "metadata": {},
   "outputs": [],
   "source": [
    "# xpath : //*[@id=\"content\"]/div/div[2]/div[1]/div[2]/div/div/div/ul/li[1]/a\n",
    "xpath_10 = '//*[@id=\"content\"]/div/div[2]/div[1]/div[2]/div/div/div/ul/li[1]/a'\n",
    "sel_10 = driver.find_element_by_xpath(xpath_10)\n",
    "sel_10.click()"
   ]
  },
  {
   "cell_type": "code",
   "execution_count": 5,
   "metadata": {},
   "outputs": [
    {
     "data": {
      "text/plain": [
       "<title>급상승검색어 : 네이버 데이터랩</title>"
      ]
     },
     "execution_count": 5,
     "metadata": {},
     "output_type": "execute_result"
    }
   ],
   "source": [
    "html = driver.page_source # html소스 코드\n",
    "soup = BeautifulSoup(html, 'lxml')\n",
    "soup.title"
   ]
  },
  {
   "cell_type": "code",
   "execution_count": 10,
   "metadata": {},
   "outputs": [
    {
     "data": {
      "text/plain": [
       "[<span class=\"item_title\">설리</span>, <span class=\"item_title\">호날두</span>]"
      ]
     },
     "execution_count": 10,
     "metadata": {},
     "output_type": "execute_result"
    }
   ],
   "source": [
    "age_10 = soup.find_all(\"span\", class_ =\"item_title\")\n",
    "age_10[:2]"
   ]
  },
  {
   "cell_type": "code",
   "execution_count": 7,
   "metadata": {},
   "outputs": [
    {
     "data": {
      "text/plain": [
       "['설리',\n",
       " '호날두',\n",
       " '호날두 코로나',\n",
       " '아이폰 12 pro',\n",
       " '도전만화',\n",
       " '해뜨락요양병원',\n",
       " '고등학생 독감 무료접종',\n",
       " '2020 9월 모의고사',\n",
       " '스파이더맨 3',\n",
       " '병무청',\n",
       " '부천대학교',\n",
       " '국내 코로나 확진자',\n",
       " '부산해뜨락요양병원',\n",
       " '명지전문대',\n",
       " '번역기',\n",
       " '경민대학교',\n",
       " '구하라',\n",
       " '독감주사 부작용',\n",
       " '엔트리',\n",
       " '케이타운포유']"
      ]
     },
     "execution_count": 7,
     "metadata": {},
     "output_type": "execute_result"
    }
   ],
   "source": [
    "pop_10 = []\n",
    "for i in age_10:\n",
    "    text = i.text\n",
    "    pop_10.append(text)\n",
    "\n",
    "pop_10"
   ]
  },
  {
   "cell_type": "markdown",
   "metadata": {},
   "source": [
    "### 실습 3-2 \n",
    " * 20대 선택해서 가져와 보기"
   ]
  },
  {
   "cell_type": "code",
   "execution_count": 8,
   "metadata": {},
   "outputs": [],
   "source": [
    "# xpath : //*[@id=\"content\"]/div/div[2]/div[1]/div[2]/div/div/div/ul/li[1]/a\n",
    "xpath_20 = '//*[@id=\"content\"]/div/div[2]/div[1]/div[2]/div/div/div/ul/li[2]/a'\n",
    "sel_20 = driver.find_element_by_xpath(xpath_10)\n",
    "sel_20.click()"
   ]
  },
  {
   "cell_type": "code",
   "execution_count": 11,
   "metadata": {},
   "outputs": [
    {
     "name": "stdout",
     "output_type": "stream",
     "text": [
      "[<span class=\"item_title\">해뜨락요양병원</span>, <span class=\"item_title\">호날두</span>, <span class=\"item_title\">설리</span>, <span class=\"item_title\">부산 코로나</span>, <span class=\"item_title\">김선아</span>, <span class=\"item_title\">호날두 코로나</span>, <span class=\"item_title\">갬성캠핑</span>, <span class=\"item_title\">정의선</span>, <span class=\"item_title\">부산해뜨락요양병원</span>, <span class=\"item_title\">박혜수</span>, <span class=\"item_title\">디어엠</span>, <span class=\"item_title\">김새론</span>, <span class=\"item_title\">윤상훈</span>, <span class=\"item_title\">스파이더맨 3</span>, <span class=\"item_title\">돌아와요 아저씨</span>, <span class=\"item_title\">박승재</span>, <span class=\"item_title\">아이폰 12 pro</span>, <span class=\"item_title\">부산 만덕 코로나</span>, <span class=\"item_title\">배럴</span>, <span class=\"item_title\">아이폰 12 사전예약</span>]\n"
     ]
    },
    {
     "data": {
      "text/plain": [
       "['해뜨락요양병원',\n",
       " '호날두',\n",
       " '설리',\n",
       " '부산 코로나',\n",
       " '김선아',\n",
       " '호날두 코로나',\n",
       " '갬성캠핑',\n",
       " '정의선',\n",
       " '부산해뜨락요양병원',\n",
       " '박혜수',\n",
       " '디어엠',\n",
       " '김새론',\n",
       " '윤상훈',\n",
       " '스파이더맨 3',\n",
       " '돌아와요 아저씨',\n",
       " '박승재',\n",
       " '아이폰 12 pro',\n",
       " '부산 만덕 코로나',\n",
       " '배럴',\n",
       " '아이폰 12 사전예약']"
      ]
     },
     "execution_count": 11,
     "metadata": {},
     "output_type": "execute_result"
    }
   ],
   "source": [
    "html = driver.page_source # html소스 코드\n",
    "soup = BeautifulSoup(html, 'lxml')\n",
    "\n",
    "age_20 = soup.find_all(\"span\", class_ =\"item_title\")\n",
    "print(age_20)\n",
    "\n",
    "pop_20 = []\n",
    "for i in age_20:\n",
    "    text = i.text\n",
    "    pop_20.append(text)\n",
    "\n",
    "pop_20"
   ]
  },
  {
   "cell_type": "code",
   "execution_count": 12,
   "metadata": {},
   "outputs": [],
   "source": [
    "import time"
   ]
  },
  {
   "cell_type": "code",
   "execution_count": 13,
   "metadata": {},
   "outputs": [
    {
     "data": {
      "text/plain": [
       "1602643387.4134314"
      ]
     },
     "execution_count": 13,
     "metadata": {},
     "output_type": "execute_result"
    }
   ],
   "source": [
    "time.time()"
   ]
  },
  {
   "cell_type": "code",
   "execution_count": null,
   "metadata": {},
   "outputs": [],
   "source": [
    "driver = webdriver.Chrome('chromedriver')\n",
    "\n",
    "url = \"https://datalab.naver.com/keyword/realtimeList.naver\"\n",
    "driver.get(url)"
   ]
  },
  {
   "cell_type": "code",
   "execution_count": 17,
   "metadata": {},
   "outputs": [],
   "source": [
    "# 10대 : //*[@id=\"content\"]/div/div[2]/div[1]/div[2]/div/div/div/ul/li[1]/a\n",
    "# 20대 : //*[@id=\"content\"]/div/div[2]/div[1]/div[2]/div/div/div/ul/li[2]/a\n",
    "# 30대 : //*[@id=\"content\"]/div/div[2]/div[1]/div[2]/div/div/div/ul/li[3]/a\n",
    "# 40대 : //*[@id=\"content\"]/div/div[2]/div[1]/div[2]/div/div/div/ul/li[4]/a\n",
    "# 50대 : //*[@id=\"content\"]/div/div[2]/div[1]/div[2]/div/div/div/ul/li[5]/a\n",
    "# 전체 : //*[@id=\"content\"]/div/div[2]/div[1]/div[2]/div/div/div/ul/li[6]/a\n",
    "\n",
    "base_xpath1  = '//*[@id=\"content\"]/div/div[2]/div[1]/div[2]/div/div/div/ul/li['\n",
    "base_xpath2  = ']/a'"
   ]
  },
  {
   "cell_type": "code",
   "execution_count": 18,
   "metadata": {},
   "outputs": [
    {
     "name": "stdout",
     "output_type": "stream",
     "text": [
      "['설리', '호날두', '호날두 코로나', '스파이더맨 3', '아이폰 12 pro', '갬성캠핑', '고등학생 독감 무료접종', '해뜨락요양병원', '김선아', '2020 9월 모의고사', '디어엠', '김새론', '병무청', '박혜수', '도경수', '부산 코로나', '번역기', '명지전문대', '2021 수능 디데이', '가천대학교']\n",
      "['아이폰 12 pro', '해뜨락요양병원', '김선아', '호날두', '설리', '디어엠', '호날두 코로나', '박혜수', '김새론', '갬성캠핑', '스파이더맨 3', '부산 코로나', '정의선', '부산해뜨락요양병원', '윤상훈', '돌아와요 아저씨', '한솔홈데코', '배럴', 'kmgm', '아이폰 12 사전예약']\n",
      "['해뜨락요양병원', '갬성캠핑', '정의선', '김선아', '윤상훈', '한솔홈데코', '2020년 신혼부부 특별공급 조건', '아이폰 12 pro', '박승재', '호날두', '돌아와요 아저씨', '부산해뜨락요양병원', '호날두 코로나', '이단비', '박혜수', '10월 14일', '박근형', '부산 코로나', '박근형 손자', '스튜디오 드래곤']\n",
      "['해뜨락요양병원', '갬성캠핑', '정의선', '윤상훈', '박승재', '부산해뜨락요양병원', '한솔홈데코', '박근형 손자', '박근형', '이단비', '살맛나는 오늘 인생분식', '국영지앤엠', '부산 만덕 코로나', '박지웅', '김선아', '권도운', '정몽구', '돌아와요 아저씨', '박근형 아들', '삼부토건']\n",
      "['해뜨락요양병원', '정의선', '몰타', '부산해뜨락요양병원', '윤상훈', '박승재', '갬성캠핑', '살맛나는 오늘 인생분식', '정몽구', '한솔홈데코', '김선동', '권도운', '국영지앤엠', '예형', '부산 만덕 코로나', '살맛나는 오늘', '모아텍', '박근형 손자', '만덕해뜨락요양병원', '로또싱어']\n",
      "['해뜨락요양병원', '갬성캠핑', '정의선', '윤상훈', '아이폰 12 pro', '박승재', '김선아', '부산해뜨락요양병원', '한솔홈데코', '호날두', '호날두 코로나', '설리', '박혜수', '돌아와요 아저씨', '박근형', '부산 코로나', '박근형 손자', '부산 만덕 코로나', '김새론', '이단비']\n"
     ]
    }
   ],
   "source": [
    "all_word = []\n",
    "\n",
    "for i in range(1,7):\n",
    "    all_xpath = base_xpath1 + str(i) + base_xpath2\n",
    "    sel_btn = driver.find_element_by_xpath(all_xpath)\n",
    "    sel_btn.click()\n",
    "    \n",
    "    soup = BeautifulSoup(driver.page_source, 'lxml')\n",
    "    age_data = soup.find_all(\"span\", class_=\"item_title\")\n",
    "    \n",
    "    pop_10 = []\n",
    "    for i in age_data:\n",
    "        text = i.text\n",
    "        pop_10.append(text)   # 하나의 단어 추가\n",
    "    \n",
    "    time.sleep(2)\n",
    "    all_word.append(pop_10)  # 20개 단어 추가\n",
    "    print(pop_10)\n",
    "\n"
   ]
  },
  {
   "cell_type": "code",
   "execution_count": 19,
   "metadata": {},
   "outputs": [
    {
     "name": "stdout",
     "output_type": "stream",
     "text": [
      "[['설리', '호날두', '호날두 코로나', '스파이더맨 3', '아이폰 12 pro', '갬성캠핑', '고등학생 독감 무료접종', '해뜨락요양병원', '김선아', '2020 9월 모의고사', '디어엠', '김새론', '병무청', '박혜수', '도경수', '부산 코로나', '번역기', '명지전문대', '2021 수능 디데이', '가천대학교'], ['아이폰 12 pro', '해뜨락요양병원', '김선아', '호날두', '설리', '디어엠', '호날두 코로나', '박혜수', '김새론', '갬성캠핑', '스파이더맨 3', '부산 코로나', '정의선', '부산해뜨락요양병원', '윤상훈', '돌아와요 아저씨', '한솔홈데코', '배럴', 'kmgm', '아이폰 12 사전예약'], ['해뜨락요양병원', '갬성캠핑', '정의선', '김선아', '윤상훈', '한솔홈데코', '2020년 신혼부부 특별공급 조건', '아이폰 12 pro', '박승재', '호날두', '돌아와요 아저씨', '부산해뜨락요양병원', '호날두 코로나', '이단비', '박혜수', '10월 14일', '박근형', '부산 코로나', '박근형 손자', '스튜디오 드래곤'], ['해뜨락요양병원', '갬성캠핑', '정의선', '윤상훈', '박승재', '부산해뜨락요양병원', '한솔홈데코', '박근형 손자', '박근형', '이단비', '살맛나는 오늘 인생분식', '국영지앤엠', '부산 만덕 코로나', '박지웅', '김선아', '권도운', '정몽구', '돌아와요 아저씨', '박근형 아들', '삼부토건'], ['해뜨락요양병원', '정의선', '몰타', '부산해뜨락요양병원', '윤상훈', '박승재', '갬성캠핑', '살맛나는 오늘 인생분식', '정몽구', '한솔홈데코', '김선동', '권도운', '국영지앤엠', '예형', '부산 만덕 코로나', '살맛나는 오늘', '모아텍', '박근형 손자', '만덕해뜨락요양병원', '로또싱어'], ['해뜨락요양병원', '갬성캠핑', '정의선', '윤상훈', '아이폰 12 pro', '박승재', '김선아', '부산해뜨락요양병원', '한솔홈데코', '호날두', '호날두 코로나', '설리', '박혜수', '돌아와요 아저씨', '박근형', '부산 코로나', '박근형 손자', '부산 만덕 코로나', '김새론', '이단비']]\n"
     ]
    }
   ],
   "source": [
    "print(all_word)"
   ]
  },
  {
   "cell_type": "markdown",
   "metadata": {},
   "source": [
    "### 되신분들은 파일 만들어보기"
   ]
  },
  {
   "cell_type": "code",
   "execution_count": null,
   "metadata": {},
   "outputs": [],
   "source": []
  }
 ],
 "metadata": {
  "kernelspec": {
   "display_name": "Python 3",
   "language": "python",
   "name": "python3"
  },
  "language_info": {
   "codemirror_mode": {
    "name": "ipython",
    "version": 3
   },
   "file_extension": ".py",
   "mimetype": "text/x-python",
   "name": "python",
   "nbconvert_exporter": "python",
   "pygments_lexer": "ipython3",
   "version": "3.8.3"
  }
 },
 "nbformat": 4,
 "nbformat_minor": 4
}
