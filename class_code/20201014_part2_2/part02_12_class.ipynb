{
 "cells": [
  {
   "cell_type": "markdown",
   "metadata": {},
   "source": [
    "### 네이버 데이터 랩에서 키워드 가져오기"
   ]
  },
  {
   "cell_type": "markdown",
   "metadata": {},
   "source": [
    "### 정보를 수집할 파일명, 시트명 지정."
   ]
  },
  {
   "cell_type": "code",
   "execution_count": 22,
   "metadata": {},
   "outputs": [
    {
     "name": "stdout",
     "output_type": "stream",
     "text": [
      "시트명을 입력해 주세요datalab_1014\n"
     ]
    }
   ],
   "source": [
    "filename = 'datalab_word.xlsx'\n",
    "sheetname = input(\"시트명을 입력해 주세요\")"
   ]
  },
  {
   "cell_type": "code",
   "execution_count": 2,
   "metadata": {},
   "outputs": [],
   "source": [
    "from selenium import webdriver\n",
    "from bs4 import BeautifulSoup"
   ]
  },
  {
   "cell_type": "code",
   "execution_count": 16,
   "metadata": {},
   "outputs": [],
   "source": [
    "driver = webdriver.Chrome('chromedriver')\n",
    "\n",
    "url = \"https://datalab.naver.com/keyword/realtimeList.naver\"\n",
    "driver.get(url)"
   ]
  },
  {
   "cell_type": "code",
   "execution_count": 4,
   "metadata": {},
   "outputs": [],
   "source": [
    "# xpath : //*[@id=\"content\"]/div/div[2]/div[1]/div[2]/div/div/div/ul/li[1]/a\n",
    "xpath_10 = '//*[@id=\"content\"]/div/div[2]/div[1]/div[2]/div/div/div/ul/li[1]/a'\n",
    "sel_10 = driver.find_element_by_xpath(xpath_10)\n",
    "sel_10.click()"
   ]
  },
  {
   "cell_type": "code",
   "execution_count": 5,
   "metadata": {},
   "outputs": [
    {
     "data": {
      "text/plain": [
       "<title>급상승검색어 : 네이버 데이터랩</title>"
      ]
     },
     "execution_count": 5,
     "metadata": {},
     "output_type": "execute_result"
    }
   ],
   "source": [
    "html = driver.page_source # html소스 코드\n",
    "soup = BeautifulSoup(html, 'lxml')\n",
    "soup.title"
   ]
  },
  {
   "cell_type": "code",
   "execution_count": 10,
   "metadata": {},
   "outputs": [
    {
     "data": {
      "text/plain": [
       "[<span class=\"item_title\">설리</span>, <span class=\"item_title\">호날두</span>]"
      ]
     },
     "execution_count": 10,
     "metadata": {},
     "output_type": "execute_result"
    }
   ],
   "source": [
    "age_10 = soup.find_all(\"span\", class_ =\"item_title\")\n",
    "age_10[:2]"
   ]
  },
  {
   "cell_type": "code",
   "execution_count": 7,
   "metadata": {},
   "outputs": [
    {
     "data": {
      "text/plain": [
       "['설리',\n",
       " '호날두',\n",
       " '호날두 코로나',\n",
       " '아이폰 12 pro',\n",
       " '도전만화',\n",
       " '해뜨락요양병원',\n",
       " '고등학생 독감 무료접종',\n",
       " '2020 9월 모의고사',\n",
       " '스파이더맨 3',\n",
       " '병무청',\n",
       " '부천대학교',\n",
       " '국내 코로나 확진자',\n",
       " '부산해뜨락요양병원',\n",
       " '명지전문대',\n",
       " '번역기',\n",
       " '경민대학교',\n",
       " '구하라',\n",
       " '독감주사 부작용',\n",
       " '엔트리',\n",
       " '케이타운포유']"
      ]
     },
     "execution_count": 7,
     "metadata": {},
     "output_type": "execute_result"
    }
   ],
   "source": [
    "pop_10 = []\n",
    "for i in age_10:\n",
    "    text = i.text\n",
    "    pop_10.append(text)\n",
    "\n",
    "pop_10"
   ]
  },
  {
   "cell_type": "markdown",
   "metadata": {},
   "source": [
    "### 실습 3-2 \n",
    " * 20대 선택해서 가져와 보기"
   ]
  },
  {
   "cell_type": "code",
   "execution_count": 8,
   "metadata": {},
   "outputs": [],
   "source": [
    "# xpath : //*[@id=\"content\"]/div/div[2]/div[1]/div[2]/div/div/div/ul/li[1]/a\n",
    "xpath_20 = '//*[@id=\"content\"]/div/div[2]/div[1]/div[2]/div/div/div/ul/li[2]/a'\n",
    "sel_20 = driver.find_element_by_xpath(xpath_10)\n",
    "sel_20.click()"
   ]
  },
  {
   "cell_type": "code",
   "execution_count": 11,
   "metadata": {},
   "outputs": [
    {
     "name": "stdout",
     "output_type": "stream",
     "text": [
      "[<span class=\"item_title\">해뜨락요양병원</span>, <span class=\"item_title\">호날두</span>, <span class=\"item_title\">설리</span>, <span class=\"item_title\">부산 코로나</span>, <span class=\"item_title\">김선아</span>, <span class=\"item_title\">호날두 코로나</span>, <span class=\"item_title\">갬성캠핑</span>, <span class=\"item_title\">정의선</span>, <span class=\"item_title\">부산해뜨락요양병원</span>, <span class=\"item_title\">박혜수</span>, <span class=\"item_title\">디어엠</span>, <span class=\"item_title\">김새론</span>, <span class=\"item_title\">윤상훈</span>, <span class=\"item_title\">스파이더맨 3</span>, <span class=\"item_title\">돌아와요 아저씨</span>, <span class=\"item_title\">박승재</span>, <span class=\"item_title\">아이폰 12 pro</span>, <span class=\"item_title\">부산 만덕 코로나</span>, <span class=\"item_title\">배럴</span>, <span class=\"item_title\">아이폰 12 사전예약</span>]\n"
     ]
    },
    {
     "data": {
      "text/plain": [
       "['해뜨락요양병원',\n",
       " '호날두',\n",
       " '설리',\n",
       " '부산 코로나',\n",
       " '김선아',\n",
       " '호날두 코로나',\n",
       " '갬성캠핑',\n",
       " '정의선',\n",
       " '부산해뜨락요양병원',\n",
       " '박혜수',\n",
       " '디어엠',\n",
       " '김새론',\n",
       " '윤상훈',\n",
       " '스파이더맨 3',\n",
       " '돌아와요 아저씨',\n",
       " '박승재',\n",
       " '아이폰 12 pro',\n",
       " '부산 만덕 코로나',\n",
       " '배럴',\n",
       " '아이폰 12 사전예약']"
      ]
     },
     "execution_count": 11,
     "metadata": {},
     "output_type": "execute_result"
    }
   ],
   "source": [
    "html = driver.page_source # html소스 코드\n",
    "soup = BeautifulSoup(html, 'lxml')\n",
    "\n",
    "age_20 = soup.find_all(\"span\", class_ =\"item_title\")\n",
    "print(age_20)\n",
    "\n",
    "pop_20 = []\n",
    "for i in age_20:\n",
    "    text = i.text\n",
    "    pop_20.append(text)\n",
    "\n",
    "pop_20"
   ]
  },
  {
   "cell_type": "code",
   "execution_count": 12,
   "metadata": {},
   "outputs": [],
   "source": [
    "import time"
   ]
  },
  {
   "cell_type": "code",
   "execution_count": 13,
   "metadata": {},
   "outputs": [
    {
     "data": {
      "text/plain": [
       "1602643387.4134314"
      ]
     },
     "execution_count": 13,
     "metadata": {},
     "output_type": "execute_result"
    }
   ],
   "source": [
    "time.time()"
   ]
  },
  {
   "cell_type": "code",
   "execution_count": null,
   "metadata": {},
   "outputs": [],
   "source": [
    "driver = webdriver.Chrome('chromedriver')\n",
    "\n",
    "url = \"https://datalab.naver.com/keyword/realtimeList.naver\"\n",
    "driver.get(url)"
   ]
  },
  {
   "cell_type": "code",
   "execution_count": 17,
   "metadata": {},
   "outputs": [],
   "source": [
    "# 10대 : //*[@id=\"content\"]/div/div[2]/div[1]/div[2]/div/div/div/ul/li[1]/a\n",
    "# 20대 : //*[@id=\"content\"]/div/div[2]/div[1]/div[2]/div/div/div/ul/li[2]/a\n",
    "# 30대 : //*[@id=\"content\"]/div/div[2]/div[1]/div[2]/div/div/div/ul/li[3]/a\n",
    "# 40대 : //*[@id=\"content\"]/div/div[2]/div[1]/div[2]/div/div/div/ul/li[4]/a\n",
    "# 50대 : //*[@id=\"content\"]/div/div[2]/div[1]/div[2]/div/div/div/ul/li[5]/a\n",
    "# 전체 : //*[@id=\"content\"]/div/div[2]/div[1]/div[2]/div/div/div/ul/li[6]/a\n",
    "\n",
    "base_xpath1  = '//*[@id=\"content\"]/div/div[2]/div[1]/div[2]/div/div/div/ul/li['\n",
    "base_xpath2  = ']/a'"
   ]
  },
  {
   "cell_type": "code",
   "execution_count": 18,
   "metadata": {},
   "outputs": [
    {
     "name": "stdout",
     "output_type": "stream",
     "text": [
      "['설리', '호날두', '호날두 코로나', '스파이더맨 3', '아이폰 12 pro', '갬성캠핑', '고등학생 독감 무료접종', '해뜨락요양병원', '김선아', '2020 9월 모의고사', '디어엠', '김새론', '병무청', '박혜수', '도경수', '부산 코로나', '번역기', '명지전문대', '2021 수능 디데이', '가천대학교']\n",
      "['아이폰 12 pro', '해뜨락요양병원', '김선아', '호날두', '설리', '디어엠', '호날두 코로나', '박혜수', '김새론', '갬성캠핑', '스파이더맨 3', '부산 코로나', '정의선', '부산해뜨락요양병원', '윤상훈', '돌아와요 아저씨', '한솔홈데코', '배럴', 'kmgm', '아이폰 12 사전예약']\n",
      "['해뜨락요양병원', '갬성캠핑', '정의선', '김선아', '윤상훈', '한솔홈데코', '2020년 신혼부부 특별공급 조건', '아이폰 12 pro', '박승재', '호날두', '돌아와요 아저씨', '부산해뜨락요양병원', '호날두 코로나', '이단비', '박혜수', '10월 14일', '박근형', '부산 코로나', '박근형 손자', '스튜디오 드래곤']\n",
      "['해뜨락요양병원', '갬성캠핑', '정의선', '윤상훈', '박승재', '부산해뜨락요양병원', '한솔홈데코', '박근형 손자', '박근형', '이단비', '살맛나는 오늘 인생분식', '국영지앤엠', '부산 만덕 코로나', '박지웅', '김선아', '권도운', '정몽구', '돌아와요 아저씨', '박근형 아들', '삼부토건']\n",
      "['해뜨락요양병원', '정의선', '몰타', '부산해뜨락요양병원', '윤상훈', '박승재', '갬성캠핑', '살맛나는 오늘 인생분식', '정몽구', '한솔홈데코', '김선동', '권도운', '국영지앤엠', '예형', '부산 만덕 코로나', '살맛나는 오늘', '모아텍', '박근형 손자', '만덕해뜨락요양병원', '로또싱어']\n",
      "['해뜨락요양병원', '갬성캠핑', '정의선', '윤상훈', '아이폰 12 pro', '박승재', '김선아', '부산해뜨락요양병원', '한솔홈데코', '호날두', '호날두 코로나', '설리', '박혜수', '돌아와요 아저씨', '박근형', '부산 코로나', '박근형 손자', '부산 만덕 코로나', '김새론', '이단비']\n"
     ]
    }
   ],
   "source": [
    "all_word = []\n",
    "\n",
    "for i in range(1,7):\n",
    "    all_xpath = base_xpath1 + str(i) + base_xpath2\n",
    "    sel_btn = driver.find_element_by_xpath(all_xpath)\n",
    "    sel_btn.click()\n",
    "    \n",
    "    soup = BeautifulSoup(driver.page_source, 'lxml')\n",
    "    age_data = soup.find_all(\"span\", class_=\"item_title\")\n",
    "    \n",
    "    pop_10 = []\n",
    "    for i in age_data:\n",
    "        text = i.text\n",
    "        pop_10.append(text)   # 하나의 단어 추가\n",
    "    \n",
    "    time.sleep(2)\n",
    "    all_word.append(pop_10)  # 20개 단어 추가\n",
    "    print(pop_10)\n",
    "\n"
   ]
  },
  {
   "cell_type": "code",
   "execution_count": 19,
   "metadata": {},
   "outputs": [
    {
     "name": "stdout",
     "output_type": "stream",
     "text": [
      "[['설리', '호날두', '호날두 코로나', '스파이더맨 3', '아이폰 12 pro', '갬성캠핑', '고등학생 독감 무료접종', '해뜨락요양병원', '김선아', '2020 9월 모의고사', '디어엠', '김새론', '병무청', '박혜수', '도경수', '부산 코로나', '번역기', '명지전문대', '2021 수능 디데이', '가천대학교'], ['아이폰 12 pro', '해뜨락요양병원', '김선아', '호날두', '설리', '디어엠', '호날두 코로나', '박혜수', '김새론', '갬성캠핑', '스파이더맨 3', '부산 코로나', '정의선', '부산해뜨락요양병원', '윤상훈', '돌아와요 아저씨', '한솔홈데코', '배럴', 'kmgm', '아이폰 12 사전예약'], ['해뜨락요양병원', '갬성캠핑', '정의선', '김선아', '윤상훈', '한솔홈데코', '2020년 신혼부부 특별공급 조건', '아이폰 12 pro', '박승재', '호날두', '돌아와요 아저씨', '부산해뜨락요양병원', '호날두 코로나', '이단비', '박혜수', '10월 14일', '박근형', '부산 코로나', '박근형 손자', '스튜디오 드래곤'], ['해뜨락요양병원', '갬성캠핑', '정의선', '윤상훈', '박승재', '부산해뜨락요양병원', '한솔홈데코', '박근형 손자', '박근형', '이단비', '살맛나는 오늘 인생분식', '국영지앤엠', '부산 만덕 코로나', '박지웅', '김선아', '권도운', '정몽구', '돌아와요 아저씨', '박근형 아들', '삼부토건'], ['해뜨락요양병원', '정의선', '몰타', '부산해뜨락요양병원', '윤상훈', '박승재', '갬성캠핑', '살맛나는 오늘 인생분식', '정몽구', '한솔홈데코', '김선동', '권도운', '국영지앤엠', '예형', '부산 만덕 코로나', '살맛나는 오늘', '모아텍', '박근형 손자', '만덕해뜨락요양병원', '로또싱어'], ['해뜨락요양병원', '갬성캠핑', '정의선', '윤상훈', '아이폰 12 pro', '박승재', '김선아', '부산해뜨락요양병원', '한솔홈데코', '호날두', '호날두 코로나', '설리', '박혜수', '돌아와요 아저씨', '박근형', '부산 코로나', '박근형 손자', '부산 만덕 코로나', '김새론', '이단비']]\n"
     ]
    }
   ],
   "source": [
    "print(all_word)"
   ]
  },
  {
   "cell_type": "markdown",
   "metadata": {},
   "source": [
    "### 되신분들은 파일 만들어보기"
   ]
  },
  {
   "cell_type": "code",
   "execution_count": 20,
   "metadata": {},
   "outputs": [],
   "source": [
    "dict_val = {\n",
    "    \"10대\":all_word[0],\n",
    "    \"20대\":all_word[1],\n",
    "    \"30대\":all_word[2],\n",
    "    \"40대\":all_word[3],\n",
    "    \"50대\":all_word[4],\n",
    "    \"전체\":all_word[5],\n",
    "}"
   ]
  },
  {
   "cell_type": "code",
   "execution_count": 21,
   "metadata": {},
   "outputs": [
    {
     "data": {
      "text/html": [
       "<div>\n",
       "<style scoped>\n",
       "    .dataframe tbody tr th:only-of-type {\n",
       "        vertical-align: middle;\n",
       "    }\n",
       "\n",
       "    .dataframe tbody tr th {\n",
       "        vertical-align: top;\n",
       "    }\n",
       "\n",
       "    .dataframe thead th {\n",
       "        text-align: right;\n",
       "    }\n",
       "</style>\n",
       "<table border=\"1\" class=\"dataframe\">\n",
       "  <thead>\n",
       "    <tr style=\"text-align: right;\">\n",
       "      <th></th>\n",
       "      <th>10대</th>\n",
       "      <th>20대</th>\n",
       "      <th>30대</th>\n",
       "      <th>40대</th>\n",
       "      <th>50대</th>\n",
       "      <th>전체</th>\n",
       "    </tr>\n",
       "  </thead>\n",
       "  <tbody>\n",
       "    <tr>\n",
       "      <th>0</th>\n",
       "      <td>설리</td>\n",
       "      <td>아이폰 12 pro</td>\n",
       "      <td>해뜨락요양병원</td>\n",
       "      <td>해뜨락요양병원</td>\n",
       "      <td>해뜨락요양병원</td>\n",
       "      <td>해뜨락요양병원</td>\n",
       "    </tr>\n",
       "    <tr>\n",
       "      <th>1</th>\n",
       "      <td>호날두</td>\n",
       "      <td>해뜨락요양병원</td>\n",
       "      <td>갬성캠핑</td>\n",
       "      <td>갬성캠핑</td>\n",
       "      <td>정의선</td>\n",
       "      <td>갬성캠핑</td>\n",
       "    </tr>\n",
       "    <tr>\n",
       "      <th>2</th>\n",
       "      <td>호날두 코로나</td>\n",
       "      <td>김선아</td>\n",
       "      <td>정의선</td>\n",
       "      <td>정의선</td>\n",
       "      <td>몰타</td>\n",
       "      <td>정의선</td>\n",
       "    </tr>\n",
       "    <tr>\n",
       "      <th>3</th>\n",
       "      <td>스파이더맨 3</td>\n",
       "      <td>호날두</td>\n",
       "      <td>김선아</td>\n",
       "      <td>윤상훈</td>\n",
       "      <td>부산해뜨락요양병원</td>\n",
       "      <td>윤상훈</td>\n",
       "    </tr>\n",
       "    <tr>\n",
       "      <th>4</th>\n",
       "      <td>아이폰 12 pro</td>\n",
       "      <td>설리</td>\n",
       "      <td>윤상훈</td>\n",
       "      <td>박승재</td>\n",
       "      <td>윤상훈</td>\n",
       "      <td>아이폰 12 pro</td>\n",
       "    </tr>\n",
       "    <tr>\n",
       "      <th>5</th>\n",
       "      <td>갬성캠핑</td>\n",
       "      <td>디어엠</td>\n",
       "      <td>한솔홈데코</td>\n",
       "      <td>부산해뜨락요양병원</td>\n",
       "      <td>박승재</td>\n",
       "      <td>박승재</td>\n",
       "    </tr>\n",
       "    <tr>\n",
       "      <th>6</th>\n",
       "      <td>고등학생 독감 무료접종</td>\n",
       "      <td>호날두 코로나</td>\n",
       "      <td>2020년 신혼부부 특별공급 조건</td>\n",
       "      <td>한솔홈데코</td>\n",
       "      <td>갬성캠핑</td>\n",
       "      <td>김선아</td>\n",
       "    </tr>\n",
       "    <tr>\n",
       "      <th>7</th>\n",
       "      <td>해뜨락요양병원</td>\n",
       "      <td>박혜수</td>\n",
       "      <td>아이폰 12 pro</td>\n",
       "      <td>박근형 손자</td>\n",
       "      <td>살맛나는 오늘 인생분식</td>\n",
       "      <td>부산해뜨락요양병원</td>\n",
       "    </tr>\n",
       "    <tr>\n",
       "      <th>8</th>\n",
       "      <td>김선아</td>\n",
       "      <td>김새론</td>\n",
       "      <td>박승재</td>\n",
       "      <td>박근형</td>\n",
       "      <td>정몽구</td>\n",
       "      <td>한솔홈데코</td>\n",
       "    </tr>\n",
       "    <tr>\n",
       "      <th>9</th>\n",
       "      <td>2020 9월 모의고사</td>\n",
       "      <td>갬성캠핑</td>\n",
       "      <td>호날두</td>\n",
       "      <td>이단비</td>\n",
       "      <td>한솔홈데코</td>\n",
       "      <td>호날두</td>\n",
       "    </tr>\n",
       "    <tr>\n",
       "      <th>10</th>\n",
       "      <td>디어엠</td>\n",
       "      <td>스파이더맨 3</td>\n",
       "      <td>돌아와요 아저씨</td>\n",
       "      <td>살맛나는 오늘 인생분식</td>\n",
       "      <td>김선동</td>\n",
       "      <td>호날두 코로나</td>\n",
       "    </tr>\n",
       "    <tr>\n",
       "      <th>11</th>\n",
       "      <td>김새론</td>\n",
       "      <td>부산 코로나</td>\n",
       "      <td>부산해뜨락요양병원</td>\n",
       "      <td>국영지앤엠</td>\n",
       "      <td>권도운</td>\n",
       "      <td>설리</td>\n",
       "    </tr>\n",
       "    <tr>\n",
       "      <th>12</th>\n",
       "      <td>병무청</td>\n",
       "      <td>정의선</td>\n",
       "      <td>호날두 코로나</td>\n",
       "      <td>부산 만덕 코로나</td>\n",
       "      <td>국영지앤엠</td>\n",
       "      <td>박혜수</td>\n",
       "    </tr>\n",
       "    <tr>\n",
       "      <th>13</th>\n",
       "      <td>박혜수</td>\n",
       "      <td>부산해뜨락요양병원</td>\n",
       "      <td>이단비</td>\n",
       "      <td>박지웅</td>\n",
       "      <td>예형</td>\n",
       "      <td>돌아와요 아저씨</td>\n",
       "    </tr>\n",
       "    <tr>\n",
       "      <th>14</th>\n",
       "      <td>도경수</td>\n",
       "      <td>윤상훈</td>\n",
       "      <td>박혜수</td>\n",
       "      <td>김선아</td>\n",
       "      <td>부산 만덕 코로나</td>\n",
       "      <td>박근형</td>\n",
       "    </tr>\n",
       "    <tr>\n",
       "      <th>15</th>\n",
       "      <td>부산 코로나</td>\n",
       "      <td>돌아와요 아저씨</td>\n",
       "      <td>10월 14일</td>\n",
       "      <td>권도운</td>\n",
       "      <td>살맛나는 오늘</td>\n",
       "      <td>부산 코로나</td>\n",
       "    </tr>\n",
       "    <tr>\n",
       "      <th>16</th>\n",
       "      <td>번역기</td>\n",
       "      <td>한솔홈데코</td>\n",
       "      <td>박근형</td>\n",
       "      <td>정몽구</td>\n",
       "      <td>모아텍</td>\n",
       "      <td>박근형 손자</td>\n",
       "    </tr>\n",
       "    <tr>\n",
       "      <th>17</th>\n",
       "      <td>명지전문대</td>\n",
       "      <td>배럴</td>\n",
       "      <td>부산 코로나</td>\n",
       "      <td>돌아와요 아저씨</td>\n",
       "      <td>박근형 손자</td>\n",
       "      <td>부산 만덕 코로나</td>\n",
       "    </tr>\n",
       "    <tr>\n",
       "      <th>18</th>\n",
       "      <td>2021 수능 디데이</td>\n",
       "      <td>kmgm</td>\n",
       "      <td>박근형 손자</td>\n",
       "      <td>박근형 아들</td>\n",
       "      <td>만덕해뜨락요양병원</td>\n",
       "      <td>김새론</td>\n",
       "    </tr>\n",
       "    <tr>\n",
       "      <th>19</th>\n",
       "      <td>가천대학교</td>\n",
       "      <td>아이폰 12 사전예약</td>\n",
       "      <td>스튜디오 드래곤</td>\n",
       "      <td>삼부토건</td>\n",
       "      <td>로또싱어</td>\n",
       "      <td>이단비</td>\n",
       "    </tr>\n",
       "  </tbody>\n",
       "</table>\n",
       "</div>"
      ],
      "text/plain": [
       "             10대          20대                 30대           40대           50대  \\\n",
       "0             설리   아이폰 12 pro             해뜨락요양병원       해뜨락요양병원       해뜨락요양병원   \n",
       "1            호날두      해뜨락요양병원                갬성캠핑          갬성캠핑           정의선   \n",
       "2        호날두 코로나          김선아                 정의선           정의선            몰타   \n",
       "3        스파이더맨 3          호날두                 김선아           윤상훈     부산해뜨락요양병원   \n",
       "4     아이폰 12 pro           설리                 윤상훈           박승재           윤상훈   \n",
       "5           갬성캠핑          디어엠               한솔홈데코     부산해뜨락요양병원           박승재   \n",
       "6   고등학생 독감 무료접종      호날두 코로나  2020년 신혼부부 특별공급 조건         한솔홈데코          갬성캠핑   \n",
       "7        해뜨락요양병원          박혜수          아이폰 12 pro        박근형 손자  살맛나는 오늘 인생분식   \n",
       "8            김선아          김새론                 박승재           박근형           정몽구   \n",
       "9   2020 9월 모의고사         갬성캠핑                 호날두           이단비         한솔홈데코   \n",
       "10           디어엠      스파이더맨 3            돌아와요 아저씨  살맛나는 오늘 인생분식           김선동   \n",
       "11           김새론       부산 코로나           부산해뜨락요양병원         국영지앤엠           권도운   \n",
       "12           병무청          정의선             호날두 코로나     부산 만덕 코로나         국영지앤엠   \n",
       "13           박혜수    부산해뜨락요양병원                 이단비           박지웅            예형   \n",
       "14           도경수          윤상훈                 박혜수           김선아     부산 만덕 코로나   \n",
       "15        부산 코로나     돌아와요 아저씨             10월 14일           권도운       살맛나는 오늘   \n",
       "16           번역기        한솔홈데코                 박근형           정몽구           모아텍   \n",
       "17         명지전문대           배럴              부산 코로나      돌아와요 아저씨        박근형 손자   \n",
       "18   2021 수능 디데이         kmgm              박근형 손자        박근형 아들     만덕해뜨락요양병원   \n",
       "19         가천대학교  아이폰 12 사전예약            스튜디오 드래곤          삼부토건          로또싱어   \n",
       "\n",
       "            전체  \n",
       "0      해뜨락요양병원  \n",
       "1         갬성캠핑  \n",
       "2          정의선  \n",
       "3          윤상훈  \n",
       "4   아이폰 12 pro  \n",
       "5          박승재  \n",
       "6          김선아  \n",
       "7    부산해뜨락요양병원  \n",
       "8        한솔홈데코  \n",
       "9          호날두  \n",
       "10     호날두 코로나  \n",
       "11          설리  \n",
       "12         박혜수  \n",
       "13    돌아와요 아저씨  \n",
       "14         박근형  \n",
       "15      부산 코로나  \n",
       "16      박근형 손자  \n",
       "17   부산 만덕 코로나  \n",
       "18         김새론  \n",
       "19         이단비  "
      ]
     },
     "execution_count": 21,
     "metadata": {},
     "output_type": "execute_result"
    }
   ],
   "source": [
    "import pandas as pd\n",
    "dat = pd.DataFrame(dict_val)\n",
    "dat"
   ]
  },
  {
   "cell_type": "code",
   "execution_count": 24,
   "metadata": {},
   "outputs": [],
   "source": [
    "dat.to_csv(\"datalab.csv\", index=True)"
   ]
  },
  {
   "cell_type": "code",
   "execution_count": 23,
   "metadata": {},
   "outputs": [],
   "source": [
    "dat.to_excel(filename, sheet_name=sheetname, index=False)"
   ]
  },
  {
   "cell_type": "code",
   "execution_count": null,
   "metadata": {},
   "outputs": [],
   "source": []
  }
 ],
 "metadata": {
  "kernelspec": {
   "display_name": "Python 3",
   "language": "python",
   "name": "python3"
  },
  "language_info": {
   "codemirror_mode": {
    "name": "ipython",
    "version": 3
   },
   "file_extension": ".py",
   "mimetype": "text/x-python",
   "name": "python",
   "nbconvert_exporter": "python",
   "pygments_lexer": "ipython3",
   "version": "3.8.3"
  }
 },
 "nbformat": 4,
 "nbformat_minor": 4
}
