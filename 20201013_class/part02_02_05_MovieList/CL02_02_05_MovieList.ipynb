{
 "cells": [
  {
   "cell_type": "markdown",
   "metadata": {},
   "source": [
    "### 네이버 영화 내용 가져오기"
   ]
  },
  {
   "cell_type": "code",
   "execution_count": 1,
   "metadata": {},
   "outputs": [],
   "source": [
    "from bs4 import BeautifulSoup\n",
    "from urllib.request import urlopen"
   ]
  },
  {
   "cell_type": "code",
   "execution_count": 2,
   "metadata": {},
   "outputs": [],
   "source": [
    "url = \"https://movie.naver.com/movie/running/current.nhn\"\n",
    "page = urlopen(url)\n",
    "soup = BeautifulSoup(page, 'lxml')"
   ]
  },
  {
   "cell_type": "markdown",
   "metadata": {},
   "source": [
    "### 상영작/예정작 제목만 뽑기"
   ]
  },
  {
   "cell_type": "code",
   "execution_count": 3,
   "metadata": {
    "scrolled": true
   },
   "outputs": [
    {
     "data": {
      "text/plain": [
       "93"
      ]
     },
     "execution_count": 3,
     "metadata": {},
     "output_type": "execute_result"
    }
   ],
   "source": [
    "soup_ul_li = soup.find(\"ul\", class_=\"lst_detail_t1\").find_all(\"li\")\n",
    "len(soup_ul_li)"
   ]
  },
  {
   "cell_type": "markdown",
   "metadata": {},
   "source": [
    "### 제목 가져오기 하나 확인"
   ]
  },
  {
   "cell_type": "code",
   "execution_count": 5,
   "metadata": {},
   "outputs": [
    {
     "data": {
      "text/plain": [
       "'그린랜드'"
      ]
     },
     "execution_count": 5,
     "metadata": {},
     "output_type": "execute_result"
    }
   ],
   "source": [
    "soup_ul_li[3].find(\"dt\", class_=\"tit\").a.text"
   ]
  },
  {
   "cell_type": "code",
   "execution_count": 6,
   "metadata": {},
   "outputs": [
    {
     "name": "stdout",
     "output_type": "stream",
     "text": [
      "93 ['담보', '언힌지드', '테넷', '그린랜드', '국제수사', '극장판 포켓몬스터 뮤츠의 역습 EVOLUTION', '극장판 미니특공대: 햄버거괴물의 습격', '애프터: 그 후', '어디갔어, 버나뎃', '브레이크 더 사일런스: 더 무비', '검객', '트롤킹', '마샤와 곰: 최고 중에 최고', '죽지않는 인간들의 밤', '밥정', '피원에이치 : 새로운 세계의 시작', '해수의 아이', '마르지엘라', '부활: 그 증거', '디바', '트라이얼 오브 더 시카고 7', '뮬란', '아웃포스트', '극장판 엉덩이 탐정: 텐텐마을의 수수께끼', '교실 안의 야크', '강철비2: 정상회담', '예티: 신비한 동물 탐험대', '도망친 여자', '기기괴괴 성형수', '너의 이름은.', '남매의 여름밤', '프란시스 하', '우리가 이별 뒤에 알게 되는 것들', '소년시절의 너', '날씨의 아이', '카일라스 가는 길', '보테로', '다시 만난 날들', '공포분자', '블레이드 러너 2049', '스윈들러', '스파이더맨: 뉴 유니버스', '그대, 고맙소 : 김호중 생애 첫 팬미팅 무비', '제리 맥과이어', '다만 악에서 구하소서', '드라이브', '나를 구하지 마세요', '동아시아반일무장전선', '낙엽귀근', '오! 문희', '테스와 보낸 여름', '라라랜드', '브리짓 존스의 일기', '알제리 전투', '69세', '마티아스와 막심', '제로 다크 서티', '극장판 짱구는 못말려: 신혼여행 허리케인~ 사라진 아빠!', '리스본행 야간열차', '후쿠오카', '에이바', '홀리 모터스', '마음 울적한 날엔', '피아니스트', '보리밭을 흔드는 바람', '하워즈 엔드', '500일의 썸머', '걸작', '구르는 수레바퀴', '다운폴', '더 파티', '디트로이트', '라붐', '반교: 디텐션', '백년의 기억', '베로니카의 이중 생활', '베를린 천사의 시', '비독: 파리의 황제', '비투스', '사랑과 영혼', '사랑하는 시바여 돌아오라', '소년 아메드', '아무르', '영원과 하루', '워터 릴리스', '위크엔드 인 파리', '천국보다 낯선', '치어리딩 클럽', '미스 사이공: 25주년 특별 공연', '분노의 질주: 더 익스트림', '위대한 쇼맨', '타샤 튜더', '포드 V 페라리']\n"
     ]
    }
   ],
   "source": [
    "all_title = []\n",
    "for item in soup_ul_li:\n",
    "    dat = item.find(\"dt\", class_=\"tit\").a.text\n",
    "    all_title.append(dat)\n",
    "print(len(all_title), all_title)"
   ]
  },
  {
   "cell_type": "markdown",
   "metadata": {},
   "source": [
    "### 평점과 참여 명수 확인 및 예매율 확인"
   ]
  },
  {
   "cell_type": "code",
   "execution_count": 10,
   "metadata": {},
   "outputs": [
    {
     "data": {
      "text/plain": [
       "'8.07'"
      ]
     },
     "execution_count": 10,
     "metadata": {},
     "output_type": "execute_result"
    }
   ],
   "source": [
    "## 평점\n",
    "soup_ul_li[70].find(\"span\", class_=\"num\").text"
   ]
  },
  {
   "cell_type": "code",
   "execution_count": 11,
   "metadata": {},
   "outputs": [
    {
     "data": {
      "text/plain": [
       "'4,196'"
      ]
     },
     "execution_count": 11,
     "metadata": {},
     "output_type": "execute_result"
    }
   ],
   "source": [
    "## 참여명수 \n",
    "soup_ul_li[0].find(\"em\").text"
   ]
  },
  {
   "cell_type": "code",
   "execution_count": 12,
   "metadata": {},
   "outputs": [
    {
     "data": {
      "text/plain": [
       "'6.94'"
      ]
     },
     "execution_count": 12,
     "metadata": {},
     "output_type": "execute_result"
    }
   ],
   "source": [
    "## 예매율\n",
    "soup_ul_li[3].find(\"dl\", class_=\"info_exp\").span.text"
   ]
  },
  {
   "cell_type": "markdown",
   "metadata": {},
   "source": [
    "### 맨 마지막은 예매율이 있는지 확인"
   ]
  },
  {
   "cell_type": "code",
   "execution_count": 17,
   "metadata": {},
   "outputs": [
    {
     "name": "stdout",
     "output_type": "stream",
     "text": [
      "92\n"
     ]
    },
    {
     "data": {
      "text/plain": [
       "[]"
      ]
     },
     "execution_count": 17,
     "metadata": {},
     "output_type": "execute_result"
    }
   ],
   "source": [
    "length = len(soup_ul_li) - 1\n",
    "print(length)\n",
    "last_element = soup_ul_li[length].find_all(\"dl\", class_=\"info_exp\")\n",
    "last_element"
   ]
  },
  {
   "cell_type": "code",
   "execution_count": 19,
   "metadata": {},
   "outputs": [
    {
     "data": {
      "text/plain": [
       "'\\n액션, \\r\\n\\t\\t\\t\\t\\t\\t\\t\\t\\r\\n\\t\\t\\t\\t\\t\\t\\t\\t\\tSF\\n'"
      ]
     },
     "execution_count": 19,
     "metadata": {},
     "output_type": "execute_result"
    }
   ],
   "source": [
    "## 개요\n",
    "soup_ul_li[2].find(\"span\", class_= \"link_txt\").text"
   ]
  },
  {
   "cell_type": "code",
   "execution_count": 20,
   "metadata": {
    "scrolled": true
   },
   "outputs": [
    {
     "data": {
      "text/plain": [
       "'강대규'"
      ]
     },
     "execution_count": 20,
     "metadata": {},
     "output_type": "execute_result"
    }
   ],
   "source": [
    "## 감독\n",
    "dirA = soup_ul_li[0].find_all(\"dl\", class_=\"info_txt1\")[0].find_all(\"dd\")[1].text\n",
    "dirA = dirA.replace(\"\\n\", \"\")\n",
    "dirA"
   ]
  },
  {
   "cell_type": "code",
   "execution_count": 21,
   "metadata": {},
   "outputs": [
    {
     "data": {
      "text/plain": [
       "'로저 컴블'"
      ]
     },
     "execution_count": 21,
     "metadata": {},
     "output_type": "execute_result"
    }
   ],
   "source": [
    "## 감독 8번째, 2명\n",
    "dirA = soup_ul_li[7].find_all(\"dl\", class_=\"info_txt1\")[0].find_all(\"dd\")[1].text\n",
    "dirA = dirA.translate(  { ord('\\n'):\"\", ord('\\r'):\"\", ord('\\t'):\"\"  } )\n",
    "dirA"
   ]
  },
  {
   "cell_type": "code",
   "execution_count": 22,
   "metadata": {},
   "outputs": [
    {
     "data": {
      "text/plain": [
       "<dd>\n",
       "<span class=\"link_txt\">\n",
       "<a href=\"/movie/sdb/browsing/bmovie.nhn?genre=19\">액션</a><!-- N=a:nol.genre,r:1 -->, \n",
       "\t\t\t\t\t\t\t\t\n",
       "\t\t\t\t\t\t\t\t\t<a href=\"/movie/sdb/browsing/bmovie.nhn?genre=18\">SF</a><!-- N=a:nol.genre,r:2 -->\n",
       "</span>\n",
       "<span class=\"split\">|</span>\n",
       "\t\t\t\t\t\t\t\t150분\n",
       "\t\t\t\t\t\t\t\n",
       "\t\t\t\t\t\t\t\n",
       "\t\t\t\t\t\t\t\n",
       "\t\t\t\t\t\t\t\n",
       "\t\t\t\t\t\t\t\t\n",
       "\t\t\t\t\t\t\t\t<span class=\"split\">|</span>\n",
       "\t\t\t\t\t\t\t\t2020.08.26 개봉\n",
       "\t\t\t\t\t\t\t\n",
       "\t\t\t\t\t\t</dd>"
      ]
     },
     "execution_count": 22,
     "metadata": {},
     "output_type": "execute_result"
    }
   ],
   "source": [
    "#  상영시간\n",
    "soup_ul_li[2].find(\"dl\", class_= \"info_txt1\").dd\n",
    "# soup_ul_li[2].find(\"span\", class_= \"link_txt\")"
   ]
  },
  {
   "cell_type": "code",
   "execution_count": 23,
   "metadata": {},
   "outputs": [
    {
     "name": "stdout",
     "output_type": "stream",
     "text": [
      "\r\n",
      "\t\t\t\t\t\t\t\t2020.10.08 개봉\r\n",
      "\t\t\t\t\t\t\t\r\n",
      "\t\t\t\t\t\t \r\n",
      "\t\t\t\t\t\t\t\t109분\r\n",
      "\t\t\t\t\t\t\t\r\n",
      "\t\t\t\t\t\t\t\r\n",
      "\t\t\t\t\t\t\t\r\n",
      "\t\t\t\t\t\t\t\r\n",
      "\t\t\t\t\t\t\t\t\r\n",
      "\t\t\t\t\t\t\t\t\n"
     ]
    },
    {
     "data": {
      "text/plain": [
       "'\\r\\n\\t\\t\\t\\t\\t\\t\\t\\t2020.10.08 개봉\\r\\n\\t\\t\\t\\t\\t\\t\\t\\r\\n\\t\\t\\t\\t\\t\\t'"
      ]
     },
     "execution_count": 23,
     "metadata": {},
     "output_type": "execute_result"
    }
   ],
   "source": [
    "a = soup_ul_li[8].find(\"dl\", class_= \"info_txt1\").dd.children\n",
    "al = list(a)\n",
    "print(al[-1], al[-3])\n",
    "al[-1]"
   ]
  },
  {
   "cell_type": "code",
   "execution_count": 24,
   "metadata": {},
   "outputs": [
    {
     "name": "stdout",
     "output_type": "stream",
     "text": [
      "93 ['2020.09.29 ', '2020.10.07 ', '2020.08.26 ', '2020.09.29 ', '2020.09.29 ', '2020.09.30 ', '2020.09.30 ', '2020.10.07 ', '2020.10.08 ', '2020.09.24 ', '2020.09.23 ', '2020.10.07 ', '2020.10.08 ', '2020.09.29 ', '2020.10.07 ', '2020.10.08 ', '2020.09.30 ', '2020.09.30 ', '2020.10.08 ', '2020.09.23 ', '2020.10.07 ', '2020.09.17 ', '2020.09.23 ', '2020.09.24 ', '2020.09.30 ', '2020.07.29 ', '2020.10.08 ', '2020.09.17 ', '2020.09.09 ', '2018.01.04 ', '2020.08.20 ', '2020.09.24 ', '2020.09.30 ', '2020.07.09 ', '2020.05.21 ', '2020.09.03 ', '2020.09.24 ', '2020.09.24 ', '2020.09.17 ', '2017.10.12 ', '2020.10.08 ', '2018.12.12 ', '2020.09.29 ', '2017.02.14 ', '2020.08.05 ', '2020.09.03 ', '2020.09.10 ', '2020.08.20 ', '2020.09.24 ', '2020.09.02 ', '2020.09.10 ', '2020.03.25 ', '2001.09.01 ', '2009.10.15 ', '2020.08.20 ', '2020.07.23 ', '2013.03.07 ', '2020.08.20 ', '2014.06.05 ', '2020.08.27 ', '2020.09.09 ', '2013.04.04 ', '2020.09.24 ', '2015.06.18 ', '2019.12.18 ', '2020.09.03 ', '2016.06.29 ', '2019.07.01 ', '2020.09.23 ', '2014.01.23 ', '2018.12.20 ', '2018.05.31 ', '2013.10.24 ', '2020.08.13 ', '2020.06.11 ', '2016.06.23 ', '1993.05.15 ', '2020.09.17 ', '2008.04.09 ', '2017.12.27 ', '1957.01.19 ', '2020.07.30 ', '2012.12.19 ', '2004.11.19 ', '2020.08.13 ', '2014.05.01 ', '2017.11.16 ', '2020.09.10 ', '2016.11.24 ', '2020.03.19 ', '2020.05.21 ', '2018.09.13 ', '2019.12.04 ']\n"
     ]
    }
   ],
   "source": [
    "# 제목, 평점, 참여수, 예매율, 개요, 감독, 상영시간, 상영날짜\n",
    "all_title = []\n",
    "all_score = []\n",
    "all_people = []\n",
    "all_re_rate = []\n",
    "all_category = []\n",
    "all_dir = []\n",
    "all_time = []\n",
    "all_date = []\n",
    "\n",
    "for item in soup_ul_li: \n",
    "    all_title.append(item.find(\"dt\", class_=\"tit\").a.text) # 제목\n",
    "    all_score.append(item.find(\"span\", class_=\"num\").text) # 평점\n",
    "    all_people.append(item.find(\"em\").text)  # 참여명수\n",
    "    \n",
    "    ## 예매율 \n",
    "    temp_re_rate = item.find(\"dl\", class_=\"info_exp\")\n",
    "    if temp_re_rate is not None:\n",
    "        ticking = temp_re_rate.find('span', class_='num').text\n",
    "    else:\n",
    "        ticking = \"0\"\n",
    "    all_re_rate.append(ticking)\n",
    "    \n",
    "    # 개요\n",
    "    tmp_cat = item.find(\"span\", class_= \"link_txt\").text\n",
    "    tmp_cat = tmp_cat.replace(\"\\n\", \"\")\n",
    "    tmp_cat = tmp_cat.replace(\"\\t\", \"\")\n",
    "    tmp_cat = tmp_cat.replace(\"\\r\", \"\")\n",
    "    all_category.append(tmp_cat)\n",
    "    \n",
    "    # 감독\n",
    "    tmp_all_dir = item.find_all(\"dl\", class_=\"info_txt1\")[0].find_all(\"dd\")[1].text\n",
    "    tmp_all_dir = tmp_all_dir.translate(  { ord('\\n'):\"\", ord('\\r'):\"\", ord('\\t'):\"\"} )\n",
    "    all_dir.append(tmp_all_dir)\n",
    "    \n",
    "    # 상영시간\n",
    "    tmp_all_dir = list(item.find(\"dl\", class_= \"info_txt1\").dd.children)\n",
    "    tmp_time = tmp_all_dir[-3]\n",
    "    tmp_time = tmp_time.replace(\"\\n\", \"\")\n",
    "    tmp_time = tmp_time.replace(\"\\t\", \"\")\n",
    "    tmp_time = tmp_time.replace(\"\\r\", \"\")\n",
    "    tmp_time = tmp_time.replace(\"분\", \"\")\n",
    "    all_time.append(tmp_time)\n",
    "    \n",
    "    # 상영날짜\n",
    "    tmp_date = tmp_all_dir[-1]\n",
    "    tmp_date = tmp_date.replace(\"\\n\", \"\")\n",
    "    tmp_date = tmp_date.replace(\"\\t\", \"\")\n",
    "    tmp_date = tmp_date.replace(\"\\r\", \"\")\n",
    "    tmp_date = tmp_date.replace(\"개봉\", \"\")\n",
    "    all_date.append(tmp_date)\n",
    "    \n",
    "# 확인\n",
    "print(len(all_date), all_date)"
   ]
  },
  {
   "cell_type": "code",
   "execution_count": 25,
   "metadata": {},
   "outputs": [],
   "source": [
    "import pandas as pd"
   ]
  },
  {
   "cell_type": "code",
   "execution_count": 26,
   "metadata": {},
   "outputs": [],
   "source": [
    "movie_info = {\"제목\":all_title, \"평점\":all_score, \"참여수\":all_people, \"예매율\":all_re_rate,\n",
    "             \"개요\":all_category, \"감독\":all_dir, \"상영시간\":all_time, \"상영날짜\":all_date}\n",
    "dat = pd.DataFrame(movie_info)\n",
    "dat.to_excel(\"movie_naver.xlsx\", index=False)"
   ]
  },
  {
   "cell_type": "markdown",
   "metadata": {},
   "source": [
    "## 이후에 더 해볼만한 실습 내용\n",
    "* (1) 참여수에 ','를 빼고 넣기\n",
    "* (2) 출연정보 가져오기"
   ]
  }
 ],
 "metadata": {
  "kernelspec": {
   "display_name": "Python 3",
   "language": "python",
   "name": "python3"
  },
  "language_info": {
   "codemirror_mode": {
    "name": "ipython",
    "version": 3
   },
   "file_extension": ".py",
   "mimetype": "text/x-python",
   "name": "python",
   "nbconvert_exporter": "python",
   "pygments_lexer": "ipython3",
   "version": "3.8.3"
  }
 },
 "nbformat": 4,
 "nbformat_minor": 2
}
