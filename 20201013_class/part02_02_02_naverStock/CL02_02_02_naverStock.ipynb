{
 "cells": [
  {
   "cell_type": "markdown",
   "metadata": {},
   "source": [
    "## 01. 네이버 주식정보 가져오기"
   ]
  },
  {
   "cell_type": "markdown",
   "metadata": {},
   "source": [
    "### https://finance.naver.com/sise/ 에서 정보 획득"
   ]
  },
  {
   "cell_type": "code",
   "execution_count": 1,
   "metadata": {},
   "outputs": [],
   "source": [
    "from urllib.request import urlopen\n",
    "from bs4 import BeautifulSoup"
   ]
  },
  {
   "cell_type": "code",
   "execution_count": 2,
   "metadata": {},
   "outputs": [],
   "source": [
    "url = \"https://finance.naver.com/sise/\""
   ]
  },
  {
   "cell_type": "code",
   "execution_count": 3,
   "metadata": {},
   "outputs": [],
   "source": [
    "page = urlopen(url)\n",
    "page\n",
    "soup = BeautifulSoup(page, \"html.parser\")"
   ]
  },
  {
   "cell_type": "code",
   "execution_count": 4,
   "metadata": {},
   "outputs": [
    {
     "data": {
      "text/plain": [
       "[<span class=\"num num2\" id=\"KOSDAQ_now\">871.43</span>]"
      ]
     },
     "execution_count": 4,
     "metadata": {},
     "output_type": "execute_result"
    }
   ],
   "source": [
    "soup.find_all('span', id='KOSDAQ_now')  # 코스닥"
   ]
  },
  {
   "cell_type": "code",
   "execution_count": 5,
   "metadata": {},
   "outputs": [
    {
     "data": {
      "text/plain": [
       "[<span class=\"num num2\" id=\"KOSPI_now\">2,397.57</span>]"
      ]
     },
     "execution_count": 5,
     "metadata": {},
     "output_type": "execute_result"
    }
   ],
   "source": [
    "soup.find_all('span', id='KOSPI_now')   # 코스피"
   ]
  },
  {
   "cell_type": "code",
   "execution_count": 6,
   "metadata": {},
   "outputs": [
    {
     "data": {
      "text/plain": [
       "[<span class=\"num num2\" id=\"KPI200_now\">318.78</span>]"
      ]
     },
     "execution_count": 6,
     "metadata": {},
     "output_type": "execute_result"
    }
   ],
   "source": [
    "soup.find_all('span', id='KPI200_now')  # 코스피200 "
   ]
  },
  {
   "cell_type": "code",
   "execution_count": 7,
   "metadata": {},
   "outputs": [
    {
     "name": "stdout",
     "output_type": "stream",
     "text": [
      "현재 코스닥지수 : 871.43\n",
      "현재 코스피지수 : 2,397.57\n",
      "현재 코스피200지수 : 318.78\n"
     ]
    }
   ],
   "source": [
    "kosdaq = soup.find('span', id='KOSDAQ_now') # 코스닥\n",
    "kospi = soup.find('span', id='KOSPI_now')   # 코스피\n",
    "kpi200 = soup.find('span', id='KPI200_now')  # 코스피200 \n",
    "print(\"현재 코스닥지수 : {}\".format(kosdaq.get_text() ) )\n",
    "print(\"현재 코스피지수 : {}\".format(kospi.get_text() )  )\n",
    "print(\"현재 코스피200지수 : {}\".format(kpi200.get_text()) )"
   ]
  },
  {
   "cell_type": "markdown",
   "metadata": {},
   "source": [
    "## 실습 1\n",
    " * 코스피의 지수 정보를 가지고 오기.\n",
    " * 거래량(천주)은 정보를 가지고 와 보자.\n",
    " * 장중 최고는 얼마인지 가지고 오자.\n",
    " * 거래대금(백만)의 정보를 가지고 오자.\n",
    " * 장중최저, 52주 최저의 정보를 가지고 오자."
   ]
  },
  {
   "cell_type": "code",
   "execution_count": 8,
   "metadata": {},
   "outputs": [],
   "source": [
    "from urllib.request import urlopen\n",
    "from bs4 import BeautifulSoup"
   ]
  },
  {
   "cell_type": "code",
   "execution_count": 9,
   "metadata": {},
   "outputs": [],
   "source": [
    "url = \"https://finance.naver.com/sise/sise_index.nhn?code=KOSPI\"\n",
    "page = urlopen(url)\n",
    "page\n",
    "soup = BeautifulSoup(page, \"html.parser\")"
   ]
  },
  {
   "cell_type": "code",
   "execution_count": 10,
   "metadata": {},
   "outputs": [
    {
     "name": "stdout",
     "output_type": "stream",
     "text": [
      "528,974 2,418.89 2,385.87\n"
     ]
    }
   ],
   "source": [
    "quant = soup.find(\"td\", id = \"quant\").text            # 거래량(천주)\n",
    "high_value = soup.find(\"td\", id = \"high_value\").text  # 장중 최고\n",
    "low_value = soup.find(\"td\", id = \"low_value\").text    # 장중 최저\n",
    "print(quant, high_value, low_value)"
   ]
  },
  {
   "cell_type": "code",
   "execution_count": 11,
   "metadata": {},
   "outputs": [
    {
     "data": {
      "text/plain": [
       "[<div class=\"subtop_sise_detail\">\n",
       " <!-- [D] 상승장일때 up, 하락장일때 dn 클래스 추가 (보합시 추가 없음) -->\n",
       " <div class=\"quotient dn\" id=\"quotient\">\n",
       " <em id=\"now_value\">2,397.57</em>\n",
       " <span class=\"fluc\" id=\"change_value_and_rate\"><span>6.16</span> -0.26%<span class=\"blind\">상승</span></span>\n",
       " </div>\n",
       " <table cellpadding=\"0\" cellspacing=\"0\" class=\"table_kos_index\" summary=\"코스피 주요시세 정보에 관한 표입니다.\">\n",
       " <caption>코스피 주요시세</caption>\n",
       " <tr>\n",
       " <th class=\"th\"><span class=\"blind\">거래량(천주)</span></th>\n",
       " <td class=\"td\" id=\"quant\">528,974</td>\n",
       " <th class=\"th2\"><span class=\"blind\">거래대금(백만)</span></th>\n",
       " <td class=\"td2\" id=\"amount\">7,079,653</td>\n",
       " </tr>\n",
       " <tr>\n",
       " <th><span class=\"blind\">장중최고</span></th>\n",
       " <td class=\"td\" id=\"high_value\">2,418.89</td>\n",
       " <th><span class=\"blind\">장중최저</span></th>\n",
       " <td class=\"td2\" id=\"low_value\">2,385.87</td>\n",
       " </tr>\n",
       " <tr>\n",
       " <th><span class=\"blind\">52주최고</span></th>\n",
       " <td class=\"td\">2,458.17</td>\n",
       " <th><span class=\"blind\">52주최저</span></th>\n",
       " <td class=\"td2\">1,439.43</td>\n",
       " </tr>\n",
       " <tr>\n",
       " <th class=\"th\"><span class=\"blind\">등락/종목</span></th>\n",
       " <td class=\"td3\" colspan=\"3\">\n",
       " <ul>\n",
       " <li class=\"lst\"><span class=\"blind\">상한종목수</span><a href=\"/sise/sise_upper.nhn\"><span>1</span></a></li>\n",
       " <li class=\"lst2\"><span class=\"blind\">상승종목수</span><a href=\"/sise/sise_rise.nhn\"><span>249</span></a></li>\n",
       " <li class=\"lst3\"><span class=\"blind\">보합종목수</span><a href=\"/sise/sise_steady.nhn\"><span>58</span></a></li>\n",
       " <li class=\"lst4\"><span class=\"blind\">하락종목수</span><a href=\"/sise/sise_fall.nhn\"><span>597</span></a></li>\n",
       " <li class=\"lst5\"><span class=\"blind\">하한종목수</span><a href=\"/sise/sise_lower.nhn\"><span>0</span></a></li>\n",
       " </ul>\n",
       " </td>\n",
       " </tr>\n",
       " </table>\n",
       " </div>]"
      ]
     },
     "execution_count": 11,
     "metadata": {},
     "output_type": "execute_result"
    }
   ],
   "source": [
    "info = soup.find_all('div', class_=\"subtop_sise_detail\")\n",
    "info"
   ]
  },
  {
   "cell_type": "code",
   "execution_count": 12,
   "metadata": {},
   "outputs": [
    {
     "data": {
      "text/plain": [
       "'2,458.17'"
      ]
     },
     "execution_count": 12,
     "metadata": {},
     "output_type": "execute_result"
    }
   ],
   "source": [
    "info[0].find_all(\"td\", class_='td')[2].text  # 52주 최고"
   ]
  },
  {
   "cell_type": "code",
   "execution_count": 13,
   "metadata": {},
   "outputs": [
    {
     "data": {
      "text/plain": [
       "'1,439.43'"
      ]
     },
     "execution_count": 13,
     "metadata": {},
     "output_type": "execute_result"
    }
   ],
   "source": [
    "info[0].find_all(\"td\", class_='td2')[2].text # 52주 최저"
   ]
  },
  {
   "cell_type": "code",
   "execution_count": null,
   "metadata": {},
   "outputs": [],
   "source": []
  }
 ],
 "metadata": {
  "kernelspec": {
   "display_name": "Python 3",
   "language": "python",
   "name": "python3"
  },
  "language_info": {
   "codemirror_mode": {
    "name": "ipython",
    "version": 3
   },
   "file_extension": ".py",
   "mimetype": "text/x-python",
   "name": "python",
   "nbconvert_exporter": "python",
   "pygments_lexer": "ipython3",
   "version": "3.8.3"
  }
 },
 "nbformat": 4,
 "nbformat_minor": 2
}
