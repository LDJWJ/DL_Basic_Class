{
 "cells": [
  {
   "cell_type": "markdown",
   "metadata": {},
   "source": [
    "### 네이버 주식 정보 가져와 보기-실습2"
   ]
  },
  {
   "cell_type": "markdown",
   "metadata": {},
   "source": [
    "### 정보 가져오기에 앞서 페이지 확인해 보기\n",
    "```\n",
    "https://finance.naver.com/robots.txt\n",
    "    \n",
    "User-agent: *\n",
    "Disallow: /\n",
    "User-agent: yeti\n",
    "Disallow: /\n",
    "Allow: /sise/\n",
    "Allow: /research/\n",
    "Allow: /marketindex/\n",
    "Allow: /fund/\n",
    "Disallow : /fund/news/\n",
    "Disallow : /marketindex/news/\n",
    "```"
   ]
  },
  {
   "cell_type": "code",
   "execution_count": 7,
   "metadata": {},
   "outputs": [],
   "source": [
    "from urllib.request import urlopen\n",
    "from bs4 import BeautifulSoup"
   ]
  },
  {
   "cell_type": "markdown",
   "metadata": {},
   "source": [
    "### 관심 종목의 주식 정보를 for문을 이용하여 가져와 보기"
   ]
  },
  {
   "cell_type": "markdown",
   "metadata": {},
   "source": [
    "* 예외 케이스 \n",
    " * 태그가 보이지 화면상에서는 보이지 않을 때\n",
    " * 소스 코드 보기를 이용하여 찾는 방법"
   ]
  },
  {
   "cell_type": "code",
   "execution_count": 15,
   "metadata": {},
   "outputs": [],
   "source": [
    "## 삼성전자 : 005930\n",
    "## 카카오   : 035720\n",
    "## 유한양행 : 000100"
   ]
  },
  {
   "cell_type": "code",
   "execution_count": 16,
   "metadata": {},
   "outputs": [],
   "source": [
    "my_stock = ['삼성전자', '카카오', '유한양행', 'NAVER']\n",
    "my_stock_code = ['005930','035720', '000100', '035420']"
   ]
  },
  {
   "cell_type": "code",
   "execution_count": 17,
   "metadata": {},
   "outputs": [],
   "source": [
    "chk_url = 'https://finance.naver.com/item/main.nhn?code=000100'\n",
    "page = urlopen(chk_url)\n",
    "soup = BeautifulSoup(page, 'lxml')"
   ]
  },
  {
   "cell_type": "markdown",
   "metadata": {},
   "source": [
    "### 제목 가져오기"
   ]
  },
  {
   "cell_type": "code",
   "execution_count": 18,
   "metadata": {},
   "outputs": [
    {
     "data": {
      "text/plain": [
       "<title>유한양행 : 네이버 금융</title>"
      ]
     },
     "execution_count": 18,
     "metadata": {},
     "output_type": "execute_result"
    }
   ],
   "source": [
    "soup.title"
   ]
  },
  {
   "cell_type": "markdown",
   "metadata": {},
   "source": [
    "* 먼저 정보가 포함되는 부분에 대한 부분을 찾는다.\n",
    "* 태그가 보이지 않아, 웹 페이지 소스 보기를 통해 원하는 정보를 찾는다.\n",
    "* 정보가 포함된 부분의 class 'no_today'을 검색\n",
    "   * 해당 되는 부분에 우리가 원하는 정보를 가져올 수 있는지 확인한다."
   ]
  },
  {
   "cell_type": "code",
   "execution_count": 19,
   "metadata": {},
   "outputs": [
    {
     "data": {
      "text/plain": [
       "'65,000'"
      ]
     },
     "execution_count": 19,
     "metadata": {},
     "output_type": "execute_result"
    }
   ],
   "source": [
    "soup.find('p', class_='no_today').find('span', class_='blind').text"
   ]
  },
  {
   "cell_type": "code",
   "execution_count": 20,
   "metadata": {},
   "outputs": [],
   "source": [
    "base_url = 'https://finance.naver.com/item/main.nhn?code='"
   ]
  },
  {
   "cell_type": "code",
   "execution_count": 21,
   "metadata": {},
   "outputs": [
    {
     "name": "stdout",
     "output_type": "stream",
     "text": [
      "['삼성전자', '삼성전자', '삼성전자', '삼성전자']\n",
      "['60,400', '371,500', '65,000', '292,000']\n"
     ]
    }
   ],
   "source": [
    "com = []    # 회사명\n",
    "price_c = []  # 가격\n",
    "\n",
    "for code in my_stock_code:\n",
    "    cnt = 0   # 회사명 선택을 위한 count\n",
    "    all_url = base_url + code\n",
    "    page = urlopen(all_url)\n",
    "    soup = BeautifulSoup(page, 'lxml')\n",
    "    \n",
    "    ## 현재가\n",
    "    tmp = soup.find('p', class_='no_today')\n",
    "    price = tmp.find('span', class_='blind').text\n",
    "\n",
    "    com.append(my_stock[cnt])\n",
    "    price_c.append(price)\n",
    "    \n",
    "    cnt += 1\n",
    "    \n",
    "print(com)\n",
    "print(price_c)"
   ]
  },
  {
   "cell_type": "code",
   "execution_count": 22,
   "metadata": {},
   "outputs": [],
   "source": [
    "import pandas as pd"
   ]
  },
  {
   "cell_type": "code",
   "execution_count": 23,
   "metadata": {},
   "outputs": [],
   "source": [
    "dic_dat = {'회사명':com, '주가':price_c}\n",
    "dat = pd.DataFrame( dic_dat )\n",
    "dat.to_csv(\"date_0118.xlsx\", index=False)"
   ]
  },
  {
   "cell_type": "code",
   "execution_count": 25,
   "metadata": {},
   "outputs": [
    {
     "name": "stdout",
     "output_type": "stream",
     "text": [
      " C 드라이브의 볼륨에는 이름이 없습니다.\n",
      " 볼륨 일련 번호: 2C14-882B\n",
      "\n",
      " C:\\Users\\hp\\Documents\\GitHub\\AI_enovation\\part02_library 디렉터리\n",
      "\n",
      "2020-10-12  오후 09:28               112 date_0118.xlsx\n",
      "               1개 파일                 112 바이트\n",
      "               0개 디렉터리  78,452,830,208 바이트 남음\n"
     ]
    }
   ],
   "source": [
    "# 파일 생성 확인 (리눅스 환경 !ls, 원도우 !dir로 확인 가능)\n",
    "!dir *date*"
   ]
  },
  {
   "cell_type": "code",
   "execution_count": null,
   "metadata": {},
   "outputs": [],
   "source": []
  }
 ],
 "metadata": {
  "kernelspec": {
   "display_name": "Python 3",
   "language": "python",
   "name": "python3"
  },
  "language_info": {
   "codemirror_mode": {
    "name": "ipython",
    "version": 3
   },
   "file_extension": ".py",
   "mimetype": "text/x-python",
   "name": "python",
   "nbconvert_exporter": "python",
   "pygments_lexer": "ipython3",
   "version": "3.8.3"
  }
 },
 "nbformat": 4,
 "nbformat_minor": 2
}
